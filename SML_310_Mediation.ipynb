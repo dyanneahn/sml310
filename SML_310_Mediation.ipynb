{
  "nbformat": 4,
  "nbformat_minor": 0,
  "metadata": {
    "colab": {
      "provenance": [],
      "authorship_tag": "ABX9TyP0F8b5JhFvguhaitS1gnMY"
    },
    "kernelspec": {
      "name": "python3",
      "display_name": "Python 3"
    },
    "language_info": {
      "name": "python"
    }
  },
  "cells": [
    {
      "cell_type": "code",
      "source": [
        "# Sources\n",
        "# https://www.statsmodels.org/dev/generated/statsmodels.stats.mediation.Mediation.html"
      ],
      "metadata": {
        "id": "gu52CG-IgGLs"
      },
      "execution_count": null,
      "outputs": []
    },
    {
      "cell_type": "code",
      "execution_count": null,
      "metadata": {
        "id": "1PGIlM3SQyoT"
      },
      "outputs": [],
      "source": [
        "import pandas as pd\n",
        "import numpy as np\n",
        "import statsmodels.api as sm\n",
        "import statsmodels.formula.api as smf\n",
        "import statistics\n",
        "from scipy import stats\n",
        "from sklearn.impute import SimpleImputer\n",
        "from statsmodels.stats.mediation import Mediation"
      ]
    },
    {
      "cell_type": "code",
      "source": [
        "from google.colab import drive\n",
        "drive.mount('/content/drive')"
      ],
      "metadata": {
        "id": "aimqjW9SQ3Rm"
      },
      "execution_count": null,
      "outputs": []
    },
    {
      "cell_type": "code",
      "source": [
        "df = pd.read_csv('/content/drive/MyDrive/Junior/Dyanne JP/ABCD_Release4.0_Tabular_Dataset.csv')\n",
        "df_baseline = df[df['eventname'] == 'baseline_year_1_arm_1']\n",
        "df_2year = df[df['eventname'] == '2_year_follow_up_y_arm_1']"
      ],
      "metadata": {
        "id": "d48JunLsSyA1"
      },
      "execution_count": null,
      "outputs": []
    },
    {
      "cell_type": "code",
      "source": [
        "baseline_2year = pd.merge(df_baseline, df_2year, on='subjectkey', how='left', suffixes=('_baseline', '_2year'))"
      ],
      "metadata": {
        "id": "ZA107UuCS4uT"
      },
      "execution_count": null,
      "outputs": []
    },
    {
      "cell_type": "code",
      "source": [
        "baseline_2year.dropna(subset=['eventname_2year'], inplace=True)"
      ],
      "metadata": {
        "id": "2XeZa9-2S7C1"
      },
      "execution_count": null,
      "outputs": []
    },
    {
      "cell_type": "code",
      "source": [
        "check = ['nihtbx_picvocab_uncorrected_baseline','nihtbx_picvocab_uncorrected_2year','nihtbx_flanker_uncorrected_baseline',\n",
        "         'nihtbx_flanker_uncorrected_2year','nihtbx_pattern_uncorrected_baseline','nihtbx_pattern_uncorrected_2year',\n",
        "         'nihtbx_picture_uncorrected_baseline','nihtbx_picture_uncorrected_2year','nihtbx_reading_uncorrected_baseline',\n",
        "         'nihtbx_reading_uncorrected_2year','nihtbx_cryst_uncorrected_baseline','nihtbx_cryst_uncorrected_2year']\n",
        "\n",
        "cleaned = baseline_2year.dropna(subset=check)\n",
        "#(7172,1055)\n",
        "\n",
        "# drop columns that only have NaN values\n",
        "cleaned.dropna(axis=1, how='all', inplace=True)\n",
        "#(7172,892)\n",
        "\n",
        "print('Number of participants with all 5 test scores')\n",
        "print(cleaned.shape[0])"
      ],
      "metadata": {
        "id": "__oLs3p9S91R"
      },
      "execution_count": null,
      "outputs": []
    },
    {
      "cell_type": "code",
      "source": [
        "non_numeric_columns = cleaned.select_dtypes(exclude=['number']).columns\n",
        "\n",
        "print(\"Non-numeric columns:\", non_numeric_columns.tolist())"
      ],
      "metadata": {
        "id": "rPCTPmAxTAVM"
      },
      "execution_count": null,
      "outputs": []
    },
    {
      "cell_type": "code",
      "source": [
        "(cleaned['sex_baseline']==cleaned['sex_2year']).sum()"
      ],
      "metadata": {
        "id": "DKeTFgrBTDhn"
      },
      "execution_count": null,
      "outputs": []
    },
    {
      "cell_type": "code",
      "source": [
        "cleaned = cleaned.drop('sex_2year',axis=1)"
      ],
      "metadata": {
        "id": "Qhw8ScgkTEbQ"
      },
      "execution_count": null,
      "outputs": []
    },
    {
      "cell_type": "code",
      "source": [
        "cleaned['sex_baseline'] = cleaned['sex_baseline'].replace({'M': 0, 'F': 1})"
      ],
      "metadata": {
        "id": "lpTv9QOKTFZZ"
      },
      "execution_count": null,
      "outputs": []
    },
    {
      "cell_type": "code",
      "source": [
        "def medianimpute(df):\n",
        "    # Create a copy of the DataFrame to avoid changing the original data\n",
        "    df_imputed = df.copy()\n",
        "\n",
        "    # Identify numeric columns by data type\n",
        "    numeric_cols = df_imputed.select_dtypes(include=[np.number]).columns\n",
        "\n",
        "    # Define the imputer with a median strategy\n",
        "    imputer = SimpleImputer(strategy='median')\n",
        "\n",
        "    # Apply the imputer only to the numeric columns\n",
        "    df_imputed[numeric_cols] = imputer.fit_transform(df_imputed[numeric_cols])\n",
        "\n",
        "    return df_imputed"
      ],
      "metadata": {
        "id": "9P99BppoTGSa"
      },
      "execution_count": null,
      "outputs": []
    },
    {
      "cell_type": "code",
      "source": [
        "imputed = medianimpute(cleaned)"
      ],
      "metadata": {
        "id": "SjwKSbdBTIbs"
      },
      "execution_count": null,
      "outputs": []
    },
    {
      "cell_type": "code",
      "source": [
        "# # nest family in ABCD study site for LME random effect\n",
        "# imputed['site_family'] = imputed['abcd_site_baseline'].astype(str) + \"_\" + imputed['family_id_baseline'].astype(str)\n",
        "# imputed['site_family'] = imputed['abcd_site_2year'].astype(str) + \"_\" + imputed['family_id_baseline'].astype(str)"
      ],
      "metadata": {
        "id": "5YRZD5KsTJW6"
      },
      "execution_count": null,
      "outputs": []
    },
    {
      "cell_type": "code",
      "source": [
        "df_low = imputed[(imputed['income_baseline'] >= 1) & (imputed['income_baseline'] < 7)]\n",
        "df_med = imputed[imputed['income_baseline'].isin([7])]\n",
        "df_high = imputed[(imputed['income_baseline'] > 7) & (imputed['income_baseline'] <= 10)]"
      ],
      "metadata": {
        "id": "PKU-Kiv_TLIc"
      },
      "execution_count": null,
      "outputs": []
    },
    {
      "cell_type": "code",
      "source": [
        "low_diff = pd.DataFrame({\n",
        "    'low_diff_picvocab': df_low['nihtbx_picvocab_uncorrected_2year'] - df_low['nihtbx_picvocab_uncorrected_baseline'],\n",
        "    'low_diff_flanker': df_low['nihtbx_flanker_uncorrected_2year'] - df_low['nihtbx_flanker_uncorrected_baseline'],\n",
        "    'low_diff_pattern': df_low['nihtbx_pattern_uncorrected_2year'] - df_low['nihtbx_pattern_uncorrected_baseline'],\n",
        "    'low_diff_picture': df_low['nihtbx_picture_uncorrected_2year'] - df_low['nihtbx_picture_uncorrected_baseline'],\n",
        "    'low_diff_reading': df_low['nihtbx_reading_uncorrected_2year'] - df_low['nihtbx_reading_uncorrected_baseline']\n",
        "})\n",
        "\n",
        "high_diff = pd.DataFrame({\n",
        "    'high_diff_picvocab': df_high['nihtbx_picvocab_uncorrected_2year'] - df_high['nihtbx_picvocab_uncorrected_baseline'],\n",
        "    'high_diff_flanker': df_high['nihtbx_flanker_uncorrected_2year'] - df_high['nihtbx_flanker_uncorrected_baseline'],\n",
        "    'high_diff_pattern': df_high['nihtbx_pattern_uncorrected_2year'] - df_high['nihtbx_pattern_uncorrected_baseline'],\n",
        "    'high_diff_picture': df_high['nihtbx_picture_uncorrected_2year'] - df_high['nihtbx_picture_uncorrected_baseline'],\n",
        "    'high_diff_reading': df_high['nihtbx_reading_uncorrected_2year'] - df_high['nihtbx_reading_uncorrected_baseline']\n",
        "})\n",
        "\n",
        "df_low = pd.concat([df_low, low_diff], axis=1)\n",
        "df_high = pd.concat([df_high, high_diff], axis=1)"
      ],
      "metadata": {
        "id": "vc4Rl3HV7EmX"
      },
      "execution_count": null,
      "outputs": []
    },
    {
      "cell_type": "code",
      "source": [
        "low_picvocab_neg = df_low[df_low['low_diff_picvocab']<0]\n",
        "high_picvocab_neg = df_high[df_high['high_diff_picvocab']<0]\n",
        "low_picvocab_pos = df_low[df_low['low_diff_picvocab']>0]\n",
        "high_picvocab_pos = df_high[df_high['high_diff_picvocab']>0]\n",
        "\n",
        "low_flanker_neg = df_low[df_low['low_diff_flanker']<0]\n",
        "high_flanker_neg = df_high[df_high['high_diff_flanker']<0]\n",
        "low_flanker_pos = df_low[df_low['low_diff_flanker']>0]\n",
        "high_flanker_pos = df_high[df_high['high_diff_flanker']>0]\n",
        "\n",
        "low_pattern_neg = df_low[df_low['low_diff_pattern']<0]\n",
        "high_pattern_neg = df_high[df_high['high_diff_pattern']<0]\n",
        "low_pattern_pos = df_low[df_low['low_diff_pattern']>0]\n",
        "high_pattern_pos = df_high[df_high['high_diff_pattern']>0]\n",
        "\n",
        "low_picture_neg = df_low[df_low['low_diff_picture']<0]\n",
        "high_picture_neg = df_high[df_high['high_diff_picture']<0]\n",
        "low_picture_pos = df_low[df_low['low_diff_picture']>0]\n",
        "high_picture_pos = df_high[df_high['high_diff_picture']>0]\n",
        "\n",
        "low_reading_neg = df_low[df_low['low_diff_reading']<0]\n",
        "high_reading_neg = df_high[df_high['high_diff_reading']<0]\n",
        "low_reading_pos = df_low[df_low['low_diff_reading']>0]\n",
        "high_reading_pos = df_high[df_high['high_diff_reading']>0]"
      ],
      "metadata": {
        "id": "-klzRKEPTMUT"
      },
      "execution_count": null,
      "outputs": []
    },
    {
      "cell_type": "code",
      "source": [
        "import matplotlib.pyplot as plt"
      ],
      "metadata": {
        "id": "rCGWIz3lR0uh"
      },
      "execution_count": null,
      "outputs": []
    },
    {
      "cell_type": "code",
      "source": [
        "# Specify the model for the outcome\n",
        "outcome_model = sm.OLS.from_formula('nihtbx_picvocab_uncorrected_2year ~ ELS_total_2year + income_baseline + high_educ_baseline + sex_baseline + race_ethnicity_baseline + age_2year + married_baseline + bmi_2year', data=low_picvocab_neg)\n",
        "\n",
        "# Specify the model for the mediator\n",
        "mediator_model = sm.OLS.from_formula('ELS_total_2year ~ income_baseline + high_educ_baseline + sex_baseline + race_ethnicity_baseline + age_2year + married_baseline + bmi_2year', data=low_picvocab_neg)\n",
        "\n",
        "# Set up the mediation analysis model\n",
        "med = Mediation(outcome_model, mediator_model, 'income_baseline', 'ELS_total_2year')\n",
        "\n",
        "# Fit the mediation model\n",
        "med_result = med.fit()\n",
        "\n",
        "# Print the results\n",
        "print(med_result.summary())"
      ],
      "metadata": {
        "id": "fyLr_lqsWHQ6"
      },
      "execution_count": null,
      "outputs": []
    },
    {
      "cell_type": "code",
      "source": [
        "model = smf.ols('ELS_total_2year ~ income_baseline + high_educ_baseline + sex_baseline + race_ethnicity_baseline + age_2year + married_baseline + bmi_2year', data=low_picvocab_neg).fit()\n",
        "\n",
        "# Print the summary of the regression model\n",
        "print(model.summary())"
      ],
      "metadata": {
        "id": "mFtIQ5MHyeHq"
      },
      "execution_count": null,
      "outputs": []
    },
    {
      "cell_type": "code",
      "source": [
        "# Specify the model for the outcome\n",
        "outcome_model = sm.OLS.from_formula('nihtbx_picvocab_uncorrected_2year ~ ELS_total_2year + income_baseline + high_educ_baseline + sex_baseline + race_ethnicity_baseline + age_2year + married_baseline + bmi_2year', data=low_picvocab_pos)\n",
        "\n",
        "# Specify the model for the mediator\n",
        "mediator_model = sm.OLS.from_formula('ELS_total_2year ~ income_baseline + high_educ_baseline + sex_baseline + race_ethnicity_baseline + age_2year + married_baseline + bmi_2year', data=low_picvocab_pos)\n",
        "\n",
        "# Set up the mediation analysis model\n",
        "med = Mediation(outcome_model, mediator_model, 'income_baseline', 'ELS_total_2year')\n",
        "\n",
        "# Fit the mediation model\n",
        "med_result = med.fit()\n",
        "\n",
        "# Print the results\n",
        "print(med_result.summary())"
      ],
      "metadata": {
        "id": "SORfh4FCdpnc"
      },
      "execution_count": null,
      "outputs": []
    },
    {
      "cell_type": "code",
      "source": [
        "model = smf.ols('ELS_total_2year ~ income_baseline + high_educ_baseline + sex_baseline + race_ethnicity_baseline + age_2year + married_baseline + bmi_2year', data=low_picvocab_pos).fit()\n",
        "\n",
        "# Print the summary of the regression model\n",
        "print(model.summary())"
      ],
      "metadata": {
        "id": "dswNlH6fWVXr"
      },
      "execution_count": null,
      "outputs": []
    },
    {
      "cell_type": "code",
      "source": [
        "# Specify the model for the outcome\n",
        "outcome_model = sm.OLS.from_formula('nihtbx_picvocab_uncorrected_2year ~ ELS_total_2year + income_baseline + high_educ_baseline + sex_baseline + race_ethnicity_baseline + age_2year + married_baseline + bmi_2year', data=high_picvocab_neg)\n",
        "\n",
        "# Specify the model for the mediator\n",
        "mediator_model = sm.OLS.from_formula('ELS_total_2year ~ income_baseline + high_educ_baseline + sex_baseline + race_ethnicity_baseline + age_2year + married_baseline + bmi_2year', data=high_picvocab_neg)\n",
        "\n",
        "# Set up the mediation analysis model\n",
        "med = Mediation(outcome_model, mediator_model, 'income_baseline', 'ELS_total_2year')\n",
        "\n",
        "# Fit the mediation model\n",
        "med_result = med.fit()\n",
        "\n",
        "# Print the results\n",
        "print(med_result.summary())"
      ],
      "metadata": {
        "id": "PJRq5B2rW-Hm"
      },
      "execution_count": null,
      "outputs": []
    },
    {
      "cell_type": "code",
      "source": [
        "model = smf.ols('ELS_total_2year ~ income_baseline + high_educ_baseline + sex_baseline + race_ethnicity_baseline + age_2year + married_baseline + bmi_2year', data=high_picvocab_neg).fit()\n",
        "\n",
        "# Print the summary of the regression model\n",
        "print(model.summary())"
      ],
      "metadata": {
        "id": "ujq3sceXYxHh"
      },
      "execution_count": null,
      "outputs": []
    },
    {
      "cell_type": "code",
      "source": [
        "# Specify the model for the outcome\n",
        "outcome_model = sm.OLS.from_formula('nihtbx_picvocab_uncorrected_2year ~ ELS_total_2year + income_baseline + high_educ_baseline + sex_baseline + race_ethnicity_baseline + age_2year + married_baseline + bmi_2year', data=high_picvocab_pos)\n",
        "\n",
        "# Specify the model for the mediator\n",
        "mediator_model = sm.OLS.from_formula('ELS_total_2year ~ income_baseline + high_educ_baseline + sex_baseline + race_ethnicity_baseline + age_2year + married_baseline + bmi_2year', data=high_picvocab_pos)\n",
        "\n",
        "# Set up the mediation analysis model\n",
        "med = Mediation(outcome_model, mediator_model, 'income_baseline', 'ELS_total_2year')\n",
        "\n",
        "# Fit the mediation model\n",
        "med_result = med.fit()\n",
        "\n",
        "# Print the results\n",
        "print(med_result.summary())"
      ],
      "metadata": {
        "id": "PVsXYpMdXyO3"
      },
      "execution_count": null,
      "outputs": []
    },
    {
      "cell_type": "code",
      "source": [
        "model = smf.ols('ELS_total_2year ~ income_baseline + high_educ_baseline + sex_baseline + race_ethnicity_baseline + age_2year + married_baseline + bmi_2year', data=high_picvocab_pos).fit()\n",
        "\n",
        "# Print the summary of the regression model\n",
        "print(model.summary())"
      ],
      "metadata": {
        "id": "AHUxGikhbRiS"
      },
      "execution_count": null,
      "outputs": []
    },
    {
      "cell_type": "code",
      "source": [
        "# Specify the model for the outcome\n",
        "outcome_model = sm.OLS.from_formula('nihtbx_picvocab_uncorrected_2year ~ neuroticismauto_baseline + income_baseline + high_educ_baseline + sex_baseline + race_ethnicity_baseline + age_2year + married_baseline + bmi_2year', data=low_picvocab_neg)\n",
        "\n",
        "# Specify the model for the mediator\n",
        "mediator_model = sm.OLS.from_formula('neuroticismauto_baseline ~ income_baseline + high_educ_baseline + sex_baseline + race_ethnicity_baseline + age_2year + married_baseline + bmi_2year', data=low_picvocab_neg)\n",
        "\n",
        "# Set up the mediation analysis model\n",
        "med = Mediation(outcome_model, mediator_model, 'income_baseline', 'neuroticismauto_baseline')\n",
        "\n",
        "# Fit the mediation model\n",
        "med_result = med.fit()\n",
        "\n",
        "# Print the results\n",
        "print(med_result.summary())"
      ],
      "metadata": {
        "id": "E06gUgl2bvcB"
      },
      "execution_count": null,
      "outputs": []
    },
    {
      "cell_type": "code",
      "source": [
        "model = smf.ols('neuroticismauto_baseline ~ income_baseline + high_educ_baseline + sex_baseline + race_ethnicity_baseline + age_2year + married_baseline + bmi_2year', data=low_picvocab_neg).fit()\n",
        "\n",
        "# Print the summary of the regression model\n",
        "print(model.summary())"
      ],
      "metadata": {
        "id": "-onJ1zTQbvcO"
      },
      "execution_count": null,
      "outputs": []
    },
    {
      "cell_type": "code",
      "source": [
        "# Specify the model for the outcome\n",
        "outcome_model = sm.OLS.from_formula('nihtbx_picvocab_uncorrected_2year ~ neuroticismauto_baseline + income_baseline + high_educ_baseline + sex_baseline + race_ethnicity_baseline + age_2year + married_baseline + bmi_2year', data=low_picvocab_pos)\n",
        "\n",
        "# Specify the model for the mediator\n",
        "mediator_model = sm.OLS.from_formula('neuroticismauto_baseline ~ income_baseline + high_educ_baseline + sex_baseline + race_ethnicity_baseline + age_2year + married_baseline + bmi_2year', data=low_picvocab_pos)\n",
        "\n",
        "# Set up the mediation analysis model\n",
        "med = Mediation(outcome_model, mediator_model, 'income_baseline', 'neuroticismauto_baseline')\n",
        "\n",
        "# Fit the mediation model\n",
        "med_result = med.fit()\n",
        "\n",
        "# Print the results\n",
        "print(med_result.summary())"
      ],
      "metadata": {
        "id": "V3eTAKJIbvcO"
      },
      "execution_count": null,
      "outputs": []
    },
    {
      "cell_type": "code",
      "source": [
        "model = smf.ols('neuroticismauto_baseline ~ income_baseline + high_educ_baseline + sex_baseline + race_ethnicity_baseline + age_2year + married_baseline + bmi_2year', data=low_picvocab_pos).fit()\n",
        "\n",
        "# Print the summary of the regression model\n",
        "print(model.summary())"
      ],
      "metadata": {
        "id": "PaIyiV8HbvcO"
      },
      "execution_count": null,
      "outputs": []
    },
    {
      "cell_type": "code",
      "source": [
        "# Specify the model for the outcome\n",
        "outcome_model = sm.OLS.from_formula('nihtbx_picvocab_uncorrected_2year ~ neuroticismauto_baseline + income_baseline + high_educ_baseline + sex_baseline + race_ethnicity_baseline + age_2year + married_baseline + bmi_2year', data=high_picvocab_neg)\n",
        "\n",
        "# Specify the model for the mediator\n",
        "mediator_model = sm.OLS.from_formula('neuroticismauto_baseline ~ income_baseline + high_educ_baseline + sex_baseline + race_ethnicity_baseline + age_2year + married_baseline + bmi_2year', data=high_picvocab_neg)\n",
        "\n",
        "# Set up the mediation analysis model\n",
        "med = Mediation(outcome_model, mediator_model, 'income_baseline', 'neuroticismauto_baseline')\n",
        "\n",
        "# Fit the mediation model\n",
        "med_result = med.fit()\n",
        "\n",
        "# Print the results\n",
        "print(med_result.summary())"
      ],
      "metadata": {
        "id": "8otLt0ZVbvcO"
      },
      "execution_count": null,
      "outputs": []
    },
    {
      "cell_type": "code",
      "source": [
        "model = smf.ols('neuroticismauto_baseline ~ income_baseline + high_educ_baseline + sex_baseline + race_ethnicity_baseline + age_2year + married_baseline + bmi_2year', data=high_picvocab_neg).fit()\n",
        "\n",
        "# Print the summary of the regression model\n",
        "print(model.summary())"
      ],
      "metadata": {
        "id": "gxICIxHcbvcO"
      },
      "execution_count": null,
      "outputs": []
    },
    {
      "cell_type": "code",
      "source": [
        "# Specify the model for the outcome\n",
        "outcome_model = sm.OLS.from_formula('nihtbx_picvocab_uncorrected_2year ~ neuroticismauto_baseline + income_baseline + high_educ_baseline + sex_baseline + race_ethnicity_baseline + age_2year + married_baseline + bmi_2year', data=high_picvocab_pos)\n",
        "\n",
        "# Specify the model for the mediator\n",
        "mediator_model = sm.OLS.from_formula('neuroticismauto_baseline ~ income_baseline + high_educ_baseline + sex_baseline + race_ethnicity_baseline + age_2year + married_baseline + bmi_2year', data=high_picvocab_pos)\n",
        "\n",
        "# Set up the mediation analysis model\n",
        "med = Mediation(outcome_model, mediator_model, 'income_baseline', 'neuroticismauto_baseline')\n",
        "\n",
        "# Fit the mediation model\n",
        "med_result = med.fit()\n",
        "\n",
        "# Print the results\n",
        "print(med_result.summary())"
      ],
      "metadata": {
        "id": "PkQq8EwtbvcP"
      },
      "execution_count": null,
      "outputs": []
    },
    {
      "cell_type": "code",
      "source": [
        "model = smf.ols('neuroticismauto_baseline ~ income_baseline + high_educ_baseline + sex_baseline + race_ethnicity_baseline + age_2year + married_baseline + bmi_2year', data=high_picvocab_pos).fit()\n",
        "\n",
        "# Print the summary of the regression model\n",
        "print(model.summary())"
      ],
      "metadata": {
        "id": "T2IHrdlsbvcP"
      },
      "execution_count": null,
      "outputs": []
    },
    {
      "cell_type": "code",
      "source": [
        "# Specify the model for the outcome\n",
        "outcome_model = sm.OLS.from_formula('nihtbx_picvocab_uncorrected_2year ~ screentime_maturegames_baseline + income_baseline + high_educ_baseline + sex_baseline + race_ethnicity_baseline + age_2year + married_baseline + bmi_2year', data=low_picvocab_neg)\n",
        "\n",
        "# Specify the model for the mediator\n",
        "mediator_model = sm.OLS.from_formula('screentime_maturegames_baseline ~ income_baseline + high_educ_baseline + sex_baseline + race_ethnicity_baseline + age_2year + married_baseline + bmi_2year', data=low_picvocab_neg)\n",
        "\n",
        "# Set up the mediation analysis model\n",
        "med = Mediation(outcome_model, mediator_model, 'income_baseline', 'screentime_maturegames_baseline')\n",
        "\n",
        "# Fit the mediation model\n",
        "med_result = med.fit()\n",
        "\n",
        "# Print the results\n",
        "print(med_result.summary())"
      ],
      "metadata": {
        "id": "9ajUFljPcJ84"
      },
      "execution_count": null,
      "outputs": []
    },
    {
      "cell_type": "code",
      "source": [
        "model = smf.ols('screentime_maturegames_baseline ~ income_baseline + high_educ_baseline + sex_baseline + race_ethnicity_baseline + age_2year + married_baseline + bmi_2year', data=low_picvocab_neg).fit()\n",
        "\n",
        "# Print the summary of the regression model\n",
        "print(model.summary())"
      ],
      "metadata": {
        "id": "AAb5qi2JcJ9E"
      },
      "execution_count": null,
      "outputs": []
    },
    {
      "cell_type": "code",
      "source": [
        "# Specify the model for the outcome\n",
        "outcome_model = sm.OLS.from_formula('nihtbx_picvocab_uncorrected_2year ~ screentime_maturegames_baseline + income_baseline + high_educ_baseline + sex_baseline + race_ethnicity_baseline + age_2year + married_baseline + bmi_2year', data=low_picvocab_pos)\n",
        "\n",
        "# Specify the model for the mediator\n",
        "mediator_model = sm.OLS.from_formula('screentime_maturegames_baseline ~ income_baseline + high_educ_baseline + sex_baseline + race_ethnicity_baseline + age_2year + married_baseline + bmi_2year', data=low_picvocab_pos)\n",
        "\n",
        "# Set up the mediation analysis model\n",
        "med = Mediation(outcome_model, mediator_model, 'income_baseline', 'screentime_maturegames_baseline')\n",
        "\n",
        "# Fit the mediation model\n",
        "med_result = med.fit()\n",
        "\n",
        "# Print the results\n",
        "print(med_result.summary())"
      ],
      "metadata": {
        "id": "7fRaWV6LcJ9E"
      },
      "execution_count": null,
      "outputs": []
    },
    {
      "cell_type": "code",
      "source": [
        "model = smf.ols('screentime_maturegames_baseline ~ income_baseline + high_educ_baseline + sex_baseline + race_ethnicity_baseline + age_2year + married_baseline + bmi_2year', data=low_picvocab_pos).fit()\n",
        "\n",
        "# Print the summary of the regression model\n",
        "print(model.summary())"
      ],
      "metadata": {
        "id": "a69ttm-ocJ9E"
      },
      "execution_count": null,
      "outputs": []
    },
    {
      "cell_type": "code",
      "source": [
        "# Specify the model for the outcome\n",
        "outcome_model = sm.OLS.from_formula('nihtbx_picvocab_uncorrected_2year ~ screentime_maturegames_baseline + income_baseline + high_educ_baseline + sex_baseline + race_ethnicity_baseline + age_2year + married_baseline + bmi_2year', data=high_picvocab_neg)\n",
        "\n",
        "# Specify the model for the mediator\n",
        "mediator_model = sm.OLS.from_formula('screentime_maturegames_baseline ~ income_baseline + high_educ_baseline + sex_baseline + race_ethnicity_baseline + age_2year + married_baseline + bmi_2year', data=high_picvocab_neg)\n",
        "\n",
        "# Set up the mediation analysis model\n",
        "med = Mediation(outcome_model, mediator_model, 'income_baseline', 'screentime_maturegames_baseline')\n",
        "\n",
        "# Fit the mediation model\n",
        "med_result = med.fit()\n",
        "\n",
        "# Print the results\n",
        "print(med_result.summary())"
      ],
      "metadata": {
        "id": "EsoYwXF5cJ9E"
      },
      "execution_count": null,
      "outputs": []
    },
    {
      "cell_type": "code",
      "source": [
        "model = smf.ols('screentime_maturegames_baseline ~ income_baseline + high_educ_baseline + sex_baseline + race_ethnicity_baseline + age_2year + married_baseline + bmi_2year', data=high_picvocab_neg).fit()\n",
        "\n",
        "# Print the summary of the regression model\n",
        "print(model.summary())"
      ],
      "metadata": {
        "id": "BkpT8O0gcJ9E"
      },
      "execution_count": null,
      "outputs": []
    },
    {
      "cell_type": "code",
      "source": [
        "# Specify the model for the outcome\n",
        "outcome_model = sm.OLS.from_formula('nihtbx_picvocab_uncorrected_2year ~ screentime_maturegames_baseline + income_baseline + high_educ_baseline + sex_baseline + race_ethnicity_baseline + age_2year + married_baseline + bmi_2year', data=high_picvocab_pos)\n",
        "\n",
        "# Specify the model for the mediator\n",
        "mediator_model = sm.OLS.from_formula('screentime_maturegames_baseline ~ income_baseline + high_educ_baseline + sex_baseline + race_ethnicity_baseline + age_2year + married_baseline + bmi_2year', data=high_picvocab_pos)\n",
        "\n",
        "# Set up the mediation analysis model\n",
        "med = Mediation(outcome_model, mediator_model, 'income_baseline', 'screentime_maturegames_baseline')\n",
        "\n",
        "# Fit the mediation model\n",
        "med_result = med.fit()\n",
        "\n",
        "# Print the results\n",
        "print(med_result.summary())"
      ],
      "metadata": {
        "id": "9shiVkHEcJ9E"
      },
      "execution_count": null,
      "outputs": []
    },
    {
      "cell_type": "code",
      "source": [
        "model = smf.ols('screentime_maturegames_baseline ~ income_baseline + high_educ_baseline + sex_baseline + race_ethnicity_baseline + age_2year + married_baseline + bmi_2year', data=high_picvocab_pos).fit()\n",
        "\n",
        "# Print the summary of the regression model\n",
        "print(model.summary())"
      ],
      "metadata": {
        "id": "gDRq_tKDcJ9F"
      },
      "execution_count": null,
      "outputs": []
    },
    {
      "cell_type": "code",
      "source": [
        "# Specify the model for the outcome\n",
        "outcome_model = sm.OLS.from_formula('nihtbx_picvocab_uncorrected_2year ~ screentime_wkday_p_baseline + income_baseline + high_educ_baseline + sex_baseline + race_ethnicity_baseline + age_2year + married_baseline + bmi_2year', data=low_picvocab_neg)\n",
        "\n",
        "# Specify the model for the mediator\n",
        "mediator_model = sm.OLS.from_formula('screentime_wkday_p_baseline ~ income_baseline + high_educ_baseline + sex_baseline + race_ethnicity_baseline + age_2year + married_baseline + bmi_2year', data=low_picvocab_neg)\n",
        "\n",
        "# Set up the mediation analysis model\n",
        "med = Mediation(outcome_model, mediator_model, 'income_baseline', 'screentime_wkday_p_baseline')\n",
        "\n",
        "# Fit the mediation model\n",
        "med_result = med.fit()\n",
        "\n",
        "# Print the results\n",
        "print(med_result.summary())"
      ],
      "metadata": {
        "id": "jxpuEd6fcbiV"
      },
      "execution_count": null,
      "outputs": []
    },
    {
      "cell_type": "code",
      "source": [
        "model = smf.ols('screentime_wkday_p_baseline ~ income_baseline + high_educ_baseline + sex_baseline + race_ethnicity_baseline + age_2year + married_baseline + bmi_2year', data=low_picvocab_neg).fit()\n",
        "\n",
        "# Print the summary of the regression model\n",
        "print(model.summary())"
      ],
      "metadata": {
        "id": "nSIUtv7gcbih"
      },
      "execution_count": null,
      "outputs": []
    },
    {
      "cell_type": "code",
      "source": [
        "# Specify the model for the outcome\n",
        "outcome_model = sm.OLS.from_formula('nihtbx_picvocab_uncorrected_2year ~ screentime_wkday_p_baseline + income_baseline + high_educ_baseline + sex_baseline + race_ethnicity_baseline + age_2year + married_baseline + bmi_2year', data=low_picvocab_pos)\n",
        "\n",
        "# Specify the model for the mediator\n",
        "mediator_model = sm.OLS.from_formula('screentime_wkday_p_baseline ~ income_baseline + high_educ_baseline + sex_baseline + race_ethnicity_baseline + age_2year + married_baseline + bmi_2year', data=low_picvocab_pos)\n",
        "\n",
        "# Set up the mediation analysis model\n",
        "med = Mediation(outcome_model, mediator_model, 'income_baseline', 'screentime_wkday_p_baseline')\n",
        "\n",
        "# Fit the mediation model\n",
        "med_result = med.fit()\n",
        "\n",
        "# Print the results\n",
        "print(med_result.summary())"
      ],
      "metadata": {
        "id": "zLr_QxPNcbih"
      },
      "execution_count": null,
      "outputs": []
    },
    {
      "cell_type": "code",
      "source": [
        "model = smf.ols('screentime_wkday_p_baseline ~ income_baseline + high_educ_baseline + sex_baseline + race_ethnicity_baseline + age_2year + married_baseline + bmi_2year', data=low_picvocab_pos).fit()\n",
        "\n",
        "# Print the summary of the regression model\n",
        "print(model.summary())"
      ],
      "metadata": {
        "id": "GiVoISyQcbih"
      },
      "execution_count": null,
      "outputs": []
    },
    {
      "cell_type": "code",
      "source": [
        "# Specify the model for the outcome\n",
        "outcome_model = sm.OLS.from_formula('nihtbx_picvocab_uncorrected_2year ~ screentime_wkday_p_baseline + income_baseline + high_educ_baseline + sex_baseline + race_ethnicity_baseline + age_2year + married_baseline + bmi_2year', data=high_picvocab_neg)\n",
        "\n",
        "# Specify the model for the mediator\n",
        "mediator_model = sm.OLS.from_formula('screentime_wkday_p_baseline ~ income_baseline + high_educ_baseline + sex_baseline + race_ethnicity_baseline + age_2year + married_baseline + bmi_2year', data=high_picvocab_neg)\n",
        "\n",
        "# Set up the mediation analysis model\n",
        "med = Mediation(outcome_model, mediator_model, 'income_baseline', 'screentime_wkday_p_baseline')\n",
        "\n",
        "# Fit the mediation model\n",
        "med_result = med.fit()\n",
        "\n",
        "# Print the results\n",
        "print(med_result.summary())"
      ],
      "metadata": {
        "id": "yCEwreppcbii"
      },
      "execution_count": null,
      "outputs": []
    },
    {
      "cell_type": "code",
      "source": [
        "model = smf.ols('screentime_wkday_p_baseline ~ income_baseline + high_educ_baseline + sex_baseline + race_ethnicity_baseline + age_2year + married_baseline + bmi_2year', data=high_picvocab_neg).fit()\n",
        "\n",
        "# Print the summary of the regression model\n",
        "print(model.summary())"
      ],
      "metadata": {
        "id": "f_BwDXdJcbii"
      },
      "execution_count": null,
      "outputs": []
    },
    {
      "cell_type": "code",
      "source": [
        "# Specify the model for the outcome\n",
        "outcome_model = sm.OLS.from_formula('nihtbx_picvocab_uncorrected_2year ~ screentime_wkday_p_baseline + income_baseline + high_educ_baseline + sex_baseline + race_ethnicity_baseline + age_2year + married_baseline + bmi_2year', data=high_picvocab_pos)\n",
        "\n",
        "# Specify the model for the mediator\n",
        "mediator_model = sm.OLS.from_formula('screentime_wkday_p_baseline ~ income_baseline + high_educ_baseline + sex_baseline + race_ethnicity_baseline + age_2year + married_baseline + bmi_2year', data=high_picvocab_pos)\n",
        "\n",
        "# Set up the mediation analysis model\n",
        "med = Mediation(outcome_model, mediator_model, 'income_baseline', 'screentime_wkday_p_baseline')\n",
        "\n",
        "# Fit the mediation model\n",
        "med_result = med.fit()\n",
        "\n",
        "# Print the results\n",
        "print(med_result.summary())"
      ],
      "metadata": {
        "id": "wI_ojVn6cbii"
      },
      "execution_count": null,
      "outputs": []
    },
    {
      "cell_type": "code",
      "source": [
        "model = smf.ols('screentime_wkday_p_baseline ~ income_baseline + high_educ_baseline + sex_baseline + race_ethnicity_baseline + age_2year + married_baseline + bmi_2year', data=high_picvocab_pos).fit()\n",
        "\n",
        "# Print the summary of the regression model\n",
        "print(model.summary())"
      ],
      "metadata": {
        "id": "yKmeB_6Ocbii"
      },
      "execution_count": null,
      "outputs": []
    },
    {
      "cell_type": "code",
      "source": [
        "# Specify the model for the outcome\n",
        "outcome_model = sm.OLS.from_formula('nihtbx_flanker_uncorrected_2year ~ good_school_baseline + income_baseline + high_educ_baseline + sex_baseline + race_ethnicity_baseline + age_2year + married_baseline + bmi_2year', data=low_flanker_neg)\n",
        "\n",
        "# Specify the model for the mediator\n",
        "mediator_model = sm.OLS.from_formula('good_school_baseline ~ income_baseline + high_educ_baseline + sex_baseline + race_ethnicity_baseline + age_2year + married_baseline + bmi_2year', data=low_flanker_neg)\n",
        "\n",
        "# Set up the mediation analysis model\n",
        "med = Mediation(outcome_model, mediator_model, 'income_baseline', 'good_school_baseline')\n",
        "\n",
        "# Fit the mediation model\n",
        "med_result = med.fit()\n",
        "\n",
        "# Print the results\n",
        "print(med_result.summary())"
      ],
      "metadata": {
        "id": "nNCpxHGEtv4C"
      },
      "execution_count": null,
      "outputs": []
    },
    {
      "cell_type": "code",
      "source": [
        "model = smf.ols('good_school_baseline ~ income_baseline + high_educ_baseline + sex_baseline + race_ethnicity_baseline + age_2year + married_baseline + bmi_2year', data=low_flanker_neg).fit()\n",
        "\n",
        "# Print the summary of the regression model\n",
        "print(model.summary())"
      ],
      "metadata": {
        "id": "k7DZiiJatv4D"
      },
      "execution_count": null,
      "outputs": []
    },
    {
      "cell_type": "code",
      "source": [
        "# Specify the model for the outcome\n",
        "outcome_model = sm.OLS.from_formula('nihtbx_flanker_uncorrected_2year ~ good_school_baseline + income_baseline + high_educ_baseline + sex_baseline + race_ethnicity_baseline + age_2year + married_baseline + bmi_2year', data=low_flanker_pos)\n",
        "\n",
        "# Specify the model for the mediator\n",
        "mediator_model = sm.OLS.from_formula('good_school_baseline ~ income_baseline + high_educ_baseline + sex_baseline + race_ethnicity_baseline + age_2year + married_baseline + bmi_2year', data=low_flanker_pos)\n",
        "\n",
        "# Set up the mediation analysis model\n",
        "med = Mediation(outcome_model, mediator_model, 'income_baseline', 'good_school_baseline')\n",
        "\n",
        "# Fit the mediation model\n",
        "med_result = med.fit()\n",
        "\n",
        "# Print the results\n",
        "print(med_result.summary())"
      ],
      "metadata": {
        "id": "bbU5Jzy7t7RN"
      },
      "execution_count": null,
      "outputs": []
    },
    {
      "cell_type": "code",
      "source": [
        "model = smf.ols('good_school_baseline ~ income_baseline + high_educ_baseline + sex_baseline + race_ethnicity_baseline + age_2year + married_baseline + bmi_2year', data=low_flanker_pos).fit()\n",
        "\n",
        "# Print the summary of the regression model\n",
        "print(model.summary())"
      ],
      "metadata": {
        "id": "whrhBG7Tt7Ra"
      },
      "execution_count": null,
      "outputs": []
    },
    {
      "cell_type": "code",
      "source": [
        "# Specify the model for the outcome\n",
        "outcome_model = sm.OLS.from_formula('nihtbx_flanker_uncorrected_2year ~ good_school_baseline + income_baseline + high_educ_baseline + sex_baseline + race_ethnicity_baseline + age_2year + married_baseline + bmi_2year', data=high_flanker_neg)\n",
        "\n",
        "# Specify the model for the mediator\n",
        "mediator_model = sm.OLS.from_formula('good_school_baseline ~ income_baseline + high_educ_baseline + sex_baseline + race_ethnicity_baseline + age_2year + married_baseline + bmi_2year', data=high_flanker_neg)\n",
        "\n",
        "# Set up the mediation analysis model\n",
        "med = Mediation(outcome_model, mediator_model, 'income_baseline', 'good_school_baseline')\n",
        "\n",
        "# Fit the mediation model\n",
        "med_result = med.fit()\n",
        "\n",
        "# Print the results\n",
        "print(med_result.summary())"
      ],
      "metadata": {
        "id": "ariWbkb1uBr1"
      },
      "execution_count": null,
      "outputs": []
    },
    {
      "cell_type": "code",
      "source": [
        "model = smf.ols('good_school_baseline ~ income_baseline + high_educ_baseline + sex_baseline + race_ethnicity_baseline + age_2year + married_baseline + bmi_2year', data=high_flanker_neg).fit()\n",
        "\n",
        "# Print the summary of the regression model\n",
        "print(model.summary())"
      ],
      "metadata": {
        "id": "o5UQhVDauBsA"
      },
      "execution_count": null,
      "outputs": []
    },
    {
      "cell_type": "code",
      "source": [
        "# Specify the model for the outcome\n",
        "outcome_model = sm.OLS.from_formula('nihtbx_flanker_uncorrected_2year ~ good_school_baseline + income_baseline + high_educ_baseline + sex_baseline + race_ethnicity_baseline + age_2year + married_baseline + bmi_2year', data=high_flanker_pos)\n",
        "\n",
        "# Specify the model for the mediator\n",
        "mediator_model = sm.OLS.from_formula('good_school_baseline ~ income_baseline + high_educ_baseline + sex_baseline + race_ethnicity_baseline + age_2year + married_baseline + bmi_2year', data=high_flanker_pos)\n",
        "\n",
        "# Set up the mediation analysis model\n",
        "med = Mediation(outcome_model, mediator_model, 'income_baseline', 'good_school_baseline')\n",
        "\n",
        "# Fit the mediation model\n",
        "med_result = med.fit()\n",
        "\n",
        "# Print the results\n",
        "print(med_result.summary())"
      ],
      "metadata": {
        "id": "BW5Z-khruF6K"
      },
      "execution_count": null,
      "outputs": []
    },
    {
      "cell_type": "code",
      "source": [
        "model = smf.ols('good_school_baseline ~ income_baseline + high_educ_baseline + sex_baseline + race_ethnicity_baseline + age_2year + married_baseline + bmi_2year', data=high_flanker_pos).fit()\n",
        "\n",
        "# Print the summary of the regression model\n",
        "print(model.summary())"
      ],
      "metadata": {
        "id": "mqR0aAsnuHpO"
      },
      "execution_count": null,
      "outputs": []
    },
    {
      "cell_type": "code",
      "source": [
        "# Specify the model for the outcome\n",
        "outcome_model = sm.OLS.from_formula('nihtbx_flanker_uncorrected_2year ~ bpm_total_t_2year + income_baseline + high_educ_baseline + sex_baseline + race_ethnicity_baseline + age_2year + married_baseline + bmi_2year', data=low_flanker_neg)\n",
        "\n",
        "# Specify the model for the mediator\n",
        "mediator_model = sm.OLS.from_formula('bpm_total_t_2year ~ income_baseline + high_educ_baseline + sex_baseline + race_ethnicity_baseline + age_2year + married_baseline + bmi_2year', data=low_flanker_neg)\n",
        "\n",
        "# Set up the mediation analysis model\n",
        "med = Mediation(outcome_model, mediator_model, 'income_baseline', 'bpm_total_t_2year')\n",
        "\n",
        "# Fit the mediation model\n",
        "med_result = med.fit()\n",
        "\n",
        "# Print the results\n",
        "print(med_result.summary())"
      ],
      "metadata": {
        "id": "w6ZXHhifuMVY"
      },
      "execution_count": null,
      "outputs": []
    },
    {
      "cell_type": "code",
      "source": [
        "model = smf.ols('bpm_total_t_2year ~ income_baseline + high_educ_baseline + sex_baseline + race_ethnicity_baseline + age_2year + married_baseline + bmi_2year', data=low_flanker_neg).fit()\n",
        "\n",
        "# Print the summary of the regression model\n",
        "print(model.summary())"
      ],
      "metadata": {
        "id": "uKgxzV1EuUxu"
      },
      "execution_count": null,
      "outputs": []
    },
    {
      "cell_type": "code",
      "source": [
        "# Specify the model for the outcome\n",
        "outcome_model = sm.OLS.from_formula('nihtbx_flanker_uncorrected_2year ~ bpm_total_t_2year + income_baseline + high_educ_baseline + sex_baseline + race_ethnicity_baseline + age_2year + married_baseline + bmi_2year', data=high_flanker_neg)\n",
        "\n",
        "# Specify the model for the mediator\n",
        "mediator_model = sm.OLS.from_formula('bpm_total_t_2year ~ income_baseline + high_educ_baseline + sex_baseline + race_ethnicity_baseline + age_2year + married_baseline + bmi_2year', data=high_flanker_neg)\n",
        "\n",
        "# Set up the mediation analysis model\n",
        "med = Mediation(outcome_model, mediator_model, 'income_baseline', 'bpm_total_t_2year')\n",
        "\n",
        "# Fit the mediation model\n",
        "med_result = med.fit()\n",
        "\n",
        "# Print the results\n",
        "print(med_result.summary())"
      ],
      "metadata": {
        "id": "jlNNxHPzuXQV"
      },
      "execution_count": null,
      "outputs": []
    },
    {
      "cell_type": "code",
      "source": [
        "model = smf.ols('bpm_total_t_2year ~ income_baseline + high_educ_baseline + sex_baseline + race_ethnicity_baseline + age_2year + married_baseline + bmi_2year', data=high_flanker_neg).fit()\n",
        "\n",
        "# Print the summary of the regression model\n",
        "print(model.summary())"
      ],
      "metadata": {
        "id": "-mQtC8bqucSA"
      },
      "execution_count": null,
      "outputs": []
    },
    {
      "cell_type": "code",
      "source": [
        "# Specify the model for the outcome\n",
        "outcome_model = sm.OLS.from_formula('nihtbx_flanker_uncorrected_2year ~ bpm_total_t_2year + income_baseline + high_educ_baseline + sex_baseline + race_ethnicity_baseline + age_2year + married_baseline + bmi_2year', data=low_flanker_pos)\n",
        "\n",
        "# Specify the model for the mediator\n",
        "mediator_model = sm.OLS.from_formula('bpm_total_t_2year ~ income_baseline + high_educ_baseline + sex_baseline + race_ethnicity_baseline + age_2year + married_baseline + bmi_2year', data=low_flanker_pos)\n",
        "\n",
        "# Set up the mediation analysis model\n",
        "med = Mediation(outcome_model, mediator_model, 'income_baseline', 'bpm_total_t_2year')\n",
        "\n",
        "# Fit the mediation model\n",
        "med_result = med.fit()\n",
        "\n",
        "# Print the results\n",
        "print(med_result.summary())"
      ],
      "metadata": {
        "id": "4CPrIPKCueaF"
      },
      "execution_count": null,
      "outputs": []
    },
    {
      "cell_type": "code",
      "source": [
        "model = smf.ols('bpm_total_t_2year ~ income_baseline + high_educ_baseline + sex_baseline + race_ethnicity_baseline + age_2year + married_baseline + bmi_2year', data=low_flanker_pos).fit()\n",
        "\n",
        "# Print the summary of the regression model\n",
        "print(model.summary())"
      ],
      "metadata": {
        "id": "nEJM7XloueaR"
      },
      "execution_count": null,
      "outputs": []
    },
    {
      "cell_type": "code",
      "source": [
        "# Specify the model for the outcome\n",
        "outcome_model = sm.OLS.from_formula('nihtbx_flanker_uncorrected_2year ~ bpm_total_t_2year + income_baseline + high_educ_baseline + sex_baseline + race_ethnicity_baseline + age_2year + married_baseline + bmi_2year', data=high_flanker_pos)\n",
        "\n",
        "# Specify the model for the mediator\n",
        "mediator_model = sm.OLS.from_formula('bpm_total_t_2year ~ income_baseline + high_educ_baseline + sex_baseline + race_ethnicity_baseline + age_2year + married_baseline + bmi_2year', data=high_flanker_pos)\n",
        "\n",
        "# Set up the mediation analysis model\n",
        "med = Mediation(outcome_model, mediator_model, 'income_baseline', 'bpm_total_t_2year')\n",
        "\n",
        "# Fit the mediation model\n",
        "med_result = med.fit()\n",
        "\n",
        "# Print the results\n",
        "print(med_result.summary())"
      ],
      "metadata": {
        "id": "DKalRLKjuiG9"
      },
      "execution_count": null,
      "outputs": []
    },
    {
      "cell_type": "code",
      "source": [
        "model = smf.ols('bpm_total_t_2year ~ income_baseline + high_educ_baseline + sex_baseline + race_ethnicity_baseline + age_2year + married_baseline + bmi_2year', data=high_flanker_pos).fit()\n",
        "\n",
        "# Print the summary of the regression model\n",
        "print(model.summary())"
      ],
      "metadata": {
        "id": "N3lHaFfGuiHL"
      },
      "execution_count": null,
      "outputs": []
    },
    {
      "cell_type": "code",
      "source": [
        "# Specify the model for the outcome\n",
        "outcome_model = sm.OLS.from_formula('nihtbx_flanker_uncorrected_2year ~ Cfriends_same_baseline + income_baseline + high_educ_baseline + sex_baseline + race_ethnicity_baseline + age_2year + married_baseline + bmi_2year', data=low_flanker_neg)\n",
        "\n",
        "# Specify the model for the mediator\n",
        "mediator_model = sm.OLS.from_formula('Cfriends_same_baseline ~ income_baseline + high_educ_baseline + sex_baseline + race_ethnicity_baseline + age_2year + married_baseline + bmi_2year', data=low_flanker_neg)\n",
        "\n",
        "# Set up the mediation analysis model\n",
        "med = Mediation(outcome_model, mediator_model, 'income_baseline', 'Cfriends_same_baseline')\n",
        "\n",
        "# Fit the mediation model\n",
        "med_result = med.fit()\n",
        "\n",
        "# Print the results\n",
        "print(med_result.summary())"
      ],
      "metadata": {
        "id": "nnkwcA68uk6y"
      },
      "execution_count": null,
      "outputs": []
    },
    {
      "cell_type": "code",
      "source": [
        "model = smf.ols('Cfriends_same_baseline ~ income_baseline + high_educ_baseline + sex_baseline + race_ethnicity_baseline + age_2year + married_baseline + bmi_2year', data=low_flanker_neg).fit()\n",
        "\n",
        "# Print the summary of the regression model\n",
        "print(model.summary())"
      ],
      "metadata": {
        "id": "-m7pZGlXuk69"
      },
      "execution_count": null,
      "outputs": []
    },
    {
      "cell_type": "code",
      "source": [
        "# Specify the model for the outcome\n",
        "outcome_model = sm.OLS.from_formula('nihtbx_flanker_uncorrected_2year ~ Cfriends_same_baseline + income_baseline + high_educ_baseline + sex_baseline + race_ethnicity_baseline + age_2year + married_baseline + bmi_2year', data=high_flanker_neg)\n",
        "\n",
        "# Specify the model for the mediator\n",
        "mediator_model = sm.OLS.from_formula('Cfriends_same_baseline ~ income_baseline + high_educ_baseline + sex_baseline + race_ethnicity_baseline + age_2year + married_baseline + bmi_2year', data=high_flanker_neg)\n",
        "\n",
        "# Set up the mediation analysis model\n",
        "med = Mediation(outcome_model, mediator_model, 'income_baseline', 'Cfriends_same_baseline')\n",
        "\n",
        "# Fit the mediation model\n",
        "med_result = med.fit()\n",
        "\n",
        "# Print the results\n",
        "print(med_result.summary())"
      ],
      "metadata": {
        "id": "LP0UZPlJuq5V"
      },
      "execution_count": null,
      "outputs": []
    },
    {
      "cell_type": "code",
      "source": [
        "model = smf.ols('Cfriends_same_baseline ~ income_baseline + high_educ_baseline + sex_baseline + race_ethnicity_baseline + age_2year + married_baseline + bmi_2year', data=high_flanker_neg).fit()\n",
        "\n",
        "# Print the summary of the regression model\n",
        "print(model.summary())"
      ],
      "metadata": {
        "id": "KRApG3rquq5j"
      },
      "execution_count": null,
      "outputs": []
    },
    {
      "cell_type": "code",
      "source": [
        "# Specify the model for the outcome\n",
        "outcome_model = sm.OLS.from_formula('nihtbx_flanker_uncorrected_2year ~ Cfriends_same_baseline + income_baseline + high_educ_baseline + sex_baseline + race_ethnicity_baseline + age_2year + married_baseline + bmi_2year', data=low_flanker_pos)\n",
        "\n",
        "# Specify the model for the mediator\n",
        "mediator_model = sm.OLS.from_formula('Cfriends_same_baseline ~ income_baseline + high_educ_baseline + sex_baseline + race_ethnicity_baseline + age_2year + married_baseline + bmi_2year', data=low_flanker_pos)\n",
        "\n",
        "# Set up the mediation analysis model\n",
        "med = Mediation(outcome_model, mediator_model, 'income_baseline', 'Cfriends_same_baseline')\n",
        "\n",
        "# Fit the mediation model\n",
        "med_result = med.fit()\n",
        "\n",
        "# Print the results\n",
        "print(med_result.summary())"
      ],
      "metadata": {
        "id": "QAPpCSf3uvg0"
      },
      "execution_count": null,
      "outputs": []
    },
    {
      "cell_type": "code",
      "source": [
        "model = smf.ols('Cfriends_same_baseline ~ income_baseline + high_educ_baseline + sex_baseline + race_ethnicity_baseline + age_2year + married_baseline + bmi_2year', data=low_flanker_pos).fit()\n",
        "\n",
        "# Print the summary of the regression model\n",
        "print(model.summary())"
      ],
      "metadata": {
        "id": "JRFxTmUluvg9"
      },
      "execution_count": null,
      "outputs": []
    },
    {
      "cell_type": "code",
      "source": [
        "# Specify the model for the outcome\n",
        "outcome_model = sm.OLS.from_formula('nihtbx_flanker_uncorrected_2year ~ Cfriends_same_baseline + income_baseline + high_educ_baseline + sex_baseline + race_ethnicity_baseline + age_2year + married_baseline + bmi_2year', data=high_flanker_pos)\n",
        "\n",
        "# Specify the model for the mediator\n",
        "mediator_model = sm.OLS.from_formula('Cfriends_same_baseline ~ income_baseline + high_educ_baseline + sex_baseline + race_ethnicity_baseline + age_2year + married_baseline + bmi_2year', data=high_flanker_pos)\n",
        "\n",
        "# Set up the mediation analysis model\n",
        "med = Mediation(outcome_model, mediator_model, 'income_baseline', 'Cfriends_same_baseline')\n",
        "\n",
        "# Fit the mediation model\n",
        "med_result = med.fit()\n",
        "\n",
        "# Print the results\n",
        "print(med_result.summary())"
      ],
      "metadata": {
        "id": "i82BAoeluzx0"
      },
      "execution_count": null,
      "outputs": []
    },
    {
      "cell_type": "code",
      "source": [
        "model = smf.ols('Cfriends_same_baseline ~ income_baseline + high_educ_baseline + sex_baseline + race_ethnicity_baseline + age_2year + married_baseline + bmi_2year', data=high_flanker_pos).fit()\n",
        "\n",
        "# Print the summary of the regression model\n",
        "print(model.summary())"
      ],
      "metadata": {
        "id": "VGarSUtzuzyA"
      },
      "execution_count": null,
      "outputs": []
    },
    {
      "cell_type": "code",
      "source": [
        "# Specify the model for the outcome\n",
        "outcome_model = sm.OLS.from_formula('nihtbx_flanker_uncorrected_2year ~ cbcl_totprob_baseline + income_baseline + high_educ_baseline + sex_baseline + race_ethnicity_baseline + age_2year + married_baseline + bmi_2year', data=low_flanker_neg)\n",
        "\n",
        "# Specify the model for the mediator\n",
        "mediator_model = sm.OLS.from_formula('cbcl_totprob_baseline ~ income_baseline + high_educ_baseline + sex_baseline + race_ethnicity_baseline + age_2year + married_baseline + bmi_2year', data=low_flanker_neg)\n",
        "\n",
        "# Set up the mediation analysis model\n",
        "med = Mediation(outcome_model, mediator_model, 'income_baseline', 'cbcl_totprob_baseline')\n",
        "\n",
        "# Fit the mediation model\n",
        "med_result = med.fit()\n",
        "\n",
        "# Print the results\n",
        "print(med_result.summary())"
      ],
      "metadata": {
        "id": "d91LLdxdu8dx"
      },
      "execution_count": null,
      "outputs": []
    },
    {
      "cell_type": "code",
      "source": [
        "model = smf.ols('cbcl_totprob_baseline ~ income_baseline + high_educ_baseline + sex_baseline + race_ethnicity_baseline + age_2year + married_baseline + bmi_2year', data=low_flanker_neg).fit()\n",
        "\n",
        "# Print the summary of the regression model\n",
        "print(model.summary())"
      ],
      "metadata": {
        "id": "hrlnGT2Bu8d9"
      },
      "execution_count": null,
      "outputs": []
    },
    {
      "cell_type": "code",
      "source": [
        "# Specify the model for the outcome\n",
        "outcome_model = sm.OLS.from_formula('nihtbx_flanker_uncorrected_2year ~ cbcl_totprob_baseline + income_baseline + high_educ_baseline + sex_baseline + race_ethnicity_baseline + age_2year + married_baseline + bmi_2year', data=high_flanker_neg)\n",
        "\n",
        "# Specify the model for the mediator\n",
        "mediator_model = sm.OLS.from_formula('cbcl_totprob_baseline ~ income_baseline + high_educ_baseline + sex_baseline + race_ethnicity_baseline + age_2year + married_baseline + bmi_2year', data=high_flanker_neg)\n",
        "\n",
        "# Set up the mediation analysis model\n",
        "med = Mediation(outcome_model, mediator_model, 'income_baseline', 'cbcl_totprob_baseline')\n",
        "\n",
        "# Fit the mediation model\n",
        "med_result = med.fit()\n",
        "\n",
        "# Print the results\n",
        "print(med_result.summary())"
      ],
      "metadata": {
        "id": "g0atyFqVvCqe"
      },
      "execution_count": null,
      "outputs": []
    },
    {
      "cell_type": "code",
      "source": [
        "model = smf.ols('cbcl_totprob_baseline ~ income_baseline + high_educ_baseline + sex_baseline + race_ethnicity_baseline + age_2year + married_baseline + bmi_2year', data=high_flanker_neg).fit()\n",
        "\n",
        "# Print the summary of the regression model\n",
        "print(model.summary())"
      ],
      "metadata": {
        "id": "86apl4i0vCqe"
      },
      "execution_count": null,
      "outputs": []
    },
    {
      "cell_type": "code",
      "source": [
        "# Specify the model for the outcome\n",
        "outcome_model = sm.OLS.from_formula('nihtbx_flanker_uncorrected_2year ~ cbcl_totprob_baseline + income_baseline + high_educ_baseline + sex_baseline + race_ethnicity_baseline + age_2year + married_baseline + bmi_2year', data=low_flanker_pos)\n",
        "\n",
        "# Specify the model for the mediator\n",
        "mediator_model = sm.OLS.from_formula('cbcl_totprob_baseline ~ income_baseline + high_educ_baseline + sex_baseline + race_ethnicity_baseline + age_2year + married_baseline + bmi_2year', data=low_flanker_pos)\n",
        "\n",
        "# Set up the mediation analysis model\n",
        "med = Mediation(outcome_model, mediator_model, 'income_baseline', 'cbcl_totprob_baseline')\n",
        "\n",
        "# Fit the mediation model\n",
        "med_result = med.fit()\n",
        "\n",
        "# Print the results\n",
        "print(med_result.summary())"
      ],
      "metadata": {
        "id": "JSJsm3DEvFkP"
      },
      "execution_count": null,
      "outputs": []
    },
    {
      "cell_type": "code",
      "source": [
        "model = smf.ols('cbcl_totprob_baseline ~ income_baseline + high_educ_baseline + sex_baseline + race_ethnicity_baseline + age_2year + married_baseline + bmi_2year', data=low_flanker_pos).fit()\n",
        "\n",
        "# Print the summary of the regression model\n",
        "print(model.summary())"
      ],
      "metadata": {
        "id": "1mSZAZM2vFkX"
      },
      "execution_count": null,
      "outputs": []
    },
    {
      "cell_type": "code",
      "source": [
        "# Specify the model for the outcome\n",
        "outcome_model = sm.OLS.from_formula('nihtbx_flanker_uncorrected_2year ~ cbcl_totprob_baseline + income_baseline + high_educ_baseline + sex_baseline + race_ethnicity_baseline + age_2year + married_baseline + bmi_2year', data=high_flanker_pos)\n",
        "\n",
        "# Specify the model for the mediator\n",
        "mediator_model = sm.OLS.from_formula('cbcl_totprob_baseline ~ income_baseline + high_educ_baseline + sex_baseline + race_ethnicity_baseline + age_2year + married_baseline + bmi_2year', data=high_flanker_pos)\n",
        "\n",
        "# Set up the mediation analysis model\n",
        "med = Mediation(outcome_model, mediator_model, 'income_baseline', 'cbcl_totprob_baseline')\n",
        "\n",
        "# Fit the mediation model\n",
        "med_result = med.fit()\n",
        "\n",
        "# Print the results\n",
        "print(med_result.summary())"
      ],
      "metadata": {
        "id": "LiHva9J6vJnL"
      },
      "execution_count": null,
      "outputs": []
    },
    {
      "cell_type": "code",
      "source": [
        "model = smf.ols('cbcl_totprob_baseline ~ income_baseline + high_educ_baseline + sex_baseline + race_ethnicity_baseline + age_2year + married_baseline + bmi_2year', data=high_flanker_pos).fit()\n",
        "\n",
        "# Print the summary of the regression model\n",
        "print(model.summary())"
      ],
      "metadata": {
        "id": "fh65SxpkvJnV"
      },
      "execution_count": null,
      "outputs": []
    },
    {
      "cell_type": "code",
      "source": [
        "# Specify the model for the outcome\n",
        "outcome_model = sm.OLS.from_formula('nihtbx_flanker_uncorrected_2year ~ good_school_2year + income_baseline + high_educ_baseline + sex_baseline + race_ethnicity_baseline + age_2year + married_baseline + bmi_2year', data=low_flanker_neg)\n",
        "\n",
        "# Specify the model for the mediator\n",
        "mediator_model = sm.OLS.from_formula('good_school_2year ~ income_baseline + high_educ_baseline + sex_baseline + race_ethnicity_baseline + age_2year + married_baseline + bmi_2year', data=low_flanker_neg)\n",
        "\n",
        "# Set up the mediation analysis model\n",
        "med = Mediation(outcome_model, mediator_model, 'income_baseline', 'good_school_2year')\n",
        "\n",
        "# Fit the mediation model\n",
        "med_result = med.fit()\n",
        "\n",
        "# Print the results\n",
        "print(med_result.summary())"
      ],
      "metadata": {
        "id": "BBacU61yvNSf"
      },
      "execution_count": null,
      "outputs": []
    },
    {
      "cell_type": "code",
      "source": [
        "model = smf.ols('good_school_2year ~ income_baseline + high_educ_baseline + sex_baseline + race_ethnicity_baseline + age_2year + married_baseline + bmi_2year', data=low_flanker_neg).fit()\n",
        "\n",
        "# Print the summary of the regression model\n",
        "print(model.summary())"
      ],
      "metadata": {
        "id": "O2Y1KhNlvNSr"
      },
      "execution_count": null,
      "outputs": []
    },
    {
      "cell_type": "code",
      "source": [
        "# Specify the model for the outcome\n",
        "outcome_model = sm.OLS.from_formula('nihtbx_flanker_uncorrected_2year ~ good_school_2year + income_baseline + high_educ_baseline + sex_baseline + race_ethnicity_baseline + age_2year + married_baseline + bmi_2year', data=high_flanker_neg)\n",
        "\n",
        "# Specify the model for the mediator\n",
        "mediator_model = sm.OLS.from_formula('good_school_2year ~ income_baseline + high_educ_baseline + sex_baseline + race_ethnicity_baseline + age_2year + married_baseline + bmi_2year', data=high_flanker_neg)\n",
        "\n",
        "# Set up the mediation analysis model\n",
        "med = Mediation(outcome_model, mediator_model, 'income_baseline', 'good_school_2year')\n",
        "\n",
        "# Fit the mediation model\n",
        "med_result = med.fit()\n",
        "\n",
        "# Print the results\n",
        "print(med_result.summary())"
      ],
      "metadata": {
        "id": "nFHYwHrFvVnG"
      },
      "execution_count": null,
      "outputs": []
    },
    {
      "cell_type": "code",
      "source": [
        "model = smf.ols('good_school_2year ~ income_baseline + high_educ_baseline + sex_baseline + race_ethnicity_baseline + age_2year + married_baseline + bmi_2year', data=high_flanker_neg).fit()\n",
        "\n",
        "# Print the summary of the regression model\n",
        "print(model.summary())"
      ],
      "metadata": {
        "id": "OET-8243vVnH"
      },
      "execution_count": null,
      "outputs": []
    },
    {
      "cell_type": "code",
      "source": [
        "# Specify the model for the outcome\n",
        "outcome_model = sm.OLS.from_formula('nihtbx_flanker_uncorrected_2year ~ good_school_2year + income_baseline + high_educ_baseline + sex_baseline + race_ethnicity_baseline + age_2year + married_baseline + bmi_2year', data=low_flanker_pos)\n",
        "\n",
        "# Specify the model for the mediator\n",
        "mediator_model = sm.OLS.from_formula('good_school_2year ~ income_baseline + high_educ_baseline + sex_baseline + race_ethnicity_baseline + age_2year + married_baseline + bmi_2year', data=low_flanker_pos)\n",
        "\n",
        "# Set up the mediation analysis model\n",
        "med = Mediation(outcome_model, mediator_model, 'income_baseline', 'good_school_2year')\n",
        "\n",
        "# Fit the mediation model\n",
        "med_result = med.fit()\n",
        "\n",
        "# Print the results\n",
        "print(med_result.summary())"
      ],
      "metadata": {
        "id": "7rjCd9gWvZn7"
      },
      "execution_count": null,
      "outputs": []
    },
    {
      "cell_type": "code",
      "source": [
        "model = smf.ols('good_school_2year ~ income_baseline + high_educ_baseline + sex_baseline + race_ethnicity_baseline + age_2year + married_baseline + bmi_2year', data=low_flanker_pos).fit()\n",
        "\n",
        "# Print the summary of the regression model\n",
        "print(model.summary())"
      ],
      "metadata": {
        "id": "AXmkmkZGvZoK"
      },
      "execution_count": null,
      "outputs": []
    },
    {
      "cell_type": "code",
      "source": [
        "# Specify the model for the outcome\n",
        "outcome_model = sm.OLS.from_formula('nihtbx_flanker_uncorrected_2year ~ good_school_2year + income_baseline + high_educ_baseline + sex_baseline + race_ethnicity_baseline + age_2year + married_baseline + bmi_2year', data=high_flanker_pos)\n",
        "\n",
        "# Specify the model for the mediator\n",
        "mediator_model = sm.OLS.from_formula('good_school_2year ~ income_baseline + high_educ_baseline + sex_baseline + race_ethnicity_baseline + age_2year + married_baseline + bmi_2year', data=high_flanker_pos)\n",
        "\n",
        "# Set up the mediation analysis model\n",
        "med = Mediation(outcome_model, mediator_model, 'income_baseline', 'good_school_2year')\n",
        "\n",
        "# Fit the mediation model\n",
        "med_result = med.fit()\n",
        "\n",
        "# Print the results\n",
        "print(med_result.summary())"
      ],
      "metadata": {
        "id": "HOoSLf9fvcRD"
      },
      "execution_count": null,
      "outputs": []
    },
    {
      "cell_type": "code",
      "source": [
        "model = smf.ols('good_school_2year ~ income_baseline + high_educ_baseline + sex_baseline + race_ethnicity_baseline + age_2year + married_baseline + bmi_2year', data=high_flanker_pos).fit()\n",
        "\n",
        "# Print the summary of the regression model\n",
        "print(model.summary())"
      ],
      "metadata": {
        "id": "dckCLFTpvcRM"
      },
      "execution_count": null,
      "outputs": []
    },
    {
      "cell_type": "code",
      "source": [
        "# Specify the model for the outcome\n",
        "outcome_model = sm.OLS.from_formula('nihtbx_pattern_uncorrected_2year ~ screentime_wkend_y_baseline + income_baseline + high_educ_baseline + sex_baseline + race_ethnicity_baseline + age_2year + married_baseline + bmi_2year', data=low_pattern_neg)\n",
        "\n",
        "# Specify the model for the mediator\n",
        "mediator_model = sm.OLS.from_formula('screentime_wkend_y_baseline ~ income_baseline + high_educ_baseline + sex_baseline + race_ethnicity_baseline + age_2year + married_baseline + bmi_2year', data=low_pattern_neg)\n",
        "\n",
        "# Set up the mediation analysis model\n",
        "med = Mediation(outcome_model, mediator_model, 'income_baseline', 'screentime_wkend_y_baseline')\n",
        "\n",
        "# Fit the mediation model\n",
        "med_result = med.fit()\n",
        "\n",
        "# Print the results\n",
        "print(med_result.summary())"
      ],
      "metadata": {
        "id": "Z_tsWTXJONs9"
      },
      "execution_count": null,
      "outputs": []
    },
    {
      "cell_type": "code",
      "source": [
        "model = smf.ols('screentime_wkend_y_baseline ~ income_baseline + high_educ_baseline + sex_baseline + race_ethnicity_baseline + age_2year + married_baseline + bmi_2year', data=low_pattern_neg).fit()\n",
        "\n",
        "# Print the summary of the regression model\n",
        "print(model.summary())"
      ],
      "metadata": {
        "id": "9jV7KdNKOZOi"
      },
      "execution_count": null,
      "outputs": []
    },
    {
      "cell_type": "code",
      "source": [
        "# Specify the model for the outcome\n",
        "outcome_model = sm.OLS.from_formula('nihtbx_pattern_uncorrected_2year ~ screentime_wkend_y_baseline + income_baseline + high_educ_baseline + sex_baseline + race_ethnicity_baseline + age_2year + married_baseline + bmi_2year', data=high_pattern_neg)\n",
        "\n",
        "# Specify the model for the mediator\n",
        "mediator_model = sm.OLS.from_formula('screentime_wkend_y_baseline ~ income_baseline + high_educ_baseline + sex_baseline + race_ethnicity_baseline + age_2year + married_baseline + bmi_2year', data=high_pattern_neg)\n",
        "\n",
        "# Set up the mediation analysis model\n",
        "med = Mediation(outcome_model, mediator_model, 'income_baseline', 'screentime_wkend_y_baseline')\n",
        "\n",
        "# Fit the mediation model\n",
        "med_result = med.fit()\n",
        "\n",
        "# Print the results\n",
        "print(med_result.summary())"
      ],
      "metadata": {
        "id": "ArVX_dPwOc_n"
      },
      "execution_count": null,
      "outputs": []
    },
    {
      "cell_type": "code",
      "source": [
        "model = smf.ols('screentime_wkend_y_baseline ~ income_baseline + high_educ_baseline + sex_baseline + race_ethnicity_baseline + age_2year + married_baseline + bmi_2year', data=high_pattern_neg).fit()\n",
        "\n",
        "# Print the summary of the regression model\n",
        "print(model.summary())"
      ],
      "metadata": {
        "id": "tNOG456XOc_0"
      },
      "execution_count": null,
      "outputs": []
    },
    {
      "cell_type": "code",
      "source": [
        "# Specify the model for the outcome\n",
        "outcome_model = sm.OLS.from_formula('nihtbx_pattern_uncorrected_2year ~ screentime_wkend_y_baseline + income_baseline + high_educ_baseline + sex_baseline + race_ethnicity_baseline + age_2year + married_baseline + bmi_2year', data=low_pattern_pos)\n",
        "\n",
        "# Specify the model for the mediator\n",
        "mediator_model = sm.OLS.from_formula('screentime_wkend_y_baseline ~ income_baseline + high_educ_baseline + sex_baseline + race_ethnicity_baseline + age_2year + married_baseline + bmi_2year', data=low_pattern_pos)\n",
        "\n",
        "# Set up the mediation analysis model\n",
        "med = Mediation(outcome_model, mediator_model, 'income_baseline', 'screentime_wkend_y_baseline')\n",
        "\n",
        "# Fit the mediation model\n",
        "med_result = med.fit()\n",
        "\n",
        "# Print the results\n",
        "print(med_result.summary())"
      ],
      "metadata": {
        "id": "qnjDMZZIOil3"
      },
      "execution_count": null,
      "outputs": []
    },
    {
      "cell_type": "code",
      "source": [
        "model = smf.ols('screentime_wkend_y_baseline ~ income_baseline + high_educ_baseline + sex_baseline + race_ethnicity_baseline + age_2year + married_baseline + bmi_2year', data=low_pattern_pos).fit()\n",
        "\n",
        "# Print the summary of the regression model\n",
        "print(model.summary())"
      ],
      "metadata": {
        "id": "GZipO-L_Oil4"
      },
      "execution_count": null,
      "outputs": []
    },
    {
      "cell_type": "code",
      "source": [
        "# Specify the model for the outcome\n",
        "outcome_model = sm.OLS.from_formula('nihtbx_pattern_uncorrected_2year ~ screentime_wkend_y_baseline + income_baseline + high_educ_baseline + sex_baseline + race_ethnicity_baseline + age_2year + married_baseline + bmi_2year', data=high_pattern_pos)\n",
        "\n",
        "# Specify the model for the mediator\n",
        "mediator_model = sm.OLS.from_formula('screentime_wkend_y_baseline ~ income_baseline + high_educ_baseline + sex_baseline + race_ethnicity_baseline + age_2year + married_baseline + bmi_2year', data=high_pattern_pos)\n",
        "\n",
        "# Set up the mediation analysis model\n",
        "med = Mediation(outcome_model, mediator_model, 'income_baseline', 'screentime_wkend_y_baseline')\n",
        "\n",
        "# Fit the mediation model\n",
        "med_result = med.fit()\n",
        "\n",
        "# Print the results\n",
        "print(med_result.summary())"
      ],
      "metadata": {
        "id": "m13HzX3sOmU-"
      },
      "execution_count": null,
      "outputs": []
    },
    {
      "cell_type": "code",
      "source": [
        "model = smf.ols('screentime_wkend_y_baseline ~ income_baseline + high_educ_baseline + sex_baseline + race_ethnicity_baseline + age_2year + married_baseline + bmi_2year', data=high_pattern_pos).fit()\n",
        "\n",
        "# Print the summary of the regression model\n",
        "print(model.summary())"
      ],
      "metadata": {
        "id": "tE3U7OBjOmVK"
      },
      "execution_count": null,
      "outputs": []
    },
    {
      "cell_type": "code",
      "source": [
        "# Specify the model for the outcome\n",
        "outcome_model = sm.OLS.from_formula('nihtbx_pattern_uncorrected_2year ~ cbcl_totprob_baseline + income_baseline + high_educ_baseline + sex_baseline + race_ethnicity_baseline + age_2year + married_baseline + bmi_2year', data=low_pattern_neg)\n",
        "\n",
        "# Specify the model for the mediator\n",
        "mediator_model = sm.OLS.from_formula('cbcl_totprob_baseline ~ income_baseline + high_educ_baseline + sex_baseline + race_ethnicity_baseline + age_2year + married_baseline + bmi_2year', data=low_pattern_neg)\n",
        "\n",
        "# Set up the mediation analysis model\n",
        "med = Mediation(outcome_model, mediator_model, 'income_baseline', 'cbcl_totprob_baseline')\n",
        "\n",
        "# Fit the mediation model\n",
        "med_result = med.fit()\n",
        "\n",
        "# Print the results\n",
        "print(med_result.summary())"
      ],
      "metadata": {
        "id": "sGZgqIczOpkI"
      },
      "execution_count": null,
      "outputs": []
    },
    {
      "cell_type": "code",
      "source": [
        "model = smf.ols('cbcl_totprob_baseline ~ income_baseline + high_educ_baseline + sex_baseline + race_ethnicity_baseline + age_2year + married_baseline + bmi_2year', data=low_pattern_neg).fit()\n",
        "\n",
        "# Print the summary of the regression model\n",
        "print(model.summary())"
      ],
      "metadata": {
        "id": "kbwxTQr5OpkU"
      },
      "execution_count": null,
      "outputs": []
    },
    {
      "cell_type": "code",
      "source": [
        "# Specify the model for the outcome\n",
        "outcome_model = sm.OLS.from_formula('nihtbx_pattern_uncorrected_2year ~ cbcl_totprob_baseline + income_baseline + high_educ_baseline + sex_baseline + race_ethnicity_baseline + age_2year + married_baseline + bmi_2year', data=high_pattern_neg)\n",
        "\n",
        "# Specify the model for the mediator\n",
        "mediator_model = sm.OLS.from_formula('cbcl_totprob_baseline ~ income_baseline + high_educ_baseline + sex_baseline + race_ethnicity_baseline + age_2year + married_baseline + bmi_2year', data=high_pattern_neg)\n",
        "\n",
        "# Set up the mediation analysis model\n",
        "med = Mediation(outcome_model, mediator_model, 'income_baseline', 'cbcl_totprob_baseline')\n",
        "\n",
        "# Fit the mediation model\n",
        "med_result = med.fit()\n",
        "\n",
        "# Print the results\n",
        "print(med_result.summary())"
      ],
      "metadata": {
        "id": "c7oaahaXOweE"
      },
      "execution_count": null,
      "outputs": []
    },
    {
      "cell_type": "code",
      "source": [
        "model = smf.ols('cbcl_totprob_baseline ~ income_baseline + high_educ_baseline + sex_baseline + race_ethnicity_baseline + age_2year + married_baseline + bmi_2year', data=high_pattern_neg).fit()\n",
        "\n",
        "# Print the summary of the regression model\n",
        "print(model.summary())"
      ],
      "metadata": {
        "id": "HVI90MO0OweS"
      },
      "execution_count": null,
      "outputs": []
    },
    {
      "cell_type": "code",
      "source": [
        "# Specify the model for the outcome\n",
        "outcome_model = sm.OLS.from_formula('nihtbx_pattern_uncorrected_2year ~ cbcl_totprob_baseline + income_baseline + high_educ_baseline + sex_baseline + race_ethnicity_baseline + age_2year + married_baseline + bmi_2year', data=low_pattern_pos)\n",
        "\n",
        "# Specify the model for the mediator\n",
        "mediator_model = sm.OLS.from_formula('cbcl_totprob_baseline ~ income_baseline + high_educ_baseline + sex_baseline + race_ethnicity_baseline + age_2year + married_baseline + bmi_2year', data=low_pattern_pos)\n",
        "\n",
        "# Set up the mediation analysis model\n",
        "med = Mediation(outcome_model, mediator_model, 'income_baseline', 'cbcl_totprob_baseline')\n",
        "\n",
        "# Fit the mediation model\n",
        "med_result = med.fit()\n",
        "\n",
        "# Print the results\n",
        "print(med_result.summary())"
      ],
      "metadata": {
        "id": "sCuSuzsXO0pc"
      },
      "execution_count": null,
      "outputs": []
    },
    {
      "cell_type": "code",
      "source": [
        "model = smf.ols('cbcl_totprob_baseline ~ income_baseline + high_educ_baseline + sex_baseline + race_ethnicity_baseline + age_2year + married_baseline + bmi_2year', data=low_pattern_pos).fit()\n",
        "\n",
        "# Print the summary of the regression model\n",
        "print(model.summary())"
      ],
      "metadata": {
        "id": "WyUNJodyO0pd"
      },
      "execution_count": null,
      "outputs": []
    },
    {
      "cell_type": "code",
      "source": [
        "# Specify the model for the outcome\n",
        "outcome_model = sm.OLS.from_formula('nihtbx_pattern_uncorrected_2year ~ cbcl_totprob_baseline + income_baseline + high_educ_baseline + sex_baseline + race_ethnicity_baseline + age_2year + married_baseline + bmi_2year', data=high_pattern_pos)\n",
        "\n",
        "# Specify the model for the mediator\n",
        "mediator_model = sm.OLS.from_formula('cbcl_totprob_baseline ~ income_baseline + high_educ_baseline + sex_baseline + race_ethnicity_baseline + age_2year + married_baseline + bmi_2year', data=high_pattern_pos)\n",
        "\n",
        "# Set up the mediation analysis model\n",
        "med = Mediation(outcome_model, mediator_model, 'income_baseline', 'cbcl_totprob_baseline')\n",
        "\n",
        "# Fit the mediation model\n",
        "med_result = med.fit()\n",
        "\n",
        "# Print the results\n",
        "print(med_result.summary())"
      ],
      "metadata": {
        "id": "UcB70TNpO4AH"
      },
      "execution_count": null,
      "outputs": []
    },
    {
      "cell_type": "code",
      "source": [
        "model = smf.ols('cbcl_totprob_baseline ~ income_baseline + high_educ_baseline + sex_baseline + race_ethnicity_baseline + age_2year + married_baseline + bmi_2year', data=high_pattern_pos).fit()\n",
        "\n",
        "# Print the summary of the regression model\n",
        "print(model.summary())"
      ],
      "metadata": {
        "id": "vS4po9X4O4AS"
      },
      "execution_count": null,
      "outputs": []
    },
    {
      "cell_type": "code",
      "source": [
        "# Specify the model for the outcome\n",
        "outcome_model = sm.OLS.from_formula('nihtbx_pattern_uncorrected_2year ~ cpeur2_baseline + income_baseline + high_educ_baseline + sex_baseline + race_ethnicity_baseline + age_2year + married_baseline + bmi_2year', data=low_pattern_neg)\n",
        "\n",
        "# Specify the model for the mediator\n",
        "mediator_model = sm.OLS.from_formula('cpeur2_baseline ~ income_baseline + high_educ_baseline + sex_baseline + race_ethnicity_baseline + age_2year + married_baseline + bmi_2year', data=low_pattern_neg)\n",
        "\n",
        "# Set up the mediation analysis model\n",
        "med = Mediation(outcome_model, mediator_model, 'income_baseline', 'cpeur2_baseline')\n",
        "\n",
        "# Fit the mediation model\n",
        "med_result = med.fit()\n",
        "\n",
        "# Print the results\n",
        "print(med_result.summary())"
      ],
      "metadata": {
        "id": "_mJKXwRy07Yn"
      },
      "execution_count": null,
      "outputs": []
    },
    {
      "cell_type": "code",
      "source": [
        "model = smf.ols('cpeur2_baseline ~ income_baseline + high_educ_baseline + sex_baseline + race_ethnicity_baseline + age_2year + married_baseline + bmi_2year', data=low_pattern_neg).fit()\n",
        "\n",
        "# Print the summary of the regression model\n",
        "print(model.summary())"
      ],
      "metadata": {
        "id": "liqO-7r61Bpj"
      },
      "execution_count": null,
      "outputs": []
    },
    {
      "cell_type": "code",
      "source": [
        "# Specify the model for the outcome\n",
        "outcome_model = sm.OLS.from_formula('nihtbx_pattern_uncorrected_2year ~ cpeur2_baseline + income_baseline + high_educ_baseline + sex_baseline + race_ethnicity_baseline + age_2year + married_baseline + bmi_2year', data=low_pattern_pos)\n",
        "\n",
        "# Specify the model for the mediator\n",
        "mediator_model = sm.OLS.from_formula('cpeur2_baseline ~ income_baseline + high_educ_baseline + sex_baseline + race_ethnicity_baseline + age_2year + married_baseline + bmi_2year', data=low_pattern_pos)\n",
        "\n",
        "# Set up the mediation analysis model\n",
        "med = Mediation(outcome_model, mediator_model, 'income_baseline', 'cpeur2_baseline')\n",
        "\n",
        "# Fit the mediation model\n",
        "med_result = med.fit()\n",
        "\n",
        "# Print the results\n",
        "print(med_result.summary())"
      ],
      "metadata": {
        "id": "DWwL7zfU1Gsb"
      },
      "execution_count": null,
      "outputs": []
    },
    {
      "cell_type": "code",
      "source": [
        "model = smf.ols('cpeur2_baseline ~ income_baseline + high_educ_baseline + sex_baseline + race_ethnicity_baseline + age_2year + married_baseline + bmi_2year', data=low_pattern_pos).fit()\n",
        "\n",
        "# Print the summary of the regression model\n",
        "print(model.summary())"
      ],
      "metadata": {
        "id": "6wS5mJHH1Gsk"
      },
      "execution_count": null,
      "outputs": []
    },
    {
      "cell_type": "code",
      "source": [
        "# Specify the model for the outcome\n",
        "outcome_model = sm.OLS.from_formula('nihtbx_pattern_uncorrected_2year ~ cpeur2_baseline + income_baseline + high_educ_baseline + sex_baseline + race_ethnicity_baseline + age_2year + married_baseline + bmi_2year', data=high_pattern_neg)\n",
        "\n",
        "# Specify the model for the mediator\n",
        "mediator_model = sm.OLS.from_formula('cpeur2_baseline ~ income_baseline + high_educ_baseline + sex_baseline + race_ethnicity_baseline + age_2year + married_baseline + bmi_2year', data=high_pattern_neg)\n",
        "\n",
        "# Set up the mediation analysis model\n",
        "med = Mediation(outcome_model, mediator_model, 'income_baseline', 'cpeur2_baseline')\n",
        "\n",
        "# Fit the mediation model\n",
        "med_result = med.fit()\n",
        "\n",
        "# Print the results\n",
        "print(med_result.summary())"
      ],
      "metadata": {
        "id": "SkZCWce71Kmw"
      },
      "execution_count": null,
      "outputs": []
    },
    {
      "cell_type": "code",
      "source": [
        "model = smf.ols('cpeur2_baseline ~ income_baseline + high_educ_baseline + sex_baseline + race_ethnicity_baseline + age_2year + married_baseline + bmi_2year', data=high_pattern_neg).fit()\n",
        "\n",
        "# Print the summary of the regression model\n",
        "print(model.summary())"
      ],
      "metadata": {
        "id": "GQg-WZdO1Kmx"
      },
      "execution_count": null,
      "outputs": []
    },
    {
      "cell_type": "code",
      "source": [
        "# Specify the model for the outcome\n",
        "outcome_model = sm.OLS.from_formula('nihtbx_pattern_uncorrected_2year ~ cpeur2_baseline + income_baseline + high_educ_baseline + sex_baseline + race_ethnicity_baseline + age_2year + married_baseline + bmi_2year', data=high_pattern_pos)\n",
        "\n",
        "# Specify the model for the mediator\n",
        "mediator_model = sm.OLS.from_formula('cpeur2_baseline ~ income_baseline + high_educ_baseline + sex_baseline + race_ethnicity_baseline + age_2year + married_baseline + bmi_2year', data=high_pattern_pos)\n",
        "\n",
        "# Set up the mediation analysis model\n",
        "med = Mediation(outcome_model, mediator_model, 'income_baseline', 'cpeur2_baseline')\n",
        "\n",
        "# Fit the mediation model\n",
        "med_result = med.fit()\n",
        "\n",
        "# Print the results\n",
        "print(med_result.summary())"
      ],
      "metadata": {
        "id": "W6Riu5K31Oky"
      },
      "execution_count": null,
      "outputs": []
    },
    {
      "cell_type": "code",
      "source": [
        "model = smf.ols('cpeur2_baseline ~ income_baseline + high_educ_baseline + sex_baseline + race_ethnicity_baseline + age_2year + married_baseline + bmi_2year', data=high_pattern_pos).fit()\n",
        "\n",
        "# Print the summary of the regression model\n",
        "print(model.summary())"
      ],
      "metadata": {
        "id": "Q7MfBe2f1OlG"
      },
      "execution_count": null,
      "outputs": []
    },
    {
      "cell_type": "code",
      "source": [
        "# Specify the model for the outcome\n",
        "outcome_model = sm.OLS.from_formula('nihtbx_pattern_uncorrected_2year ~ screentime_wkend_tv_baseline + income_baseline + high_educ_baseline + sex_baseline + race_ethnicity_baseline + age_2year + married_baseline + bmi_2year', data=low_pattern_neg)\n",
        "\n",
        "# Specify the model for the mediator\n",
        "mediator_model = sm.OLS.from_formula('screentime_wkend_tv_baseline ~ income_baseline + high_educ_baseline + sex_baseline + race_ethnicity_baseline + age_2year + married_baseline + bmi_2year', data=low_pattern_neg)\n",
        "\n",
        "# Set up the mediation analysis model\n",
        "med = Mediation(outcome_model, mediator_model, 'income_baseline', 'screentime_wkend_tv_baseline')\n",
        "\n",
        "# Fit the mediation model\n",
        "med_result = med.fit()\n",
        "\n",
        "# Print the results\n",
        "print(med_result.summary())"
      ],
      "metadata": {
        "id": "S-UKF-m81Q41"
      },
      "execution_count": null,
      "outputs": []
    },
    {
      "cell_type": "code",
      "source": [
        "model = smf.ols('screentime_wkend_tv_baseline ~ income_baseline + high_educ_baseline + sex_baseline + race_ethnicity_baseline + age_2year + married_baseline + bmi_2year', data=low_pattern_neg).fit()\n",
        "\n",
        "# Print the summary of the regression model\n",
        "print(model.summary())"
      ],
      "metadata": {
        "id": "G9JQU6SW1Q42"
      },
      "execution_count": null,
      "outputs": []
    },
    {
      "cell_type": "code",
      "source": [
        "# Specify the model for the outcome\n",
        "outcome_model = sm.OLS.from_formula('nihtbx_pattern_uncorrected_2year ~ screentime_wkend_tv_baseline + income_baseline + high_educ_baseline + sex_baseline + race_ethnicity_baseline + age_2year + married_baseline + bmi_2year', data=low_pattern_pos)\n",
        "\n",
        "# Specify the model for the mediator\n",
        "mediator_model = sm.OLS.from_formula('screentime_wkend_tv_baseline ~ income_baseline + high_educ_baseline + sex_baseline + race_ethnicity_baseline + age_2year + married_baseline + bmi_2year', data=low_pattern_pos)\n",
        "\n",
        "# Set up the mediation analysis model\n",
        "med = Mediation(outcome_model, mediator_model, 'income_baseline', 'screentime_wkend_tv_baseline')\n",
        "\n",
        "# Fit the mediation model\n",
        "med_result = med.fit()\n",
        "\n",
        "# Print the results\n",
        "print(med_result.summary())"
      ],
      "metadata": {
        "id": "h1rxlMPJ1Xyj"
      },
      "execution_count": null,
      "outputs": []
    },
    {
      "cell_type": "code",
      "source": [
        "model = smf.ols('screentime_wkend_tv_baseline ~ income_baseline + high_educ_baseline + sex_baseline + race_ethnicity_baseline + age_2year + married_baseline + bmi_2year', data=low_pattern_pos).fit()\n",
        "\n",
        "# Print the summary of the regression model\n",
        "print(model.summary())"
      ],
      "metadata": {
        "id": "Cf1sdSDx1Xys"
      },
      "execution_count": null,
      "outputs": []
    },
    {
      "cell_type": "code",
      "source": [
        "# Specify the model for the outcome\n",
        "outcome_model = sm.OLS.from_formula('nihtbx_pattern_uncorrected_2year ~ screentime_wkend_tv_baseline + income_baseline + high_educ_baseline + sex_baseline + race_ethnicity_baseline + age_2year + married_baseline + bmi_2year', data=high_pattern_neg)\n",
        "\n",
        "# Specify the model for the mediator\n",
        "mediator_model = sm.OLS.from_formula('screentime_wkend_tv_baseline ~ income_baseline + high_educ_baseline + sex_baseline + race_ethnicity_baseline + age_2year + married_baseline + bmi_2year', data=high_pattern_neg)\n",
        "\n",
        "# Set up the mediation analysis model\n",
        "med = Mediation(outcome_model, mediator_model, 'income_baseline', 'screentime_wkend_tv_baseline')\n",
        "\n",
        "# Fit the mediation model\n",
        "med_result = med.fit()\n",
        "\n",
        "# Print the results\n",
        "print(med_result.summary())"
      ],
      "metadata": {
        "id": "wUf4Zczv1aES"
      },
      "execution_count": null,
      "outputs": []
    },
    {
      "cell_type": "code",
      "source": [
        "model = smf.ols('screentime_wkend_tv_baseline ~ income_baseline + high_educ_baseline + sex_baseline + race_ethnicity_baseline + age_2year + married_baseline + bmi_2year', data=high_pattern_neg).fit()\n",
        "\n",
        "# Print the summary of the regression model\n",
        "print(model.summary())"
      ],
      "metadata": {
        "id": "ExHXgkRL1aEU"
      },
      "execution_count": null,
      "outputs": []
    },
    {
      "cell_type": "code",
      "source": [
        "# Specify the model for the outcome\n",
        "outcome_model = sm.OLS.from_formula('nihtbx_pattern_uncorrected_2year ~ screentime_wkend_tv_baseline + income_baseline + high_educ_baseline + sex_baseline + race_ethnicity_baseline + age_2year + married_baseline + bmi_2year', data=high_pattern_pos)\n",
        "\n",
        "# Specify the model for the mediator\n",
        "mediator_model = sm.OLS.from_formula('screentime_wkend_tv_baseline ~ income_baseline + high_educ_baseline + sex_baseline + race_ethnicity_baseline + age_2year + married_baseline + bmi_2year', data=high_pattern_pos)\n",
        "\n",
        "# Set up the mediation analysis model\n",
        "med = Mediation(outcome_model, mediator_model, 'income_baseline', 'screentime_wkend_tv_baseline')\n",
        "\n",
        "# Fit the mediation model\n",
        "med_result = med.fit()\n",
        "\n",
        "# Print the results\n",
        "print(med_result.summary())"
      ],
      "metadata": {
        "id": "PUtB5HFy1dRb"
      },
      "execution_count": null,
      "outputs": []
    },
    {
      "cell_type": "code",
      "source": [
        "model = smf.ols('screentime_wkend_tv_baseline ~ income_baseline + high_educ_baseline + sex_baseline + race_ethnicity_baseline + age_2year + married_baseline + bmi_2year', data=high_pattern_pos).fit()\n",
        "\n",
        "# Print the summary of the regression model\n",
        "print(model.summary())"
      ],
      "metadata": {
        "id": "ElVF3UJH1dRn"
      },
      "execution_count": null,
      "outputs": []
    },
    {
      "cell_type": "code",
      "source": [
        "# Specify the model for the outcome\n",
        "outcome_model = sm.OLS.from_formula('nihtbx_picture_uncorrected_2year ~ cbcl_external_baseline + income_baseline + high_educ_baseline + sex_baseline + race_ethnicity_baseline + age_2year + married_baseline + bmi_2year', data=low_picture_neg)\n",
        "\n",
        "# Specify the model for the mediator\n",
        "mediator_model = sm.OLS.from_formula('cbcl_external_baseline ~ income_baseline + high_educ_baseline + sex_baseline + race_ethnicity_baseline + age_2year + married_baseline + bmi_2year', data=low_picture_neg)\n",
        "\n",
        "# Set up the mediation analysis model\n",
        "med = Mediation(outcome_model, mediator_model, 'income_baseline', 'cbcl_external_baseline')\n",
        "\n",
        "# Fit the mediation model\n",
        "med_result = med.fit()\n",
        "\n",
        "# Print the results\n",
        "print(med_result.summary())"
      ],
      "metadata": {
        "id": "KhOr08Wo1nSl"
      },
      "execution_count": null,
      "outputs": []
    },
    {
      "cell_type": "code",
      "source": [
        "model = smf.ols('cbcl_external_baseline ~ income_baseline + high_educ_baseline + sex_baseline + race_ethnicity_baseline + age_2year + married_baseline + bmi_2year', data=low_picture_neg).fit()\n",
        "\n",
        "# Print the summary of the regression model\n",
        "print(model.summary())"
      ],
      "metadata": {
        "id": "AVFsjayd1nS-"
      },
      "execution_count": null,
      "outputs": []
    },
    {
      "cell_type": "code",
      "source": [
        "# Specify the model for the outcome\n",
        "outcome_model = sm.OLS.from_formula('nihtbx_picture_uncorrected_2year ~ cbcl_external_baseline + income_baseline + high_educ_baseline + sex_baseline + race_ethnicity_baseline + age_2year + married_baseline + bmi_2year', data=low_picture_pos)\n",
        "\n",
        "# Specify the model for the mediator\n",
        "mediator_model = sm.OLS.from_formula('cbcl_external_baseline ~ income_baseline + high_educ_baseline + sex_baseline + race_ethnicity_baseline + age_2year + married_baseline + bmi_2year', data=low_picture_pos)\n",
        "\n",
        "# Set up the mediation analysis model\n",
        "med = Mediation(outcome_model, mediator_model, 'income_baseline', 'cbcl_external_baseline')\n",
        "\n",
        "# Fit the mediation model\n",
        "med_result = med.fit()\n",
        "\n",
        "# Print the results\n",
        "print(med_result.summary())"
      ],
      "metadata": {
        "id": "_qUeB5ms1yvv"
      },
      "execution_count": null,
      "outputs": []
    },
    {
      "cell_type": "code",
      "source": [
        "model = smf.ols('cbcl_external_baseline ~ income_baseline + high_educ_baseline + sex_baseline + race_ethnicity_baseline + age_2year + married_baseline + bmi_2year', data=low_picture_pos).fit()\n",
        "\n",
        "# Print the summary of the regression model\n",
        "print(model.summary())"
      ],
      "metadata": {
        "id": "VDOS4j8e1yv8"
      },
      "execution_count": null,
      "outputs": []
    },
    {
      "cell_type": "code",
      "source": [
        "# Specify the model for the outcome\n",
        "outcome_model = sm.OLS.from_formula('nihtbx_picture_uncorrected_2year ~ cbcl_external_baseline + income_baseline + high_educ_baseline + sex_baseline + race_ethnicity_baseline + age_2year + married_baseline + bmi_2year', data=high_picture_neg)\n",
        "\n",
        "# Specify the model for the mediator\n",
        "mediator_model = sm.OLS.from_formula('cbcl_external_baseline ~ income_baseline + high_educ_baseline + sex_baseline + race_ethnicity_baseline + age_2year + married_baseline + bmi_2year', data=high_picture_neg)\n",
        "\n",
        "# Set up the mediation analysis model\n",
        "med = Mediation(outcome_model, mediator_model, 'income_baseline', 'cbcl_external_baseline')\n",
        "\n",
        "# Fit the mediation model\n",
        "med_result = med.fit()\n",
        "\n",
        "# Print the results\n",
        "print(med_result.summary())"
      ],
      "metadata": {
        "id": "7SyA2Fuc13RC"
      },
      "execution_count": null,
      "outputs": []
    },
    {
      "cell_type": "code",
      "source": [
        "model = smf.ols('cbcl_external_baseline ~ income_baseline + high_educ_baseline + sex_baseline + race_ethnicity_baseline + age_2year + married_baseline + bmi_2year', data=high_picture_neg).fit()\n",
        "\n",
        "# Print the summary of the regression model\n",
        "print(model.summary())"
      ],
      "metadata": {
        "id": "pCvwbwqR13RD"
      },
      "execution_count": null,
      "outputs": []
    },
    {
      "cell_type": "code",
      "source": [
        "# Specify the model for the outcome\n",
        "outcome_model = sm.OLS.from_formula('nihtbx_picture_uncorrected_2year ~ cbcl_external_baseline + income_baseline + high_educ_baseline + sex_baseline + race_ethnicity_baseline + age_2year + married_baseline + bmi_2year', data=high_picture_pos)\n",
        "\n",
        "# Specify the model for the mediator\n",
        "mediator_model = sm.OLS.from_formula('cbcl_external_baseline ~ income_baseline + high_educ_baseline + sex_baseline + race_ethnicity_baseline + age_2year + married_baseline + bmi_2year', data=high_picture_pos)\n",
        "\n",
        "# Set up the mediation analysis model\n",
        "med = Mediation(outcome_model, mediator_model, 'income_baseline', 'cbcl_external_baseline')\n",
        "\n",
        "# Fit the mediation model\n",
        "med_result = med.fit()\n",
        "\n",
        "# Print the results\n",
        "print(med_result.summary())"
      ],
      "metadata": {
        "id": "6WpRag5S17Sm"
      },
      "execution_count": null,
      "outputs": []
    },
    {
      "cell_type": "code",
      "source": [
        "model = smf.ols('cbcl_external_baseline ~ income_baseline + high_educ_baseline + sex_baseline + race_ethnicity_baseline + age_2year + married_baseline + bmi_2year', data=high_picture_pos).fit()\n",
        "\n",
        "# Print the summary of the regression model\n",
        "print(model.summary())"
      ],
      "metadata": {
        "id": "PyWv7UUr17S0"
      },
      "execution_count": null,
      "outputs": []
    },
    {
      "cell_type": "code",
      "source": [
        "# Specify the model for the outcome\n",
        "outcome_model = sm.OLS.from_formula('nihtbx_picture_uncorrected_2year ~ parent_age_baseline + income_baseline + high_educ_baseline + sex_baseline + race_ethnicity_baseline + age_2year + married_baseline + bmi_2year', data=low_picture_neg)\n",
        "\n",
        "# Specify the model for the mediator\n",
        "mediator_model = sm.OLS.from_formula('parent_age_baseline ~ income_baseline + high_educ_baseline + sex_baseline + race_ethnicity_baseline + age_2year + married_baseline + bmi_2year', data=low_picture_neg)\n",
        "\n",
        "# Set up the mediation analysis model\n",
        "med = Mediation(outcome_model, mediator_model, 'income_baseline', 'parent_age_baseline')\n",
        "\n",
        "# Fit the mediation model\n",
        "med_result = med.fit()\n",
        "\n",
        "# Print the results\n",
        "print(med_result.summary())"
      ],
      "metadata": {
        "id": "tPA7gEvJ2A0g"
      },
      "execution_count": null,
      "outputs": []
    },
    {
      "cell_type": "code",
      "source": [
        "model = smf.ols('parent_age_baseline ~ income_baseline + high_educ_baseline + sex_baseline + race_ethnicity_baseline + age_2year + married_baseline + bmi_2year', data=low_picture_neg).fit()\n",
        "\n",
        "# Print the summary of the regression model\n",
        "print(model.summary())"
      ],
      "metadata": {
        "id": "KVyjJh_12A0h"
      },
      "execution_count": null,
      "outputs": []
    },
    {
      "cell_type": "code",
      "source": [
        "# Specify the model for the outcome\n",
        "outcome_model = sm.OLS.from_formula('nihtbx_picture_uncorrected_2year ~ parent_age_baseline + income_baseline + high_educ_baseline + sex_baseline + race_ethnicity_baseline + age_2year + married_baseline + bmi_2year', data=low_picture_pos)\n",
        "\n",
        "# Specify the model for the mediator\n",
        "mediator_model = sm.OLS.from_formula('parent_age_baseline ~ income_baseline + high_educ_baseline + sex_baseline + race_ethnicity_baseline + age_2year + married_baseline + bmi_2year', data=low_picture_pos)\n",
        "\n",
        "# Set up the mediation analysis model\n",
        "med = Mediation(outcome_model, mediator_model, 'income_baseline', 'parent_age_baseline')\n",
        "\n",
        "# Fit the mediation model\n",
        "med_result = med.fit()\n",
        "\n",
        "# Print the results\n",
        "print(med_result.summary())"
      ],
      "metadata": {
        "id": "SRJ__1Y22A0h"
      },
      "execution_count": null,
      "outputs": []
    },
    {
      "cell_type": "code",
      "source": [
        "model = smf.ols('parent_age_baseline ~ income_baseline + high_educ_baseline + sex_baseline + race_ethnicity_baseline + age_2year + married_baseline + bmi_2year', data=low_picture_pos).fit()\n",
        "\n",
        "# Print the summary of the regression model\n",
        "print(model.summary())"
      ],
      "metadata": {
        "id": "32dA1Det2A0i"
      },
      "execution_count": null,
      "outputs": []
    },
    {
      "cell_type": "code",
      "source": [
        "# Specify the model for the outcome\n",
        "outcome_model = sm.OLS.from_formula('nihtbx_picture_uncorrected_2year ~ parent_age_baseline + income_baseline + high_educ_baseline + sex_baseline + race_ethnicity_baseline + age_2year + married_baseline + bmi_2year', data=high_picture_neg)\n",
        "\n",
        "# Specify the model for the mediator\n",
        "mediator_model = sm.OLS.from_formula('parent_age_baseline ~ income_baseline + high_educ_baseline + sex_baseline + race_ethnicity_baseline + age_2year + married_baseline + bmi_2year', data=high_picture_neg)\n",
        "\n",
        "# Set up the mediation analysis model\n",
        "med = Mediation(outcome_model, mediator_model, 'income_baseline', 'parent_age_baseline')\n",
        "\n",
        "# Fit the mediation model\n",
        "med_result = med.fit()\n",
        "\n",
        "# Print the results\n",
        "print(med_result.summary())"
      ],
      "metadata": {
        "id": "_zINTdI_2A0i"
      },
      "execution_count": null,
      "outputs": []
    },
    {
      "cell_type": "code",
      "source": [
        "model = smf.ols('parent_age_baseline ~ income_baseline + high_educ_baseline + sex_baseline + race_ethnicity_baseline + age_2year + married_baseline + bmi_2year', data=high_picture_neg).fit()\n",
        "\n",
        "# Print the summary of the regression model\n",
        "print(model.summary())"
      ],
      "metadata": {
        "id": "t9JYwMhh2A0i"
      },
      "execution_count": null,
      "outputs": []
    },
    {
      "cell_type": "code",
      "source": [
        "# Specify the model for the outcome\n",
        "outcome_model = sm.OLS.from_formula('nihtbx_picture_uncorrected_2year ~ parent_age_baseline + income_baseline + high_educ_baseline + sex_baseline + race_ethnicity_baseline + age_2year + married_baseline + bmi_2year', data=high_picture_pos)\n",
        "\n",
        "# Specify the model for the mediator\n",
        "mediator_model = sm.OLS.from_formula('parent_age_baseline ~ income_baseline + high_educ_baseline + sex_baseline + race_ethnicity_baseline + age_2year + married_baseline + bmi_2year', data=high_picture_pos)\n",
        "\n",
        "# Set up the mediation analysis model\n",
        "med = Mediation(outcome_model, mediator_model, 'income_baseline', 'parent_age_baseline')\n",
        "\n",
        "# Fit the mediation model\n",
        "med_result = med.fit()\n",
        "\n",
        "# Print the results\n",
        "print(med_result.summary())"
      ],
      "metadata": {
        "id": "ZBTFPfan2A0i"
      },
      "execution_count": null,
      "outputs": []
    },
    {
      "cell_type": "code",
      "source": [
        "model = smf.ols('parent_age_baseline ~ income_baseline + high_educ_baseline + sex_baseline + race_ethnicity_baseline + age_2year + married_baseline + bmi_2year', data=high_picture_pos).fit()\n",
        "\n",
        "# Print the summary of the regression model\n",
        "print(model.summary())"
      ],
      "metadata": {
        "id": "tYUe6bNw2A0i"
      },
      "execution_count": null,
      "outputs": []
    },
    {
      "cell_type": "code",
      "source": [
        "# Specify the model for the outcome\n",
        "outcome_model = sm.OLS.from_formula('nihtbx_picture_uncorrected_2year ~ BAS_Drive_baseline + income_baseline + high_educ_baseline + sex_baseline + race_ethnicity_baseline + age_2year + married_baseline + bmi_2year', data=low_picture_neg)\n",
        "\n",
        "# Specify the model for the mediator\n",
        "mediator_model = sm.OLS.from_formula('BAS_Drive_baseline ~ income_baseline + high_educ_baseline + sex_baseline + race_ethnicity_baseline + age_2year + married_baseline + bmi_2year', data=low_picture_neg)\n",
        "\n",
        "# Set up the mediation analysis model\n",
        "med = Mediation(outcome_model, mediator_model, 'income_baseline', 'BAS_Drive_baseline')\n",
        "\n",
        "# Fit the mediation model\n",
        "med_result = med.fit()\n",
        "\n",
        "# Print the results\n",
        "print(med_result.summary())"
      ],
      "metadata": {
        "id": "xLs-AUW62Mqs"
      },
      "execution_count": null,
      "outputs": []
    },
    {
      "cell_type": "code",
      "source": [
        "model = smf.ols('BAS_Drive_baseline ~ income_baseline + high_educ_baseline + sex_baseline + race_ethnicity_baseline + age_2year + married_baseline + bmi_2year', data=low_picture_neg).fit()\n",
        "\n",
        "# Print the summary of the regression model\n",
        "print(model.summary())"
      ],
      "metadata": {
        "id": "IG5zoy6W2Mq7"
      },
      "execution_count": null,
      "outputs": []
    },
    {
      "cell_type": "code",
      "source": [
        "# Specify the model for the outcome\n",
        "outcome_model = sm.OLS.from_formula('nihtbx_picture_uncorrected_2year ~ BAS_Drive_baseline + income_baseline + high_educ_baseline + sex_baseline + race_ethnicity_baseline + age_2year + married_baseline + bmi_2year', data=low_picture_pos)\n",
        "\n",
        "# Specify the model for the mediator\n",
        "mediator_model = sm.OLS.from_formula('BAS_Drive_baseline ~ income_baseline + high_educ_baseline + sex_baseline + race_ethnicity_baseline + age_2year + married_baseline + bmi_2year', data=low_picture_pos)\n",
        "\n",
        "# Set up the mediation analysis model\n",
        "med = Mediation(outcome_model, mediator_model, 'income_baseline', 'BAS_Drive_baseline')\n",
        "\n",
        "# Fit the mediation model\n",
        "med_result = med.fit()\n",
        "\n",
        "# Print the results\n",
        "print(med_result.summary())"
      ],
      "metadata": {
        "id": "TfdzUy412Mq7"
      },
      "execution_count": null,
      "outputs": []
    },
    {
      "cell_type": "code",
      "source": [
        "model = smf.ols('BAS_Drive_baseline ~ income_baseline + high_educ_baseline + sex_baseline + race_ethnicity_baseline + age_2year + married_baseline + bmi_2year', data=low_picture_pos).fit()\n",
        "\n",
        "# Print the summary of the regression model\n",
        "print(model.summary())"
      ],
      "metadata": {
        "id": "7BGoT6vR2Mq7"
      },
      "execution_count": null,
      "outputs": []
    },
    {
      "cell_type": "code",
      "source": [
        "# Specify the model for the outcome\n",
        "outcome_model = sm.OLS.from_formula('nihtbx_picture_uncorrected_2year ~ BAS_Drive_baseline + income_baseline + high_educ_baseline + sex_baseline + race_ethnicity_baseline + age_2year + married_baseline + bmi_2year', data=high_picture_neg)\n",
        "\n",
        "# Specify the model for the mediator\n",
        "mediator_model = sm.OLS.from_formula('BAS_Drive_baseline ~ income_baseline + high_educ_baseline + sex_baseline + race_ethnicity_baseline + age_2year + married_baseline + bmi_2year', data=high_picture_neg)\n",
        "\n",
        "# Set up the mediation analysis model\n",
        "med = Mediation(outcome_model, mediator_model, 'income_baseline', 'BAS_Drive_baseline')\n",
        "\n",
        "# Fit the mediation model\n",
        "med_result = med.fit()\n",
        "\n",
        "# Print the results\n",
        "print(med_result.summary())"
      ],
      "metadata": {
        "id": "y8JXIeU72Mq7"
      },
      "execution_count": null,
      "outputs": []
    },
    {
      "cell_type": "code",
      "source": [
        "model = smf.ols('BAS_Drive_baseline ~ income_baseline + high_educ_baseline + sex_baseline + race_ethnicity_baseline + age_2year + married_baseline + bmi_2year', data=high_picture_neg).fit()\n",
        "\n",
        "# Print the summary of the regression model\n",
        "print(model.summary())"
      ],
      "metadata": {
        "id": "YO54qVcH2Mq7"
      },
      "execution_count": null,
      "outputs": []
    },
    {
      "cell_type": "code",
      "source": [
        "# Specify the model for the outcome\n",
        "outcome_model = sm.OLS.from_formula('nihtbx_picture_uncorrected_2year ~ BAS_Drive_baseline + income_baseline + high_educ_baseline + sex_baseline + race_ethnicity_baseline + age_2year + married_baseline + bmi_2year', data=high_picture_pos)\n",
        "\n",
        "# Specify the model for the mediator\n",
        "mediator_model = sm.OLS.from_formula('BAS_Drive_baseline ~ income_baseline + high_educ_baseline + sex_baseline + race_ethnicity_baseline + age_2year + married_baseline + bmi_2year', data=high_picture_pos)\n",
        "\n",
        "# Set up the mediation analysis model\n",
        "med = Mediation(outcome_model, mediator_model, 'income_baseline', 'BAS_Drive_baseline')\n",
        "\n",
        "# Fit the mediation model\n",
        "med_result = med.fit()\n",
        "\n",
        "# Print the results\n",
        "print(med_result.summary())"
      ],
      "metadata": {
        "id": "KZeNLK7K2Mq8"
      },
      "execution_count": null,
      "outputs": []
    },
    {
      "cell_type": "code",
      "source": [
        "model = smf.ols('BAS_Drive_baseline ~ income_baseline + high_educ_baseline + sex_baseline + race_ethnicity_baseline + age_2year + married_baseline + bmi_2year', data=high_picture_pos).fit()\n",
        "\n",
        "# Print the summary of the regression model\n",
        "print(model.summary())"
      ],
      "metadata": {
        "id": "Umku1gkQ2Mq8"
      },
      "execution_count": null,
      "outputs": []
    },
    {
      "cell_type": "code",
      "source": [
        "# Specify the model for the outcome\n",
        "outcome_model = sm.OLS.from_formula('nihtbx_reading_uncorrected_2year ~ parent_age_baseline + income_baseline + high_educ_baseline + sex_baseline + race_ethnicity_baseline + age_2year + married_baseline + bmi_2year', data=low_reading_neg)\n",
        "\n",
        "# Specify the model for the mediator\n",
        "mediator_model = sm.OLS.from_formula('parent_age_baseline ~ income_baseline + high_educ_baseline + sex_baseline + race_ethnicity_baseline + age_2year + married_baseline + bmi_2year', data=low_reading_neg)\n",
        "\n",
        "# Set up the mediation analysis model\n",
        "med = Mediation(outcome_model, mediator_model, 'income_baseline', 'parent_age_baseline')\n",
        "\n",
        "# Fit the mediation model\n",
        "med_result = med.fit()\n",
        "\n",
        "# Print the results\n",
        "print(med_result.summary())"
      ],
      "metadata": {
        "id": "GV_rVqP02aNM"
      },
      "execution_count": null,
      "outputs": []
    },
    {
      "cell_type": "code",
      "source": [
        "model = smf.ols('parent_age_baseline ~ income_baseline + high_educ_baseline + sex_baseline + race_ethnicity_baseline + age_2year + married_baseline + bmi_2year', data=low_reading_neg).fit()\n",
        "\n",
        "# Print the summary of the regression model\n",
        "print(model.summary())"
      ],
      "metadata": {
        "id": "c7_2NLf12aNW"
      },
      "execution_count": null,
      "outputs": []
    },
    {
      "cell_type": "code",
      "source": [
        "# Specify the model for the outcome\n",
        "outcome_model = sm.OLS.from_formula('nihtbx_reading_uncorrected_2year ~ parent_age_baseline + income_baseline + high_educ_baseline + sex_baseline + race_ethnicity_baseline + age_2year + married_baseline + bmi_2year', data=low_reading_pos)\n",
        "\n",
        "# Specify the model for the mediator\n",
        "mediator_model = sm.OLS.from_formula('parent_age_baseline ~ income_baseline + high_educ_baseline + sex_baseline + race_ethnicity_baseline + age_2year + married_baseline + bmi_2year', data=low_reading_pos)\n",
        "\n",
        "# Set up the mediation analysis model\n",
        "med = Mediation(outcome_model, mediator_model, 'income_baseline', 'parent_age_baseline')\n",
        "\n",
        "# Fit the mediation model\n",
        "med_result = med.fit()\n",
        "\n",
        "# Print the results\n",
        "print(med_result.summary())"
      ],
      "metadata": {
        "id": "iF8b0ABf2aNW"
      },
      "execution_count": null,
      "outputs": []
    },
    {
      "cell_type": "code",
      "source": [
        "model = smf.ols('parent_age_baseline ~ income_baseline + high_educ_baseline + sex_baseline + race_ethnicity_baseline + age_2year + married_baseline + bmi_2year', data=low_reading_pos).fit()\n",
        "\n",
        "# Print the summary of the regression model\n",
        "print(model.summary())"
      ],
      "metadata": {
        "id": "-aeY8D9k2aNW"
      },
      "execution_count": null,
      "outputs": []
    },
    {
      "cell_type": "code",
      "source": [
        "# Specify the model for the outcome\n",
        "outcome_model = sm.OLS.from_formula('nihtbx_reading_uncorrected_2year ~ parent_age_baseline + income_baseline + high_educ_baseline + sex_baseline + race_ethnicity_baseline + age_2year + married_baseline + bmi_2year', data=high_reading_neg)\n",
        "\n",
        "# Specify the model for the mediator\n",
        "mediator_model = sm.OLS.from_formula('parent_age_baseline ~ income_baseline + high_educ_baseline + sex_baseline + race_ethnicity_baseline + age_2year + married_baseline + bmi_2year', data=high_reading_neg)\n",
        "\n",
        "# Set up the mediation analysis model\n",
        "med = Mediation(outcome_model, mediator_model, 'income_baseline', 'parent_age_baseline')\n",
        "\n",
        "# Fit the mediation model\n",
        "med_result = med.fit()\n",
        "\n",
        "# Print the results\n",
        "print(med_result.summary())"
      ],
      "metadata": {
        "id": "4MvmGksp2aNW"
      },
      "execution_count": null,
      "outputs": []
    },
    {
      "cell_type": "code",
      "source": [
        "model = smf.ols('parent_age_baseline ~ income_baseline + high_educ_baseline + sex_baseline + race_ethnicity_baseline + age_2year + married_baseline + bmi_2year', data=high_reading_neg).fit()\n",
        "\n",
        "# Print the summary of the regression model\n",
        "print(model.summary())"
      ],
      "metadata": {
        "id": "MF1vcqs92aNW"
      },
      "execution_count": null,
      "outputs": []
    },
    {
      "cell_type": "code",
      "source": [
        "# Specify the model for the outcome\n",
        "outcome_model = sm.OLS.from_formula('nihtbx_reading_uncorrected_2year ~ parent_age_baseline + income_baseline + high_educ_baseline + sex_baseline + race_ethnicity_baseline + age_2year + married_baseline + bmi_2year', data=high_reading_pos)\n",
        "\n",
        "# Specify the model for the mediator\n",
        "mediator_model = sm.OLS.from_formula('parent_age_baseline ~ income_baseline + high_educ_baseline + sex_baseline + race_ethnicity_baseline + age_2year + married_baseline + bmi_2year', data=high_reading_pos)\n",
        "\n",
        "# Set up the mediation analysis model\n",
        "med = Mediation(outcome_model, mediator_model, 'income_baseline', 'parent_age_baseline')\n",
        "\n",
        "# Fit the mediation model\n",
        "med_result = med.fit()\n",
        "\n",
        "# Print the results\n",
        "print(med_result.summary())"
      ],
      "metadata": {
        "id": "SWWEuI8t2aNW"
      },
      "execution_count": null,
      "outputs": []
    },
    {
      "cell_type": "code",
      "source": [
        "model = smf.ols('parent_age_baseline ~ income_baseline + high_educ_baseline + sex_baseline + race_ethnicity_baseline + age_2year + married_baseline + bmi_2year', data=high_reading_pos).fit()\n",
        "\n",
        "# Print the summary of the regression model\n",
        "print(model.summary())"
      ],
      "metadata": {
        "id": "iLT4mbF32aNX"
      },
      "execution_count": null,
      "outputs": []
    },
    {
      "cell_type": "code",
      "source": [
        "# Specify the model for the outcome\n",
        "outcome_model = sm.OLS.from_formula('nihtbx_reading_uncorrected_2year ~ bpm_total_t_2year + income_baseline + high_educ_baseline + sex_baseline + race_ethnicity_baseline + age_2year + married_baseline + bmi_2year', data=low_reading_neg)\n",
        "\n",
        "# Specify the model for the mediator\n",
        "mediator_model = sm.OLS.from_formula('bpm_total_t_2year ~ income_baseline + high_educ_baseline + sex_baseline + race_ethnicity_baseline + age_2year + married_baseline + bmi_2year', data=low_reading_neg)\n",
        "\n",
        "# Set up the mediation analysis model\n",
        "med = Mediation(outcome_model, mediator_model, 'income_baseline', 'bpm_total_t_2year')\n",
        "\n",
        "# Fit the mediation model\n",
        "med_result = med.fit()\n",
        "\n",
        "# Print the results\n",
        "print(med_result.summary())"
      ],
      "metadata": {
        "id": "exgkjZKX2odK"
      },
      "execution_count": null,
      "outputs": []
    },
    {
      "cell_type": "code",
      "source": [
        "model = smf.ols('bpm_total_t_2year ~ income_baseline + high_educ_baseline + sex_baseline + race_ethnicity_baseline + age_2year + married_baseline + bmi_2year', data=low_reading_neg).fit()\n",
        "\n",
        "# Print the summary of the regression model\n",
        "print(model.summary())"
      ],
      "metadata": {
        "id": "X9SgSP-62odb"
      },
      "execution_count": null,
      "outputs": []
    },
    {
      "cell_type": "code",
      "source": [
        "# Specify the model for the outcome\n",
        "outcome_model = sm.OLS.from_formula('nihtbx_reading_uncorrected_2year ~ bpm_total_t_2year + income_baseline + high_educ_baseline + sex_baseline + race_ethnicity_baseline + age_2year + married_baseline + bmi_2year', data=low_reading_pos)\n",
        "\n",
        "# Specify the model for the mediator\n",
        "mediator_model = sm.OLS.from_formula('bpm_total_t_2year ~ income_baseline + high_educ_baseline + sex_baseline + race_ethnicity_baseline + age_2year + married_baseline + bmi_2year', data=low_reading_pos)\n",
        "\n",
        "# Set up the mediation analysis model\n",
        "med = Mediation(outcome_model, mediator_model, 'income_baseline', 'bpm_total_t_2year')\n",
        "\n",
        "# Fit the mediation model\n",
        "med_result = med.fit()\n",
        "\n",
        "# Print the results\n",
        "print(med_result.summary())"
      ],
      "metadata": {
        "id": "ojN5QNl82odb"
      },
      "execution_count": null,
      "outputs": []
    },
    {
      "cell_type": "code",
      "source": [
        "model = smf.ols('bpm_total_t_2year ~ income_baseline + high_educ_baseline + sex_baseline + race_ethnicity_baseline + age_2year + married_baseline + bmi_2year', data=low_reading_pos).fit()\n",
        "\n",
        "# Print the summary of the regression model\n",
        "print(model.summary())"
      ],
      "metadata": {
        "id": "T_8qApCf2odc"
      },
      "execution_count": null,
      "outputs": []
    },
    {
      "cell_type": "code",
      "source": [
        "# Specify the model for the outcome\n",
        "outcome_model = sm.OLS.from_formula('nihtbx_reading_uncorrected_2year ~ bpm_total_t_2year + income_baseline + high_educ_baseline + sex_baseline + race_ethnicity_baseline + age_2year + married_baseline + bmi_2year', data=high_reading_neg)\n",
        "\n",
        "# Specify the model for the mediator\n",
        "mediator_model = sm.OLS.from_formula('bpm_total_t_2year ~ income_baseline + high_educ_baseline + sex_baseline + race_ethnicity_baseline + age_2year + married_baseline + bmi_2year', data=high_reading_neg)\n",
        "\n",
        "# Set up the mediation analysis model\n",
        "med = Mediation(outcome_model, mediator_model, 'income_baseline', 'bpm_total_t_2year')\n",
        "\n",
        "# Fit the mediation model\n",
        "med_result = med.fit()\n",
        "\n",
        "# Print the results\n",
        "print(med_result.summary())"
      ],
      "metadata": {
        "id": "jyTZ0RP12odc"
      },
      "execution_count": null,
      "outputs": []
    },
    {
      "cell_type": "code",
      "source": [
        "model = smf.ols('bpm_total_t_2year ~ income_baseline + high_educ_baseline + sex_baseline + race_ethnicity_baseline + age_2year + married_baseline + bmi_2year', data=high_reading_neg).fit()\n",
        "\n",
        "# Print the summary of the regression model\n",
        "print(model.summary())"
      ],
      "metadata": {
        "id": "2MvVmu982odc"
      },
      "execution_count": null,
      "outputs": []
    },
    {
      "cell_type": "code",
      "source": [
        "# Specify the model for the outcome\n",
        "outcome_model = sm.OLS.from_formula('nihtbx_reading_uncorrected_2year ~ bpm_total_t_2year + income_baseline + high_educ_baseline + sex_baseline + race_ethnicity_baseline + age_2year + married_baseline + bmi_2year', data=high_reading_pos)\n",
        "\n",
        "# Specify the model for the mediator\n",
        "mediator_model = sm.OLS.from_formula('bpm_total_t_2year ~ income_baseline + high_educ_baseline + sex_baseline + race_ethnicity_baseline + age_2year + married_baseline + bmi_2year', data=high_reading_pos)\n",
        "\n",
        "# Set up the mediation analysis model\n",
        "med = Mediation(outcome_model, mediator_model, 'income_baseline', 'bpm_total_t_2year')\n",
        "\n",
        "# Fit the mediation model\n",
        "med_result = med.fit()\n",
        "\n",
        "# Print the results\n",
        "print(med_result.summary())"
      ],
      "metadata": {
        "id": "3hG6r_V02odc"
      },
      "execution_count": null,
      "outputs": []
    },
    {
      "cell_type": "code",
      "source": [
        "model = smf.ols('bpm_total_t_2year ~ income_baseline + high_educ_baseline + sex_baseline + race_ethnicity_baseline + age_2year + married_baseline + bmi_2year', data=high_reading_pos).fit()\n",
        "\n",
        "# Print the summary of the regression model\n",
        "print(model.summary())"
      ],
      "metadata": {
        "id": "xhEVXNFP2odc"
      },
      "execution_count": null,
      "outputs": []
    },
    {
      "cell_type": "code",
      "source": [
        "# Specify the model for the outcome\n",
        "outcome_model = sm.OLS.from_formula('nihtbx_reading_uncorrected_2year ~ ELS_total_2year + income_baseline + high_educ_baseline + sex_baseline + race_ethnicity_baseline + age_2year + married_baseline + bmi_2year', data=low_reading_neg)\n",
        "\n",
        "# Specify the model for the mediator\n",
        "mediator_model = sm.OLS.from_formula('ELS_total_2year ~ income_baseline + high_educ_baseline + sex_baseline + race_ethnicity_baseline + age_2year + married_baseline + bmi_2year', data=low_reading_neg)\n",
        "\n",
        "# Set up the mediation analysis model\n",
        "med = Mediation(outcome_model, mediator_model, 'income_baseline', 'ELS_total_2year')\n",
        "\n",
        "# Fit the mediation model\n",
        "med_result = med.fit()\n",
        "\n",
        "# Print the results\n",
        "print(med_result.summary())"
      ],
      "metadata": {
        "id": "AiSaiQYU202_"
      },
      "execution_count": null,
      "outputs": []
    },
    {
      "cell_type": "code",
      "source": [
        "model = smf.ols('ELS_total_2year ~ income_baseline + high_educ_baseline + sex_baseline + race_ethnicity_baseline + age_2year + married_baseline + bmi_2year', data=low_reading_neg).fit()\n",
        "\n",
        "# Print the summary of the regression model\n",
        "print(model.summary())"
      ],
      "metadata": {
        "id": "LCglHrR3203c"
      },
      "execution_count": null,
      "outputs": []
    },
    {
      "cell_type": "code",
      "source": [
        "# Specify the model for the outcome\n",
        "outcome_model = sm.OLS.from_formula('nihtbx_reading_uncorrected_2year ~ ELS_total_2year + income_baseline + high_educ_baseline + sex_baseline + race_ethnicity_baseline + age_2year + married_baseline + bmi_2year', data=low_reading_pos)\n",
        "\n",
        "# Specify the model for the mediator\n",
        "mediator_model = sm.OLS.from_formula('ELS_total_2year ~ income_baseline + high_educ_baseline + sex_baseline + race_ethnicity_baseline + age_2year + married_baseline + bmi_2year', data=low_reading_pos)\n",
        "\n",
        "# Set up the mediation analysis model\n",
        "med = Mediation(outcome_model, mediator_model, 'income_baseline', 'ELS_total_2year')\n",
        "\n",
        "# Fit the mediation model\n",
        "med_result = med.fit()\n",
        "\n",
        "# Print the results\n",
        "print(med_result.summary())"
      ],
      "metadata": {
        "id": "g7MXm2G7203c"
      },
      "execution_count": null,
      "outputs": []
    },
    {
      "cell_type": "code",
      "source": [
        "model = smf.ols('ELS_total_2year ~ income_baseline + high_educ_baseline + sex_baseline + race_ethnicity_baseline + age_2year + married_baseline + bmi_2year', data=low_reading_pos).fit()\n",
        "\n",
        "# Print the summary of the regression model\n",
        "print(model.summary())"
      ],
      "metadata": {
        "id": "hADFc1oW203d"
      },
      "execution_count": null,
      "outputs": []
    },
    {
      "cell_type": "code",
      "source": [
        "# Specify the model for the outcome\n",
        "outcome_model = sm.OLS.from_formula('nihtbx_reading_uncorrected_2year ~ ELS_total_2year + income_baseline + high_educ_baseline + sex_baseline + race_ethnicity_baseline + age_2year + married_baseline + bmi_2year', data=high_reading_neg)\n",
        "\n",
        "# Specify the model for the mediator\n",
        "mediator_model = sm.OLS.from_formula('ELS_total_2year ~ income_baseline + high_educ_baseline + sex_baseline + race_ethnicity_baseline + age_2year + married_baseline + bmi_2year', data=high_reading_neg)\n",
        "\n",
        "# Set up the mediation analysis model\n",
        "med = Mediation(outcome_model, mediator_model, 'income_baseline', 'ELS_total_2year')\n",
        "\n",
        "# Fit the mediation model\n",
        "med_result = med.fit()\n",
        "\n",
        "# Print the results\n",
        "print(med_result.summary())"
      ],
      "metadata": {
        "id": "Hwy-MqXx203d"
      },
      "execution_count": null,
      "outputs": []
    },
    {
      "cell_type": "code",
      "source": [
        "model = smf.ols('ELS_total_2year ~ income_baseline + high_educ_baseline + sex_baseline + race_ethnicity_baseline + age_2year + married_baseline + bmi_2year', data=high_reading_neg).fit()\n",
        "\n",
        "# Print the summary of the regression model\n",
        "print(model.summary())"
      ],
      "metadata": {
        "id": "A64fQbWV203d"
      },
      "execution_count": null,
      "outputs": []
    },
    {
      "cell_type": "code",
      "source": [
        "# Specify the model for the outcome\n",
        "outcome_model = sm.OLS.from_formula('nihtbx_reading_uncorrected_2year ~ ELS_total_2year + income_baseline + high_educ_baseline + sex_baseline + race_ethnicity_baseline + age_2year + married_baseline + bmi_2year', data=high_reading_pos)\n",
        "\n",
        "# Specify the model for the mediator\n",
        "mediator_model = sm.OLS.from_formula('ELS_total_2year ~ income_baseline + high_educ_baseline + sex_baseline + race_ethnicity_baseline + age_2year + married_baseline + bmi_2year', data=high_reading_pos)\n",
        "\n",
        "# Set up the mediation analysis model\n",
        "med = Mediation(outcome_model, mediator_model, 'income_baseline', 'ELS_total_2year')\n",
        "\n",
        "# Fit the mediation model\n",
        "med_result = med.fit()\n",
        "\n",
        "# Print the results\n",
        "print(med_result.summary())"
      ],
      "metadata": {
        "id": "YS7obGAf203d"
      },
      "execution_count": null,
      "outputs": []
    },
    {
      "cell_type": "code",
      "source": [
        "model = smf.ols('ELS_total_2year ~ income_baseline + high_educ_baseline + sex_baseline + race_ethnicity_baseline + age_2year + married_baseline + bmi_2year', data=high_reading_pos).fit()\n",
        "\n",
        "# Print the summary of the regression model\n",
        "print(model.summary())"
      ],
      "metadata": {
        "id": "Oo_NP6y3203d"
      },
      "execution_count": null,
      "outputs": []
    },
    {
      "cell_type": "code",
      "source": [
        "# Specify the model for the outcome\n",
        "outcome_model = sm.OLS.from_formula('nihtbx_reading_uncorrected_2year ~ height_2year + income_baseline + high_educ_baseline + sex_baseline + race_ethnicity_baseline + age_2year + married_baseline + bmi_2year', data=low_reading_neg)\n",
        "\n",
        "# Specify the model for the mediator\n",
        "mediator_model = sm.OLS.from_formula('height_2year ~ income_baseline + high_educ_baseline + sex_baseline + race_ethnicity_baseline + age_2year + married_baseline + bmi_2year', data=low_reading_neg)\n",
        "\n",
        "# Set up the mediation analysis model\n",
        "med = Mediation(outcome_model, mediator_model, 'income_baseline', 'height_2year')\n",
        "\n",
        "# Fit the mediation model\n",
        "med_result = med.fit()\n",
        "\n",
        "# Print the results\n",
        "print(med_result.summary())"
      ],
      "metadata": {
        "id": "I-cnYL3s3Amq"
      },
      "execution_count": null,
      "outputs": []
    },
    {
      "cell_type": "code",
      "source": [
        "model = smf.ols('height_2year ~ income_baseline + high_educ_baseline + sex_baseline + race_ethnicity_baseline + age_2year + married_baseline + bmi_2year', data=low_reading_neg).fit()\n",
        "\n",
        "# Print the summary of the regression model\n",
        "print(model.summary())"
      ],
      "metadata": {
        "id": "KMShT6C33Am5"
      },
      "execution_count": null,
      "outputs": []
    },
    {
      "cell_type": "code",
      "source": [
        "# Specify the model for the outcome\n",
        "outcome_model = sm.OLS.from_formula('nihtbx_reading_uncorrected_2year ~ height_2year + income_baseline + high_educ_baseline + sex_baseline + race_ethnicity_baseline + age_2year + married_baseline + bmi_2year', data=low_reading_pos)\n",
        "\n",
        "# Specify the model for the mediator\n",
        "mediator_model = sm.OLS.from_formula('height_2year ~ income_baseline + high_educ_baseline + sex_baseline + race_ethnicity_baseline + age_2year + married_baseline + bmi_2year', data=low_reading_pos)\n",
        "\n",
        "# Set up the mediation analysis model\n",
        "med = Mediation(outcome_model, mediator_model, 'income_baseline', 'height_2year')\n",
        "\n",
        "# Fit the mediation model\n",
        "med_result = med.fit()\n",
        "\n",
        "# Print the results\n",
        "print(med_result.summary())"
      ],
      "metadata": {
        "id": "nlXMjzXw3Am5"
      },
      "execution_count": null,
      "outputs": []
    },
    {
      "cell_type": "code",
      "source": [
        "model = smf.ols('height_2year ~ income_baseline + high_educ_baseline + sex_baseline + race_ethnicity_baseline + age_2year + married_baseline + bmi_2year', data=low_reading_pos).fit()\n",
        "\n",
        "# Print the summary of the regression model\n",
        "print(model.summary())"
      ],
      "metadata": {
        "id": "wHSOK77C3Am5"
      },
      "execution_count": null,
      "outputs": []
    },
    {
      "cell_type": "code",
      "source": [
        "# Specify the model for the outcome\n",
        "outcome_model = sm.OLS.from_formula('nihtbx_reading_uncorrected_2year ~ height_2year + income_baseline + high_educ_baseline + sex_baseline + race_ethnicity_baseline + age_2year + married_baseline + bmi_2year', data=high_reading_neg)\n",
        "\n",
        "# Specify the model for the mediator\n",
        "mediator_model = sm.OLS.from_formula('height_2year ~ income_baseline + high_educ_baseline + sex_baseline + race_ethnicity_baseline + age_2year + married_baseline + bmi_2year', data=high_reading_neg)\n",
        "\n",
        "# Set up the mediation analysis model\n",
        "med = Mediation(outcome_model, mediator_model, 'income_baseline', 'height_2year')\n",
        "\n",
        "# Fit the mediation model\n",
        "med_result = med.fit()\n",
        "\n",
        "# Print the results\n",
        "print(med_result.summary())"
      ],
      "metadata": {
        "id": "pDOIJ04s3Am5"
      },
      "execution_count": null,
      "outputs": []
    },
    {
      "cell_type": "code",
      "source": [
        "model = smf.ols('height_2year ~ income_baseline + high_educ_baseline + sex_baseline + race_ethnicity_baseline + age_2year + married_baseline + bmi_2year', data=high_reading_neg).fit()\n",
        "\n",
        "# Print the summary of the regression model\n",
        "print(model.summary())"
      ],
      "metadata": {
        "id": "CqT3PI4P3Am5"
      },
      "execution_count": null,
      "outputs": []
    },
    {
      "cell_type": "code",
      "source": [
        "# Specify the model for the outcome\n",
        "outcome_model = sm.OLS.from_formula('nihtbx_reading_uncorrected_2year ~ height_2year + income_baseline + high_educ_baseline + sex_baseline + race_ethnicity_baseline + age_2year + married_baseline + bmi_2year', data=high_reading_pos)\n",
        "\n",
        "# Specify the model for the mediator\n",
        "mediator_model = sm.OLS.from_formula('height_2year ~ income_baseline + high_educ_baseline + sex_baseline + race_ethnicity_baseline + age_2year + married_baseline + bmi_2year', data=high_reading_pos)\n",
        "\n",
        "# Set up the mediation analysis model\n",
        "med = Mediation(outcome_model, mediator_model, 'income_baseline', 'height_2year')\n",
        "\n",
        "# Fit the mediation model\n",
        "med_result = med.fit()\n",
        "\n",
        "# Print the results\n",
        "print(med_result.summary())"
      ],
      "metadata": {
        "id": "by8ggTys3Am5"
      },
      "execution_count": null,
      "outputs": []
    },
    {
      "cell_type": "code",
      "source": [
        "model = smf.ols('height_2year ~ income_baseline + high_educ_baseline + sex_baseline + race_ethnicity_baseline + age_2year + married_baseline + bmi_2year', data=high_reading_pos).fit()\n",
        "\n",
        "# Print the summary of the regression model\n",
        "print(model.summary())"
      ],
      "metadata": {
        "id": "A4LYa7q33Am5"
      },
      "execution_count": null,
      "outputs": []
    },
    {
      "cell_type": "code",
      "source": [
        "# Specify the model for the outcome\n",
        "outcome_model = sm.OLS.from_formula('nihtbx_picvocab_uncorrected_2year ~ ELS_total_2year + income_baseline + high_educ_baseline + sex_baseline + race_ethnicity_baseline + age_2year + married_baseline + bmi_2year', data=df_low)\n",
        "\n",
        "# Specify the model for the mediator\n",
        "mediator_model = sm.OLS.from_formula('ELS_total_2year ~ income_baseline + high_educ_baseline + sex_baseline + race_ethnicity_baseline + age_2year + married_baseline + bmi_2year', data=df_low)\n",
        "\n",
        "# Set up the mediation analysis model\n",
        "med = Mediation(outcome_model, mediator_model, 'income_baseline', 'ELS_total_2year')\n",
        "\n",
        "# Fit the mediation model\n",
        "med_result = med.fit()\n",
        "\n",
        "# Print the results\n",
        "print(med_result.summary())"
      ],
      "metadata": {
        "id": "HlpI6_Pu4QFq"
      },
      "execution_count": null,
      "outputs": []
    },
    {
      "cell_type": "code",
      "source": [
        "# Specify the model for the outcome\n",
        "outcome_model = sm.OLS.from_formula('nihtbx_picvocab_uncorrected_2year ~ ELS_total_2year + income_baseline + high_educ_baseline + sex_baseline + race_ethnicity_baseline + age_2year + married_baseline + bmi_2year', data=df_high)\n",
        "\n",
        "# Specify the model for the mediator\n",
        "mediator_model = sm.OLS.from_formula('ELS_total_2year ~ income_baseline + high_educ_baseline + sex_baseline + race_ethnicity_baseline + age_2year + married_baseline + bmi_2year', data=df_high)\n",
        "\n",
        "# Set up the mediation analysis model\n",
        "med = Mediation(outcome_model, mediator_model, 'income_baseline', 'ELS_total_2year')\n",
        "\n",
        "# Fit the mediation model\n",
        "med_result = med.fit()\n",
        "\n",
        "# Print the results\n",
        "print(med_result.summary())"
      ],
      "metadata": {
        "id": "55U9hvld84Tm"
      },
      "execution_count": null,
      "outputs": []
    },
    {
      "cell_type": "code",
      "source": [
        "# Specify the model for the outcome\n",
        "outcome_model = sm.OLS.from_formula('nihtbx_reading_uncorrected_2year ~ ELS_total_2year + income_baseline + high_educ_baseline + sex_baseline + race_ethnicity_baseline + age_2year + married_baseline + bmi_2year', data=df_low)\n",
        "\n",
        "# Specify the model for the mediator\n",
        "mediator_model = sm.OLS.from_formula('ELS_total_2year ~ income_baseline + high_educ_baseline + sex_baseline + race_ethnicity_baseline + age_2year + married_baseline + bmi_2year', data=df_low)\n",
        "\n",
        "# Set up the mediation analysis model\n",
        "med = Mediation(outcome_model, mediator_model, 'income_baseline', 'ELS_total_2year')\n",
        "\n",
        "# Fit the mediation model\n",
        "med_result = med.fit()\n",
        "\n",
        "# Print the results\n",
        "print(med_result.summary())"
      ],
      "metadata": {
        "id": "5kfTSG9xHaD6"
      },
      "execution_count": null,
      "outputs": []
    },
    {
      "cell_type": "code",
      "source": [
        "# Specify the model for the outcome\n",
        "outcome_model = sm.OLS.from_formula('nihtbx_reading_uncorrected_2year ~ ELS_total_2year + income_baseline + high_educ_baseline + sex_baseline + race_ethnicity_baseline + age_2year + married_baseline + bmi_2year', data=df_high)\n",
        "\n",
        "# Specify the model for the mediator\n",
        "mediator_model = sm.OLS.from_formula('ELS_total_2year ~ income_baseline + high_educ_baseline + sex_baseline + race_ethnicity_baseline + age_2year + married_baseline + bmi_2year', data=df_high)\n",
        "\n",
        "# Set up the mediation analysis model\n",
        "med = Mediation(outcome_model, mediator_model, 'income_baseline', 'ELS_total_2year')\n",
        "\n",
        "# Fit the mediation model\n",
        "med_result = med.fit()\n",
        "\n",
        "# Print the results\n",
        "print(med_result.summary())"
      ],
      "metadata": {
        "id": "AQh5e6vWHaD7"
      },
      "execution_count": null,
      "outputs": []
    },
    {
      "cell_type": "code",
      "source": [
        "model = smf.ols('ELS_total_2year ~ income_baseline + high_educ_baseline + sex_baseline + race_ethnicity_baseline + age_2year + married_baseline + bmi_2year', data=df_low).fit()\n",
        "\n",
        "# Print the summary of the regression model\n",
        "print(model.summary())"
      ],
      "metadata": {
        "id": "ci7o73xCNfLq"
      },
      "execution_count": null,
      "outputs": []
    },
    {
      "cell_type": "code",
      "source": [
        "model = smf.ols('ELS_total_2year ~ income_baseline + high_educ_baseline + sex_baseline + race_ethnicity_baseline + age_2year + married_baseline + bmi_2year', data=df_high).fit()\n",
        "\n",
        "# Print the summary of the regression model\n",
        "print(model.summary())"
      ],
      "metadata": {
        "id": "wDMpQKsgNj5V"
      },
      "execution_count": null,
      "outputs": []
    },
    {
      "cell_type": "code",
      "source": [
        "# Specify the model for the outcome\n",
        "outcome_model = sm.OLS.from_formula('nihtbx_picvocab_uncorrected_2year ~ screentime_wkday_p_baseline + income_baseline + high_educ_baseline + sex_baseline + race_ethnicity_baseline + age_2year + married_baseline + bmi_2year', data=df_low)\n",
        "\n",
        "# Specify the model for the mediator\n",
        "mediator_model = sm.OLS.from_formula('screentime_wkday_p_baseline ~ income_baseline + high_educ_baseline + sex_baseline + race_ethnicity_baseline + age_2year + married_baseline + bmi_2year', data=df_low)\n",
        "\n",
        "# Set up the mediation analysis model\n",
        "med = Mediation(outcome_model, mediator_model, 'income_baseline', 'screentime_wkday_p_baseline')\n",
        "\n",
        "# Fit the mediation model\n",
        "med_result = med.fit()\n",
        "\n",
        "# Print the results\n",
        "print(med_result.summary())"
      ],
      "metadata": {
        "id": "B2kY6YOvOrHR"
      },
      "execution_count": null,
      "outputs": []
    },
    {
      "cell_type": "code",
      "source": [
        "# Specify the model for the outcome\n",
        "outcome_model = sm.OLS.from_formula('nihtbx_picvocab_uncorrected_2year ~ screentime_wkday_p_baseline + income_baseline + high_educ_baseline + sex_baseline + race_ethnicity_baseline + age_2year + married_baseline + bmi_2year', data=df_high)\n",
        "\n",
        "# Specify the model for the mediator\n",
        "mediator_model = sm.OLS.from_formula('screentime_wkday_p_baseline ~ income_baseline + high_educ_baseline + sex_baseline + race_ethnicity_baseline + age_2year + married_baseline + bmi_2year', data=df_high)\n",
        "\n",
        "# Set up the mediation analysis model\n",
        "med = Mediation(outcome_model, mediator_model, 'income_baseline', 'screentime_wkday_p_baseline')\n",
        "\n",
        "# Fit the mediation model\n",
        "med_result = med.fit()\n",
        "\n",
        "# Print the results\n",
        "print(med_result.summary())"
      ],
      "metadata": {
        "id": "wCldwAGKOwu7"
      },
      "execution_count": null,
      "outputs": []
    },
    {
      "cell_type": "code",
      "source": [
        "model = smf.ols('screentime_wkday_p_baseline ~ income_baseline + high_educ_baseline + sex_baseline + race_ethnicity_baseline + age_2year + married_baseline + bmi_2year', data=df_low).fit()\n",
        "\n",
        "# Print the summary of the regression model\n",
        "print(model.summary())"
      ],
      "metadata": {
        "id": "Uqk8ejN4O1En"
      },
      "execution_count": null,
      "outputs": []
    },
    {
      "cell_type": "code",
      "source": [
        "model = smf.ols('screentime_wkday_p_baseline ~ income_baseline + high_educ_baseline + sex_baseline + race_ethnicity_baseline + age_2year + married_baseline + bmi_2year', data=df_high).fit()\n",
        "\n",
        "# Print the summary of the regression model\n",
        "print(model.summary())"
      ],
      "metadata": {
        "id": "zNmRP19oO1E1"
      },
      "execution_count": null,
      "outputs": []
    },
    {
      "cell_type": "code",
      "source": [
        "# Specify the model for the outcome\n",
        "outcome_model = sm.OLS.from_formula('nihtbx_flanker_uncorrected_2year ~ cbcl_totprob_baseline + income_baseline + high_educ_baseline + sex_baseline + race_ethnicity_baseline + age_2year + married_baseline + bmi_2year', data=df_low)\n",
        "\n",
        "# Specify the model for the mediator\n",
        "mediator_model = sm.OLS.from_formula('cbcl_totprob_baseline ~ income_baseline + high_educ_baseline + sex_baseline + race_ethnicity_baseline + age_2year + married_baseline + bmi_2year', data=df_low)\n",
        "\n",
        "# Set up the mediation analysis model\n",
        "med = Mediation(outcome_model, mediator_model, 'income_baseline', 'cbcl_totprob_baseline')\n",
        "\n",
        "# Fit the mediation model\n",
        "med_result = med.fit()\n",
        "\n",
        "# Print the results\n",
        "print(med_result.summary())"
      ],
      "metadata": {
        "id": "aj79FcMsO-6i"
      },
      "execution_count": null,
      "outputs": []
    },
    {
      "cell_type": "code",
      "source": [
        "# Specify the model for the outcome\n",
        "outcome_model = sm.OLS.from_formula('nihtbx_flanker_uncorrected_2year ~ cbcl_totprob_baseline + income_baseline + high_educ_baseline + sex_baseline + race_ethnicity_baseline + age_2year + married_baseline + bmi_2year', data=df_high)\n",
        "\n",
        "# Specify the model for the mediator\n",
        "mediator_model = sm.OLS.from_formula('cbcl_totprob_baseline ~ income_baseline + high_educ_baseline + sex_baseline + race_ethnicity_baseline + age_2year + married_baseline + bmi_2year', data=df_high)\n",
        "\n",
        "# Set up the mediation analysis model\n",
        "med = Mediation(outcome_model, mediator_model, 'income_baseline', 'cbcl_totprob_baseline')\n",
        "\n",
        "# Fit the mediation model\n",
        "med_result = med.fit()\n",
        "\n",
        "# Print the results\n",
        "print(med_result.summary())"
      ],
      "metadata": {
        "id": "TnrOzZTlPEAm"
      },
      "execution_count": null,
      "outputs": []
    },
    {
      "cell_type": "code",
      "source": [
        "model = smf.ols('cbcl_totprob_baseline ~ income_baseline + high_educ_baseline + sex_baseline + race_ethnicity_baseline + age_2year + married_baseline + bmi_2year', data=df_low).fit()\n",
        "\n",
        "# Print the summary of the regression model\n",
        "print(model.summary())"
      ],
      "metadata": {
        "id": "XMFriv6nPG4c"
      },
      "execution_count": null,
      "outputs": []
    },
    {
      "cell_type": "code",
      "source": [
        "model = smf.ols('cbcl_totprob_baseline ~ income_baseline + high_educ_baseline + sex_baseline + race_ethnicity_baseline + age_2year + married_baseline + bmi_2year', data=df_high).fit()\n",
        "\n",
        "# Print the summary of the regression model\n",
        "print(model.summary())"
      ],
      "metadata": {
        "id": "5beU1O1aPKDS"
      },
      "execution_count": null,
      "outputs": []
    },
    {
      "cell_type": "code",
      "source": [
        "# Specify the model for the outcome\n",
        "outcome_model = sm.OLS.from_formula('nihtbx_reading_uncorrected_2year ~ parent_age_baseline + income_baseline + high_educ_baseline + sex_baseline + race_ethnicity_baseline + age_2year + married_baseline + bmi_2year', data=df_low)\n",
        "\n",
        "# Specify the model for the mediator\n",
        "mediator_model = sm.OLS.from_formula('parent_age_baseline ~ income_baseline + high_educ_baseline + sex_baseline + race_ethnicity_baseline + age_2year + married_baseline + bmi_2year', data=df_low)\n",
        "\n",
        "# Set up the mediation analysis model\n",
        "med = Mediation(outcome_model, mediator_model, 'income_baseline', 'parent_age_baseline')\n",
        "\n",
        "# Fit the mediation model\n",
        "med_result = med.fit()\n",
        "\n",
        "# Print the results\n",
        "print(med_result.summary())"
      ],
      "metadata": {
        "id": "KQCNzhjdPQtB"
      },
      "execution_count": null,
      "outputs": []
    },
    {
      "cell_type": "code",
      "source": [
        "# Specify the model for the outcome\n",
        "outcome_model = sm.OLS.from_formula('nihtbx_reading_uncorrected_2year ~ parent_age_baseline + income_baseline + high_educ_baseline + sex_baseline + race_ethnicity_baseline + age_2year + married_baseline + bmi_2year', data=df_high)\n",
        "\n",
        "# Specify the model for the mediator\n",
        "mediator_model = sm.OLS.from_formula('parent_age_baseline ~ income_baseline + high_educ_baseline + sex_baseline + race_ethnicity_baseline + age_2year + married_baseline + bmi_2year', data=df_high)\n",
        "\n",
        "# Set up the mediation analysis model\n",
        "med = Mediation(outcome_model, mediator_model, 'income_baseline', 'parent_age_baseline')\n",
        "\n",
        "# Fit the mediation model\n",
        "med_result = med.fit()\n",
        "\n",
        "# Print the results\n",
        "print(med_result.summary())"
      ],
      "metadata": {
        "id": "XsPzHLkePUzw"
      },
      "execution_count": null,
      "outputs": []
    },
    {
      "cell_type": "code",
      "source": [
        "model = smf.ols('parent_age_baseline ~ income_baseline + high_educ_baseline + sex_baseline + race_ethnicity_baseline + age_2year + married_baseline + bmi_2year', data=df_low).fit()\n",
        "\n",
        "# Print the summary of the regression model\n",
        "print(model.summary())"
      ],
      "metadata": {
        "id": "qMAO7Od0PXq2"
      },
      "execution_count": null,
      "outputs": []
    },
    {
      "cell_type": "code",
      "source": [
        "model = smf.ols('parent_age_baseline ~ income_baseline + high_educ_baseline + sex_baseline + race_ethnicity_baseline + age_2year + married_baseline + bmi_2year', data=df_high).fit()\n",
        "\n",
        "# Print the summary of the regression model\n",
        "print(model.summary())"
      ],
      "metadata": {
        "id": "DHOcLmtPPZG_"
      },
      "execution_count": null,
      "outputs": []
    }
  ]
}