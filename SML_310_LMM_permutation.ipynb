{
  "nbformat": 4,
  "nbformat_minor": 0,
  "metadata": {
    "colab": {
      "provenance": [],
      "authorship_tag": "ABX9TyMsgXJXQ6zovLxwjCefRbGe"
    },
    "kernelspec": {
      "name": "python3",
      "display_name": "Python 3"
    },
    "language_info": {
      "name": "python"
    }
  },
  "cells": [
    {
      "cell_type": "code",
      "source": [
        "# Sources\n",
        "# https://www.statsmodels.org/stable/mixed_linear.html"
      ],
      "metadata": {
        "id": "AYHqN1y0vgKQ"
      },
      "execution_count": null,
      "outputs": []
    },
    {
      "cell_type": "code",
      "execution_count": null,
      "metadata": {
        "id": "u4-LCXiER-ff"
      },
      "outputs": [],
      "source": [
        "import pandas as pd\n",
        "import numpy as np\n",
        "import statsmodels.api as sm\n",
        "import statsmodels.formula.api as smf\n",
        "import statistics\n",
        "from scipy import stats"
      ]
    },
    {
      "cell_type": "code",
      "source": [
        "from google.colab import drive\n",
        "drive.mount('/content/drive')"
      ],
      "metadata": {
        "id": "xsc75pMUSuEA"
      },
      "execution_count": null,
      "outputs": []
    },
    {
      "cell_type": "code",
      "source": [
        "df = pd.read_csv('/content/drive/MyDrive/Junior/Dyanne JP/ABCD_Release4.0_Tabular_Dataset.csv')\n",
        "df_baseline = df[df['eventname'] == 'baseline_year_1_arm_1']\n",
        "df_2year = df[df['eventname'] == '2_year_follow_up_y_arm_1']"
      ],
      "metadata": {
        "id": "d48JunLsSyA1"
      },
      "execution_count": null,
      "outputs": []
    },
    {
      "cell_type": "code",
      "source": [
        "baseline_2year = pd.merge(df_baseline, df_2year, on='subjectkey', how='left', suffixes=('_baseline', '_2year'))"
      ],
      "metadata": {
        "id": "ZA107UuCS4uT"
      },
      "execution_count": null,
      "outputs": []
    },
    {
      "cell_type": "code",
      "source": [
        "baseline_2year.dropna(subset=['eventname_2year'], inplace=True)"
      ],
      "metadata": {
        "id": "2XeZa9-2S7C1"
      },
      "execution_count": null,
      "outputs": []
    },
    {
      "cell_type": "code",
      "source": [
        "check = ['nihtbx_picvocab_uncorrected_baseline','nihtbx_picvocab_uncorrected_2year','nihtbx_flanker_uncorrected_baseline',\n",
        "         'nihtbx_flanker_uncorrected_2year','nihtbx_pattern_uncorrected_baseline','nihtbx_pattern_uncorrected_2year',\n",
        "         'nihtbx_picture_uncorrected_baseline','nihtbx_picture_uncorrected_2year','nihtbx_reading_uncorrected_baseline',\n",
        "         'nihtbx_reading_uncorrected_2year','nihtbx_cryst_uncorrected_baseline','nihtbx_cryst_uncorrected_2year']\n",
        "\n",
        "cleaned = baseline_2year.dropna(subset=check)\n",
        "#(7172,1055)\n",
        "\n",
        "# drop columns that only have NaN values\n",
        "cleaned.dropna(axis=1, how='all', inplace=True)\n",
        "#(7172,892)\n",
        "\n",
        "print('Number of participants with all 5 test scores')\n",
        "print(cleaned.shape[0])"
      ],
      "metadata": {
        "id": "__oLs3p9S91R"
      },
      "execution_count": null,
      "outputs": []
    },
    {
      "cell_type": "code",
      "source": [
        "non_numeric_columns = cleaned.select_dtypes(exclude=['number']).columns\n",
        "\n",
        "print(\"Non-numeric columns:\", non_numeric_columns.tolist())"
      ],
      "metadata": {
        "id": "rPCTPmAxTAVM"
      },
      "execution_count": null,
      "outputs": []
    },
    {
      "cell_type": "code",
      "source": [
        "(cleaned['sex_baseline']==cleaned['sex_2year']).sum()"
      ],
      "metadata": {
        "id": "DKeTFgrBTDhn"
      },
      "execution_count": null,
      "outputs": []
    },
    {
      "cell_type": "code",
      "source": [
        "cleaned = cleaned.drop('sex_2year',axis=1)"
      ],
      "metadata": {
        "id": "Qhw8ScgkTEbQ"
      },
      "execution_count": null,
      "outputs": []
    },
    {
      "cell_type": "code",
      "source": [
        "cleaned['sex_baseline'] = cleaned['sex_baseline'].replace({'M': 0, 'F': 1})"
      ],
      "metadata": {
        "id": "lpTv9QOKTFZZ"
      },
      "execution_count": null,
      "outputs": []
    },
    {
      "cell_type": "code",
      "source": [
        "from sklearn.impute import SimpleImputer\n",
        "\n",
        "def medianimpute(df):\n",
        "    # Create a copy of the DataFrame to avoid changing the original data\n",
        "    df_imputed = df.copy()\n",
        "\n",
        "    # Identify numeric columns by data type\n",
        "    numeric_cols = df_imputed.select_dtypes(include=[np.number]).columns\n",
        "\n",
        "    # Define the imputer with a median strategy\n",
        "    imputer = SimpleImputer(strategy='median')\n",
        "\n",
        "    # Apply the imputer only to the numeric columns\n",
        "    df_imputed[numeric_cols] = imputer.fit_transform(df_imputed[numeric_cols])\n",
        "\n",
        "    return df_imputed"
      ],
      "metadata": {
        "id": "9P99BppoTGSa"
      },
      "execution_count": null,
      "outputs": []
    },
    {
      "cell_type": "code",
      "source": [
        "imputed = medianimpute(cleaned)"
      ],
      "metadata": {
        "id": "SjwKSbdBTIbs"
      },
      "execution_count": null,
      "outputs": []
    },
    {
      "cell_type": "code",
      "source": [
        "# nest family in ABCD study site for LMM random effect\n",
        "imputed['site_family'] = imputed['abcd_site_baseline'].astype(str) + \"_\" + imputed['family_id_baseline'].astype(str)\n",
        "imputed['site_family'] = imputed['abcd_site_2year'].astype(str) + \"_\" + imputed['family_id_baseline'].astype(str)"
      ],
      "metadata": {
        "id": "5YRZD5KsTJW6"
      },
      "execution_count": null,
      "outputs": []
    },
    {
      "cell_type": "code",
      "source": [
        "df_low = imputed[(imputed['income_baseline'] >= 1) & (imputed['income_baseline'] < 7)]\n",
        "df_med = imputed[imputed['income_baseline'].isin([7])]\n",
        "df_high = imputed[(imputed['income_baseline'] > 7) & (imputed['income_baseline'] <= 10)]"
      ],
      "metadata": {
        "id": "PKU-Kiv_TLIc"
      },
      "execution_count": null,
      "outputs": []
    },
    {
      "cell_type": "code",
      "source": [
        "low_diff = pd.DataFrame({\n",
        "    'low_diff_picvocab': df_low['nihtbx_picvocab_uncorrected_2year'] - df_low['nihtbx_picvocab_uncorrected_baseline'],\n",
        "    'low_diff_flanker': df_low['nihtbx_flanker_uncorrected_2year'] - df_low['nihtbx_flanker_uncorrected_baseline'],\n",
        "    'low_diff_pattern': df_low['nihtbx_pattern_uncorrected_2year'] - df_low['nihtbx_pattern_uncorrected_baseline'],\n",
        "    'low_diff_picture': df_low['nihtbx_picture_uncorrected_2year'] - df_low['nihtbx_picture_uncorrected_baseline'],\n",
        "    'low_diff_reading': df_low['nihtbx_reading_uncorrected_2year'] - df_low['nihtbx_reading_uncorrected_baseline']\n",
        "})\n",
        "\n",
        "high_diff = pd.DataFrame({\n",
        "    'high_diff_picvocab': df_high['nihtbx_picvocab_uncorrected_2year'] - df_high['nihtbx_picvocab_uncorrected_baseline'],\n",
        "    'high_diff_flanker': df_high['nihtbx_flanker_uncorrected_2year'] - df_high['nihtbx_flanker_uncorrected_baseline'],\n",
        "    'high_diff_pattern': df_high['nihtbx_pattern_uncorrected_2year'] - df_high['nihtbx_pattern_uncorrected_baseline'],\n",
        "    'high_diff_picture': df_high['nihtbx_picture_uncorrected_2year'] - df_high['nihtbx_picture_uncorrected_baseline'],\n",
        "    'high_diff_reading': df_high['nihtbx_reading_uncorrected_2year'] - df_high['nihtbx_reading_uncorrected_baseline']\n",
        "})\n",
        "\n",
        "df_low = pd.concat([df_low, low_diff], axis=1)\n",
        "df_high = pd.concat([df_high, high_diff], axis=1)"
      ],
      "metadata": {
        "id": "vc4Rl3HV7EmX"
      },
      "execution_count": null,
      "outputs": []
    },
    {
      "cell_type": "code",
      "source": [
        "low_picvocab_neg = df_low[df_low['low_diff_picvocab']<0]\n",
        "high_picvocab_neg = df_high[df_high['high_diff_picvocab']<0]\n",
        "low_picvocab_pos = df_low[df_low['low_diff_picvocab']>0]\n",
        "high_picvocab_pos = df_high[df_high['high_diff_picvocab']>0]\n",
        "\n",
        "low_flanker_neg = df_low[df_low['low_diff_flanker']<0]\n",
        "high_flanker_neg = df_high[df_high['high_diff_flanker']<0]\n",
        "low_flanker_pos = df_low[df_low['low_diff_flanker']>0]\n",
        "high_flanker_pos = df_high[df_high['high_diff_flanker']>0]\n",
        "\n",
        "low_pattern_neg = df_low[df_low['low_diff_pattern']<0]\n",
        "high_pattern_neg = df_high[df_high['high_diff_pattern']<0]\n",
        "low_pattern_pos = df_low[df_low['low_diff_pattern']>0]\n",
        "high_pattern_pos = df_high[df_high['high_diff_pattern']>0]\n",
        "\n",
        "low_picture_neg = df_low[df_low['low_diff_picture']<0]\n",
        "high_picture_neg = df_high[df_high['high_diff_picture']<0]\n",
        "low_picture_pos = df_low[df_low['low_diff_picture']>0]\n",
        "high_picture_pos = df_high[df_high['high_diff_picture']>0]\n",
        "\n",
        "low_reading_neg = df_low[df_low['low_diff_reading']<0]\n",
        "high_reading_neg = df_high[df_high['high_diff_reading']<0]\n",
        "low_reading_pos = df_low[df_low['low_diff_reading']>0]\n",
        "high_reading_pos = df_high[df_high['high_diff_reading']>0]"
      ],
      "metadata": {
        "id": "-klzRKEPTMUT"
      },
      "execution_count": null,
      "outputs": []
    },
    {
      "cell_type": "code",
      "source": [
        "def drop_non_numeric(df):\n",
        "    return df.select_dtypes(include=[np.number])"
      ],
      "metadata": {
        "id": "_GsrBcsmT1FC"
      },
      "execution_count": null,
      "outputs": []
    },
    {
      "cell_type": "code",
      "source": [
        "def standardize(df):\n",
        "    # Select numeric columns only.\n",
        "    numeric_columns = df.select_dtypes(include=[np.number])\n",
        "    # Subtract the mean and divide by the std dev for each column.\n",
        "    standardized_df = (numeric_columns - numeric_columns.mean()) / numeric_columns.std()\n",
        "    # If you want to keep non-numeric columns unchanged, combine back the non-numeric columns:\n",
        "    non_numeric_columns = df.select_dtypes(exclude=[np.number])\n",
        "    return pd.concat([standardized_df, non_numeric_columns], axis=1)"
      ],
      "metadata": {
        "id": "EPjrpFMq4ym8"
      },
      "execution_count": null,
      "outputs": []
    },
    {
      "cell_type": "code",
      "source": [
        "low_picvocab_neg = standardize(low_picvocab_neg)\n",
        "high_picvocab_neg = standardize(high_picvocab_neg)\n",
        "low_picvocab_pos = standardize(low_picvocab_pos)\n",
        "high_picvocab_pos = standardize(high_picvocab_pos)\n",
        "\n",
        "low_flanker_neg = standardize(low_flanker_neg)\n",
        "high_flanker_neg = standardize(high_flanker_neg)\n",
        "low_flanker_pos = standardize(low_flanker_pos)\n",
        "high_flanker_pos = standardize(high_flanker_pos)\n",
        "\n",
        "low_pattern_neg = standardize(low_pattern_neg)\n",
        "high_pattern_neg = standardize(high_pattern_neg)\n",
        "low_pattern_pos = standardize(low_pattern_pos)\n",
        "high_pattern_pos = standardize(high_pattern_pos)\n",
        "\n",
        "low_picture_neg = standardize(low_picture_neg)\n",
        "high_picture_neg = standardize(high_picture_neg)\n",
        "low_picture_pos = standardize(low_picture_pos)\n",
        "high_picture_pos = standardize(high_picture_pos)\n",
        "\n",
        "low_reading_neg = standardize(low_reading_neg)\n",
        "high_reading_neg = standardize(high_reading_neg)\n",
        "low_reading_pos = standardize(low_reading_pos)\n",
        "high_reading_pos = standardize(high_reading_pos)"
      ],
      "metadata": {
        "id": "NyjSwAxI5LhR"
      },
      "execution_count": null,
      "outputs": []
    },
    {
      "cell_type": "code",
      "source": [
        "import warnings\n",
        "\n",
        "# Suppress specific warnings\n",
        "warnings.filterwarnings(\"ignore\", message=\"Random effects covariance is singular\")\n",
        "warnings.filterwarnings(\"ignore\", message=\"The MLE may be on the boundary of the parameter space\")"
      ],
      "metadata": {
        "id": "0HNhOMrU7M8G"
      },
      "execution_count": null,
      "outputs": []
    },
    {
      "cell_type": "code",
      "source": [
        "model = smf.mixedlm(\"nihtbx_picvocab_uncorrected_2year ~ upps_premeditation_baseline + screentime_wkend_sns_baseline + upps_negative_baseline + euro_baseline + good_school_baseline + cbcl_internal_2year + vol_2year + upps_perseverence_baseline + worryauto_baseline + screentime_wkday_y_baseline + height_2year + upps_positive_baseline + parent_age_baseline + screentime_wkday_p_baseline + prenatal_alcohol_eff_before_baseline + scz_metaauto_baseline + screentime_maturegames_baseline + bpm_total_t_2year + screentime_addict_p_2year + total_ratio_baseline + gay_youth_2year + cpeur2_baseline + eaeur1_baseline + BIS_2year + religion_prefer_baseline + income_baseline + high_educ_baseline + sex_baseline + race_ethnicity_baseline + age_2year + married_baseline + bmi_2year\", data=low_picvocab_neg, groups=low_picvocab_neg[\"abcd_site_2year\"])\n",
        "result = model.fit()\n",
        "print(result.summary())"
      ],
      "metadata": {
        "id": "wVZTVkLzFssC"
      },
      "execution_count": null,
      "outputs": []
    },
    {
      "cell_type": "code",
      "source": [
        "model = smf.mixedlm(\"nihtbx_picvocab_uncorrected_2year ~ upps_premeditation_baseline + screentime_wkend_sns_baseline + upps_negative_baseline + euro_baseline + good_school_baseline + cbcl_internal_2year + vol_2year + upps_perseverence_baseline + worryauto_baseline + screentime_wkday_y_baseline + height_2year + upps_positive_baseline + parent_age_baseline + screentime_wkday_p_baseline + prenatal_alcohol_eff_before_baseline + scz_metaauto_baseline + screentime_maturegames_baseline + bpm_total_t_2year + screentime_addict_p_2year + total_ratio_baseline + gay_youth_2year + cpeur2_baseline + eaeur1_baseline + BIS_2year + religion_prefer_baseline + income_baseline + high_educ_baseline + sex_baseline + race_ethnicity_baseline + age_2year + married_baseline + bmi_2year\", data=high_picvocab_neg, groups=high_picvocab_neg[\"abcd_site_2year\"])\n",
        "result = model.fit()\n",
        "print(result.summary())"
      ],
      "metadata": {
        "id": "uzoVdUNmldmE"
      },
      "execution_count": null,
      "outputs": []
    },
    {
      "cell_type": "code",
      "source": [
        "model = smf.mixedlm(\"nihtbx_picvocab_uncorrected_2year ~ upps_premeditation_baseline + screentime_wkend_sns_baseline + upps_negative_baseline + euro_baseline + good_school_baseline + cbcl_internal_2year + vol_2year + upps_perseverence_baseline + worryauto_baseline + screentime_wkday_y_baseline + height_2year + upps_positive_baseline + parent_age_baseline + screentime_wkday_p_baseline + prenatal_alcohol_eff_before_baseline + scz_metaauto_baseline + screentime_maturegames_baseline + bpm_total_t_2year + screentime_addict_p_2year + total_ratio_baseline + gay_youth_2year + cpeur2_baseline + eaeur1_baseline + BIS_2year + religion_prefer_baseline + income_baseline + high_educ_baseline + sex_baseline + race_ethnicity_baseline + age_2year + married_baseline + bmi_2year\", data=low_picvocab_pos, groups=low_picvocab_pos[\"abcd_site_2year\"])\n",
        "result = model.fit()\n",
        "print(result.summary())"
      ],
      "metadata": {
        "id": "otrt8QdBlh8u"
      },
      "execution_count": null,
      "outputs": []
    },
    {
      "cell_type": "code",
      "source": [
        "model = smf.mixedlm(\"nihtbx_picvocab_uncorrected_2year ~ upps_premeditation_baseline + screentime_wkend_sns_baseline + upps_negative_baseline + euro_baseline + good_school_baseline + cbcl_internal_2year + vol_2year + upps_perseverence_baseline + worryauto_baseline + screentime_wkday_y_baseline + height_2year + upps_positive_baseline + parent_age_baseline + screentime_wkday_p_baseline + prenatal_alcohol_eff_before_baseline + scz_metaauto_baseline + screentime_maturegames_baseline + bpm_total_t_2year + screentime_addict_p_2year + total_ratio_baseline + gay_youth_2year + cpeur2_baseline + eaeur1_baseline + BIS_2year + religion_prefer_baseline + income_baseline + high_educ_baseline + sex_baseline + race_ethnicity_baseline + age_2year + married_baseline + bmi_2year\", data=high_picvocab_pos, groups=high_picvocab_pos[\"abcd_site_2year\"])\n",
        "result = model.fit()\n",
        "print(result.summary())"
      ],
      "metadata": {
        "id": "lbeeIyi1liR0"
      },
      "execution_count": null,
      "outputs": []
    },
    {
      "cell_type": "code",
      "source": [
        "model = smf.mixedlm(\"nihtbx_reading_uncorrected_2year ~ rh_adi_wsum1_baseline + good_school_2year + risk4pcauto_baseline + cbcl_totprob_baseline + BAS_Drive_2year + aspauto_baseline + anxietyauto_baseline + cbcl_external_baseline + BAS_Fun_2year + ghappimeaneur1_baseline + Cfriends_boys_2year + screentime_wkday_p_baseline + cbcl_external_2year + screentime_risk_p_2year + upps_positive_2year + vol_2year + screentime_maturegames_baseline + BIS_baseline + upps_negative_2year + height_2year + ghappihealth6_baseline + risk_electro_nicotine_y_2year + prosocial_p_baseline + parent_age_baseline + screentime_wkday_y_baseline + BAS_RR_2year + income_baseline + high_educ_baseline + sex_baseline + race_ethnicity_baseline + age_2year + married_baseline + bmi_2year\", data=low_reading_neg, groups=low_reading_neg[\"abcd_site_2year\"])\n",
        "result = model.fit()\n",
        "print(result.summary())"
      ],
      "metadata": {
        "id": "gXgkJWP7pYZS"
      },
      "execution_count": null,
      "outputs": []
    },
    {
      "cell_type": "code",
      "source": [
        "model = smf.mixedlm(\"nihtbx_reading_uncorrected_2year ~ rh_adi_wsum1_baseline + good_school_2year + risk4pcauto_baseline + cbcl_totprob_baseline + BAS_Drive_2year + aspauto_baseline + anxietyauto_baseline + cbcl_external_baseline + BAS_Fun_2year + ghappimeaneur1_baseline + Cfriends_boys_2year + screentime_wkday_p_baseline + cbcl_external_2year + screentime_risk_p_2year + upps_positive_2year + vol_2year + screentime_maturegames_baseline + BIS_baseline + upps_negative_2year + height_2year + ghappihealth6_baseline + risk_electro_nicotine_y_2year + prosocial_p_baseline + parent_age_baseline + screentime_wkday_y_baseline + BAS_RR_2year + income_baseline + high_educ_baseline + sex_baseline + race_ethnicity_baseline + age_2year + married_baseline + bmi_2year\", data=high_reading_neg, groups=high_reading_neg[\"abcd_site_2year\"])\n",
        "result = model.fit()\n",
        "print(result.summary())"
      ],
      "metadata": {
        "id": "7Tq9uwHwpUIn"
      },
      "execution_count": null,
      "outputs": []
    },
    {
      "cell_type": "code",
      "source": [
        "model = smf.mixedlm(\"nihtbx_reading_uncorrected_2year ~ rh_adi_wsum1_baseline + good_school_2year + risk4pcauto_baseline + cbcl_totprob_baseline + BAS_Drive_2year + aspauto_baseline + anxietyauto_baseline + cbcl_external_baseline + BAS_Fun_2year + ghappimeaneur1_baseline + Cfriends_boys_2year + screentime_wkday_p_baseline + cbcl_external_2year + screentime_risk_p_2year + upps_positive_2year + vol_2year + screentime_maturegames_baseline + BIS_baseline + upps_negative_2year + height_2year + ghappihealth6_baseline + risk_electro_nicotine_y_2year + prosocial_p_baseline + parent_age_baseline + screentime_wkday_y_baseline + BAS_RR_2year + income_baseline + high_educ_baseline + sex_baseline + race_ethnicity_baseline + age_2year + married_baseline + bmi_2year\", data=low_reading_pos, groups=low_reading_pos[\"abcd_site_2year\"])\n",
        "result = model.fit()\n",
        "print(result.summary())"
      ],
      "metadata": {
        "id": "NgeMgO4gn4O-"
      },
      "execution_count": null,
      "outputs": []
    },
    {
      "cell_type": "code",
      "source": [
        "model = smf.mixedlm(\"nihtbx_reading_uncorrected_2year ~ rh_adi_wsum1_baseline + good_school_2year + risk4pcauto_baseline + cbcl_totprob_baseline + BAS_Drive_2year + aspauto_baseline + anxietyauto_baseline + cbcl_external_baseline + BAS_Fun_2year + ghappimeaneur1_baseline + Cfriends_boys_2year + screentime_wkday_p_baseline + cbcl_external_2year + screentime_risk_p_2year + upps_positive_2year + vol_2year + screentime_maturegames_baseline + BIS_baseline + upps_negative_2year + height_2year + ghappihealth6_baseline + risk_electro_nicotine_y_2year + prosocial_p_baseline + parent_age_baseline + screentime_wkday_y_baseline + BAS_RR_2year + income_baseline + high_educ_baseline + sex_baseline + race_ethnicity_baseline + age_2year + married_baseline + bmi_2year\", data=high_reading_pos, groups=high_reading_pos[\"abcd_site_2year\"])\n",
        "result = model.fit()\n",
        "print(result.summary())"
      ],
      "metadata": {
        "id": "ukKvROg0n4uq"
      },
      "execution_count": null,
      "outputs": []
    }
  ]
}