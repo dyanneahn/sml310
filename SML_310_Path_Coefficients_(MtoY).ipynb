{
  "nbformat": 4,
  "nbformat_minor": 0,
  "metadata": {
    "colab": {
      "provenance": [],
      "authorship_tag": "ABX9TyNB1RsTsPLgM5kAMTSgu9Af"
    },
    "kernelspec": {
      "name": "python3",
      "display_name": "Python 3"
    },
    "language_info": {
      "name": "python"
    }
  },
  "cells": [
    {
      "cell_type": "code",
      "execution_count": null,
      "metadata": {
        "id": "bk1B3JEieN3z"
      },
      "outputs": [],
      "source": [
        "import pandas as pd\n",
        "import numpy as np\n",
        "import statsmodels.api as sm\n",
        "import statsmodels.formula.api as smf\n",
        "import statistics\n",
        "from scipy import stats\n",
        "from sklearn.impute import SimpleImputer"
      ]
    },
    {
      "cell_type": "code",
      "source": [
        "from google.colab import drive\n",
        "drive.mount('/content/drive')"
      ],
      "metadata": {
        "id": "aimqjW9SQ3Rm"
      },
      "execution_count": null,
      "outputs": []
    },
    {
      "cell_type": "code",
      "source": [
        "df = pd.read_csv('/content/drive/MyDrive/Junior/Dyanne JP/ABCD_Release4.0_Tabular_Dataset.csv')\n",
        "df_baseline = df[df['eventname'] == 'baseline_year_1_arm_1']\n",
        "df_2year = df[df['eventname'] == '2_year_follow_up_y_arm_1']"
      ],
      "metadata": {
        "id": "d48JunLsSyA1"
      },
      "execution_count": null,
      "outputs": []
    },
    {
      "cell_type": "code",
      "source": [
        "baseline_2year = pd.merge(df_baseline, df_2year, on='subjectkey', how='left', suffixes=('_baseline', '_2year'))"
      ],
      "metadata": {
        "id": "ZA107UuCS4uT"
      },
      "execution_count": null,
      "outputs": []
    },
    {
      "cell_type": "code",
      "source": [
        "baseline_2year.dropna(subset=['eventname_2year'], inplace=True)"
      ],
      "metadata": {
        "id": "2XeZa9-2S7C1"
      },
      "execution_count": null,
      "outputs": []
    },
    {
      "cell_type": "code",
      "source": [
        "check = ['nihtbx_picvocab_uncorrected_baseline','nihtbx_picvocab_uncorrected_2year','nihtbx_flanker_uncorrected_baseline',\n",
        "         'nihtbx_flanker_uncorrected_2year','nihtbx_pattern_uncorrected_baseline','nihtbx_pattern_uncorrected_2year',\n",
        "         'nihtbx_picture_uncorrected_baseline','nihtbx_picture_uncorrected_2year','nihtbx_reading_uncorrected_baseline',\n",
        "         'nihtbx_reading_uncorrected_2year','nihtbx_cryst_uncorrected_baseline','nihtbx_cryst_uncorrected_2year']\n",
        "\n",
        "cleaned = baseline_2year.dropna(subset=check)\n",
        "#(7172,1055)\n",
        "\n",
        "# drop columns that only have NaN values\n",
        "cleaned.dropna(axis=1, how='all', inplace=True)\n",
        "#(7172,892)\n",
        "\n",
        "print('Number of participants with all 5 test scores')\n",
        "print(cleaned.shape[0])"
      ],
      "metadata": {
        "id": "__oLs3p9S91R"
      },
      "execution_count": null,
      "outputs": []
    },
    {
      "cell_type": "code",
      "source": [
        "non_numeric_columns = cleaned.select_dtypes(exclude=['number']).columns\n",
        "\n",
        "print(\"Non-numeric columns:\", non_numeric_columns.tolist())"
      ],
      "metadata": {
        "id": "rPCTPmAxTAVM"
      },
      "execution_count": null,
      "outputs": []
    },
    {
      "cell_type": "code",
      "source": [
        "(cleaned['sex_baseline']==cleaned['sex_2year']).sum()"
      ],
      "metadata": {
        "id": "DKeTFgrBTDhn"
      },
      "execution_count": null,
      "outputs": []
    },
    {
      "cell_type": "code",
      "source": [
        "cleaned = cleaned.drop('sex_2year',axis=1)"
      ],
      "metadata": {
        "id": "Qhw8ScgkTEbQ"
      },
      "execution_count": null,
      "outputs": []
    },
    {
      "cell_type": "code",
      "source": [
        "cleaned['sex_baseline'] = cleaned['sex_baseline'].replace({'M': 0, 'F': 1})"
      ],
      "metadata": {
        "id": "lpTv9QOKTFZZ"
      },
      "execution_count": null,
      "outputs": []
    },
    {
      "cell_type": "code",
      "source": [
        "def medianimpute(df):\n",
        "    # Create a copy of the DataFrame to avoid changing the original data\n",
        "    df_imputed = df.copy()\n",
        "\n",
        "    # Identify numeric columns by data type\n",
        "    numeric_cols = df_imputed.select_dtypes(include=[np.number]).columns\n",
        "\n",
        "    # Define the imputer with a median strategy\n",
        "    imputer = SimpleImputer(strategy='median')\n",
        "\n",
        "    # Apply the imputer only to the numeric columns\n",
        "    df_imputed[numeric_cols] = imputer.fit_transform(df_imputed[numeric_cols])\n",
        "\n",
        "    return df_imputed"
      ],
      "metadata": {
        "id": "9P99BppoTGSa"
      },
      "execution_count": null,
      "outputs": []
    },
    {
      "cell_type": "code",
      "source": [
        "imputed = medianimpute(cleaned)"
      ],
      "metadata": {
        "id": "SjwKSbdBTIbs"
      },
      "execution_count": null,
      "outputs": []
    },
    {
      "cell_type": "code",
      "source": [
        "df_low = imputed[(imputed['income_baseline'] >= 1) & (imputed['income_baseline'] < 7)]\n",
        "df_med = imputed[imputed['income_baseline'].isin([7])]\n",
        "df_high = imputed[(imputed['income_baseline'] > 7) & (imputed['income_baseline'] <= 10)]"
      ],
      "metadata": {
        "id": "PKU-Kiv_TLIc"
      },
      "execution_count": null,
      "outputs": []
    },
    {
      "cell_type": "code",
      "source": [
        "low_diff = pd.DataFrame({\n",
        "    'low_diff_picvocab': df_low['nihtbx_picvocab_uncorrected_2year'] - df_low['nihtbx_picvocab_uncorrected_baseline'],\n",
        "    'low_diff_flanker': df_low['nihtbx_flanker_uncorrected_2year'] - df_low['nihtbx_flanker_uncorrected_baseline'],\n",
        "    'low_diff_pattern': df_low['nihtbx_pattern_uncorrected_2year'] - df_low['nihtbx_pattern_uncorrected_baseline'],\n",
        "    'low_diff_picture': df_low['nihtbx_picture_uncorrected_2year'] - df_low['nihtbx_picture_uncorrected_baseline'],\n",
        "    'low_diff_reading': df_low['nihtbx_reading_uncorrected_2year'] - df_low['nihtbx_reading_uncorrected_baseline']\n",
        "})\n",
        "\n",
        "high_diff = pd.DataFrame({\n",
        "    'high_diff_picvocab': df_high['nihtbx_picvocab_uncorrected_2year'] - df_high['nihtbx_picvocab_uncorrected_baseline'],\n",
        "    'high_diff_flanker': df_high['nihtbx_flanker_uncorrected_2year'] - df_high['nihtbx_flanker_uncorrected_baseline'],\n",
        "    'high_diff_pattern': df_high['nihtbx_pattern_uncorrected_2year'] - df_high['nihtbx_pattern_uncorrected_baseline'],\n",
        "    'high_diff_picture': df_high['nihtbx_picture_uncorrected_2year'] - df_high['nihtbx_picture_uncorrected_baseline'],\n",
        "    'high_diff_reading': df_high['nihtbx_reading_uncorrected_2year'] - df_high['nihtbx_reading_uncorrected_baseline']\n",
        "})\n",
        "\n",
        "df_low = pd.concat([df_low, low_diff], axis=1)\n",
        "df_high = pd.concat([df_high, high_diff], axis=1)"
      ],
      "metadata": {
        "id": "vc4Rl3HV7EmX"
      },
      "execution_count": null,
      "outputs": []
    },
    {
      "cell_type": "code",
      "source": [
        "low_picvocab_neg = df_low[df_low['low_diff_picvocab']<0]\n",
        "high_picvocab_neg = df_high[df_high['high_diff_picvocab']<0]\n",
        "low_picvocab_pos = df_low[df_low['low_diff_picvocab']>0]\n",
        "high_picvocab_pos = df_high[df_high['high_diff_picvocab']>0]\n",
        "\n",
        "low_flanker_neg = df_low[df_low['low_diff_flanker']<0]\n",
        "high_flanker_neg = df_high[df_high['high_diff_flanker']<0]\n",
        "low_flanker_pos = df_low[df_low['low_diff_flanker']>0]\n",
        "high_flanker_pos = df_high[df_high['high_diff_flanker']>0]\n",
        "\n",
        "low_pattern_neg = df_low[df_low['low_diff_pattern']<0]\n",
        "high_pattern_neg = df_high[df_high['high_diff_pattern']<0]\n",
        "low_pattern_pos = df_low[df_low['low_diff_pattern']>0]\n",
        "high_pattern_pos = df_high[df_high['high_diff_pattern']>0]\n",
        "\n",
        "low_picture_neg = df_low[df_low['low_diff_picture']<0]\n",
        "high_picture_neg = df_high[df_high['high_diff_picture']<0]\n",
        "low_picture_pos = df_low[df_low['low_diff_picture']>0]\n",
        "high_picture_pos = df_high[df_high['high_diff_picture']>0]\n",
        "\n",
        "low_reading_neg = df_low[df_low['low_diff_reading']<0]\n",
        "high_reading_neg = df_high[df_high['high_diff_reading']<0]\n",
        "low_reading_pos = df_low[df_low['low_diff_reading']>0]\n",
        "high_reading_pos = df_high[df_high['high_diff_reading']>0]"
      ],
      "metadata": {
        "id": "-klzRKEPTMUT"
      },
      "execution_count": null,
      "outputs": []
    },
    {
      "cell_type": "code",
      "source": [
        "model = smf.ols('nihtbx_picvocab_uncorrected_2year ~ ELS_total_2year + income_baseline + high_educ_baseline + sex_baseline + race_ethnicity_baseline + age_2year + married_baseline + bmi_2year', data=low_picvocab_neg).fit()\n",
        "print(model.summary())\n",
        "\n",
        "model = smf.ols('nihtbx_picvocab_uncorrected_2year ~ ELS_total_2year + income_baseline + high_educ_baseline + sex_baseline + race_ethnicity_baseline + age_2year + married_baseline + bmi_2year', data=low_picvocab_pos).fit()\n",
        "print(model.summary())\n",
        "\n",
        "model = smf.ols('nihtbx_picvocab_uncorrected_2year ~ ELS_total_2year + income_baseline + high_educ_baseline + sex_baseline + race_ethnicity_baseline + age_2year + married_baseline + bmi_2year', data=high_picvocab_neg).fit()\n",
        "print(model.summary())\n",
        "\n",
        "model = smf.ols('nihtbx_picvocab_uncorrected_2year ~ ELS_total_2year + income_baseline + high_educ_baseline + sex_baseline + race_ethnicity_baseline + age_2year + married_baseline + bmi_2year', data=high_picvocab_pos).fit()\n",
        "print(model.summary())"
      ],
      "metadata": {
        "id": "kPeOaJP4e75i"
      },
      "execution_count": null,
      "outputs": []
    },
    {
      "cell_type": "code",
      "source": [
        "model = smf.ols('nihtbx_picvocab_uncorrected_2year ~ ELS_total_2year + income_baseline + high_educ_baseline + sex_baseline + race_ethnicity_baseline + age_2year + married_baseline + bmi_2year', data=df_low).fit()\n",
        "print(model.summary())\n",
        "model = smf.ols('nihtbx_picvocab_uncorrected_2year ~ ELS_total_2year + income_baseline + high_educ_baseline + sex_baseline + race_ethnicity_baseline + age_2year + married_baseline + bmi_2year', data=df_high).fit()\n",
        "print(model.summary())"
      ],
      "metadata": {
        "id": "JS0kH7cFgd0-"
      },
      "execution_count": null,
      "outputs": []
    },
    {
      "cell_type": "code",
      "source": [
        "model = smf.ols('nihtbx_picvocab_uncorrected_2year ~ neuroticismauto_baseline + income_baseline + high_educ_baseline + sex_baseline + race_ethnicity_baseline + age_2year + married_baseline + bmi_2year', data=low_picvocab_neg).fit()\n",
        "print(model.summary())\n",
        "\n",
        "model = smf.ols('nihtbx_picvocab_uncorrected_2year ~ neuroticismauto_baseline + income_baseline + high_educ_baseline + sex_baseline + race_ethnicity_baseline + age_2year + married_baseline + bmi_2year', data=low_picvocab_pos).fit()\n",
        "print(model.summary())\n",
        "\n",
        "model = smf.ols('nihtbx_picvocab_uncorrected_2year ~ neuroticismauto_baseline + income_baseline + high_educ_baseline + sex_baseline + race_ethnicity_baseline + age_2year + married_baseline + bmi_2year', data=high_picvocab_neg).fit()\n",
        "print(model.summary())\n",
        "\n",
        "model = smf.ols('nihtbx_picvocab_uncorrected_2year ~ neuroticismauto_baseline + income_baseline + high_educ_baseline + sex_baseline + race_ethnicity_baseline + age_2year + married_baseline + bmi_2year', data=high_picvocab_pos).fit()\n",
        "print(model.summary())"
      ],
      "metadata": {
        "id": "vcCbmyzPhNbj"
      },
      "execution_count": null,
      "outputs": []
    },
    {
      "cell_type": "code",
      "source": [
        "model = smf.ols('nihtbx_picvocab_uncorrected_2year ~ screentime_maturegames_baseline + income_baseline + high_educ_baseline + sex_baseline + race_ethnicity_baseline + age_2year + married_baseline + bmi_2year', data=low_picvocab_neg).fit()\n",
        "print(model.summary())\n",
        "\n",
        "model = smf.ols('nihtbx_picvocab_uncorrected_2year ~ screentime_maturegames_baseline + income_baseline + high_educ_baseline + sex_baseline + race_ethnicity_baseline + age_2year + married_baseline + bmi_2year', data=low_picvocab_pos).fit()\n",
        "print(model.summary())\n",
        "\n",
        "model = smf.ols('nihtbx_picvocab_uncorrected_2year ~ screentime_maturegames_baseline + income_baseline + high_educ_baseline + sex_baseline + race_ethnicity_baseline + age_2year + married_baseline + bmi_2year', data=high_picvocab_neg).fit()\n",
        "print(model.summary())\n",
        "\n",
        "model = smf.ols('nihtbx_picvocab_uncorrected_2year ~ screentime_maturegames_baseline + income_baseline + high_educ_baseline + sex_baseline + race_ethnicity_baseline + age_2year + married_baseline + bmi_2year', data=high_picvocab_pos).fit()\n",
        "print(model.summary())"
      ],
      "metadata": {
        "id": "SdrDQp_Bh_Bj"
      },
      "execution_count": null,
      "outputs": []
    },
    {
      "cell_type": "code",
      "source": [
        "model = smf.ols('nihtbx_picvocab_uncorrected_2year ~ screentime_wkday_p_baseline + income_baseline + high_educ_baseline + sex_baseline + race_ethnicity_baseline + age_2year + married_baseline + bmi_2year', data=low_picvocab_neg).fit()\n",
        "print(model.summary())\n",
        "\n",
        "model = smf.ols('nihtbx_picvocab_uncorrected_2year ~ screentime_wkday_p_baseline + income_baseline + high_educ_baseline + sex_baseline + race_ethnicity_baseline + age_2year + married_baseline + bmi_2year', data=low_picvocab_pos).fit()\n",
        "print(model.summary())\n",
        "\n",
        "model = smf.ols('nihtbx_picvocab_uncorrected_2year ~ screentime_wkday_p_baseline + income_baseline + high_educ_baseline + sex_baseline + race_ethnicity_baseline + age_2year + married_baseline + bmi_2year', data=high_picvocab_neg).fit()\n",
        "print(model.summary())\n",
        "\n",
        "model = smf.ols('nihtbx_picvocab_uncorrected_2year ~ screentime_wkday_p_baseline + income_baseline + high_educ_baseline + sex_baseline + race_ethnicity_baseline + age_2year + married_baseline + bmi_2year', data=high_picvocab_pos).fit()\n",
        "print(model.summary())"
      ],
      "metadata": {
        "id": "tAM1RMZViZ0X"
      },
      "execution_count": null,
      "outputs": []
    },
    {
      "cell_type": "code",
      "source": [
        "model = smf.ols('nihtbx_picvocab_uncorrected_2year ~ screentime_wkday_p_baseline + income_baseline + high_educ_baseline + sex_baseline + race_ethnicity_baseline + age_2year + married_baseline + bmi_2year', data=df_low).fit()\n",
        "print(model.summary())\n",
        "model = smf.ols('nihtbx_picvocab_uncorrected_2year ~ screentime_wkday_p_baseline + income_baseline + high_educ_baseline + sex_baseline + race_ethnicity_baseline + age_2year + married_baseline + bmi_2year', data=df_high).fit()\n",
        "print(model.summary())"
      ],
      "metadata": {
        "id": "epQ7BxdMiwiA"
      },
      "execution_count": null,
      "outputs": []
    },
    {
      "cell_type": "code",
      "source": [
        "model = smf.ols('nihtbx_reading_uncorrected_2year ~ parent_age_baseline + income_baseline + high_educ_baseline + sex_baseline + race_ethnicity_baseline + age_2year + married_baseline + bmi_2year', data=low_reading_neg).fit()\n",
        "print(model.summary())\n",
        "model = smf.ols('nihtbx_reading_uncorrected_2year ~ parent_age_baseline + income_baseline + high_educ_baseline + sex_baseline + race_ethnicity_baseline + age_2year + married_baseline + bmi_2year', data=low_reading_pos).fit()\n",
        "print(model.summary())\n",
        "model = smf.ols('nihtbx_reading_uncorrected_2year ~ parent_age_baseline + income_baseline + high_educ_baseline + sex_baseline + race_ethnicity_baseline + age_2year + married_baseline + bmi_2year', data=high_reading_neg).fit()\n",
        "print(model.summary())\n",
        "model = smf.ols('nihtbx_reading_uncorrected_2year ~ parent_age_baseline + income_baseline + high_educ_baseline + sex_baseline + race_ethnicity_baseline + age_2year + married_baseline + bmi_2year', data=high_reading_pos).fit()\n",
        "print(model.summary())"
      ],
      "metadata": {
        "id": "L4sH6JRBj1ke"
      },
      "execution_count": null,
      "outputs": []
    },
    {
      "cell_type": "code",
      "source": [
        "model = smf.ols('nihtbx_reading_uncorrected_2year ~ parent_age_baseline + income_baseline + high_educ_baseline + sex_baseline + race_ethnicity_baseline + age_2year + married_baseline + bmi_2year', data=df_low).fit()\n",
        "print(model.summary())\n",
        "model = smf.ols('nihtbx_reading_uncorrected_2year ~ parent_age_baseline + income_baseline + high_educ_baseline + sex_baseline + race_ethnicity_baseline + age_2year + married_baseline + bmi_2year', data=df_high).fit()\n",
        "print(model.summary())"
      ],
      "metadata": {
        "id": "ak_cfNCZkWGg"
      },
      "execution_count": null,
      "outputs": []
    },
    {
      "cell_type": "code",
      "source": [
        "model = smf.ols('nihtbx_reading_uncorrected_2year ~ bpm_total_t_2year + income_baseline + high_educ_baseline + sex_baseline + race_ethnicity_baseline + age_2year + married_baseline + bmi_2year', data=low_reading_neg).fit()\n",
        "print(model.summary())\n",
        "model = smf.ols('nihtbx_reading_uncorrected_2year ~ bpm_total_t_2year + income_baseline + high_educ_baseline + sex_baseline + race_ethnicity_baseline + age_2year + married_baseline + bmi_2year', data=low_reading_pos).fit()\n",
        "print(model.summary())\n",
        "model = smf.ols('nihtbx_reading_uncorrected_2year ~ bpm_total_t_2year + income_baseline + high_educ_baseline + sex_baseline + race_ethnicity_baseline + age_2year + married_baseline + bmi_2year', data=high_reading_neg).fit()\n",
        "print(model.summary())\n",
        "model = smf.ols('nihtbx_reading_uncorrected_2year ~ bpm_total_t_2year + income_baseline + high_educ_baseline + sex_baseline + race_ethnicity_baseline + age_2year + married_baseline + bmi_2year', data=high_reading_pos).fit()\n",
        "print(model.summary())"
      ],
      "metadata": {
        "id": "jGVnexJQkmcp"
      },
      "execution_count": null,
      "outputs": []
    },
    {
      "cell_type": "code",
      "source": [
        "model = smf.ols('nihtbx_reading_uncorrected_2year ~ ELS_total_2year + income_baseline + high_educ_baseline + sex_baseline + race_ethnicity_baseline + age_2year + married_baseline + bmi_2year', data=low_reading_neg).fit()\n",
        "print(model.summary())\n",
        "model = smf.ols('nihtbx_reading_uncorrected_2year ~ ELS_total_2year + income_baseline + high_educ_baseline + sex_baseline + race_ethnicity_baseline + age_2year + married_baseline + bmi_2year', data=low_reading_pos).fit()\n",
        "print(model.summary())\n",
        "model = smf.ols('nihtbx_reading_uncorrected_2year ~ ELS_total_2year + income_baseline + high_educ_baseline + sex_baseline + race_ethnicity_baseline + age_2year + married_baseline + bmi_2year', data=high_reading_neg).fit()\n",
        "print(model.summary())\n",
        "model = smf.ols('nihtbx_reading_uncorrected_2year ~ ELS_total_2year + income_baseline + high_educ_baseline + sex_baseline + race_ethnicity_baseline + age_2year + married_baseline + bmi_2year', data=high_reading_pos).fit()\n",
        "print(model.summary())"
      ],
      "metadata": {
        "id": "5peeJSTGk7tV"
      },
      "execution_count": null,
      "outputs": []
    },
    {
      "cell_type": "code",
      "source": [
        "model = smf.ols('nihtbx_reading_uncorrected_2year ~ ELS_total_2year + income_baseline + high_educ_baseline + sex_baseline + race_ethnicity_baseline + age_2year + married_baseline + bmi_2year', data=df_low).fit()\n",
        "print(model.summary())\n",
        "model = smf.ols('nihtbx_reading_uncorrected_2year ~ ELS_total_2year + income_baseline + high_educ_baseline + sex_baseline + race_ethnicity_baseline + age_2year + married_baseline + bmi_2year', data=df_high).fit()\n",
        "print(model.summary())"
      ],
      "metadata": {
        "id": "Ydl9V4QiRV9P"
      },
      "execution_count": null,
      "outputs": []
    },
    {
      "cell_type": "code",
      "source": [
        "model = smf.ols('nihtbx_reading_uncorrected_2year ~ height_2year + income_baseline + high_educ_baseline + sex_baseline + race_ethnicity_baseline + age_2year + married_baseline + bmi_2year', data=low_reading_neg).fit()\n",
        "print(model.summary())\n",
        "model = smf.ols('nihtbx_reading_uncorrected_2year ~ height_2year + income_baseline + high_educ_baseline + sex_baseline + race_ethnicity_baseline + age_2year + married_baseline + bmi_2year', data=low_reading_pos).fit()\n",
        "print(model.summary())\n",
        "model = smf.ols('nihtbx_reading_uncorrected_2year ~ height_2year + income_baseline + high_educ_baseline + sex_baseline + race_ethnicity_baseline + age_2year + married_baseline + bmi_2year', data=high_reading_neg).fit()\n",
        "print(model.summary())\n",
        "model = smf.ols('nihtbx_reading_uncorrected_2year ~ height_2year + income_baseline + high_educ_baseline + sex_baseline + race_ethnicity_baseline + age_2year + married_baseline + bmi_2year', data=high_reading_pos).fit()\n",
        "print(model.summary())"
      ],
      "metadata": {
        "id": "vPae_RAolh7L"
      },
      "execution_count": null,
      "outputs": []
    }
  ]
}