{
  "nbformat": 4,
  "nbformat_minor": 0,
  "metadata": {
    "colab": {
      "provenance": [],
      "authorship_tag": "ABX9TyPRhrxsKP7mclkAjTvgC0zl"
    },
    "kernelspec": {
      "name": "python3",
      "display_name": "Python 3"
    },
    "language_info": {
      "name": "python"
    }
  },
  "cells": [
    {
      "cell_type": "code",
      "source": [
        "# Sources\n",
        "# https://www.statsmodels.org/dev/generated/statsmodels.stats.mediation.Mediation.html"
      ],
      "metadata": {
        "id": "gu52CG-IgGLs"
      },
      "execution_count": null,
      "outputs": []
    },
    {
      "cell_type": "code",
      "execution_count": null,
      "metadata": {
        "id": "1PGIlM3SQyoT"
      },
      "outputs": [],
      "source": [
        "import pandas as pd\n",
        "import numpy as np\n",
        "import statsmodels.api as sm\n",
        "import statsmodels.formula.api as smf\n",
        "import statistics\n",
        "from scipy import stats\n",
        "from sklearn.impute import SimpleImputer\n",
        "from statsmodels.stats.mediation import Mediation"
      ]
    },
    {
      "cell_type": "code",
      "source": [
        "from google.colab import drive\n",
        "drive.mount('/content/drive')"
      ],
      "metadata": {
        "id": "aimqjW9SQ3Rm"
      },
      "execution_count": null,
      "outputs": []
    },
    {
      "cell_type": "code",
      "source": [
        "df = pd.read_csv('/content/drive/MyDrive/Junior/Dyanne JP/ABCD_Release4.0_Tabular_Dataset.csv')\n",
        "df_baseline = df[df['eventname'] == 'baseline_year_1_arm_1']\n",
        "df_2year = df[df['eventname'] == '2_year_follow_up_y_arm_1']"
      ],
      "metadata": {
        "id": "d48JunLsSyA1"
      },
      "execution_count": null,
      "outputs": []
    },
    {
      "cell_type": "code",
      "source": [
        "baseline_2year = pd.merge(df_baseline, df_2year, on='subjectkey', how='left', suffixes=('_baseline', '_2year'))"
      ],
      "metadata": {
        "id": "ZA107UuCS4uT"
      },
      "execution_count": null,
      "outputs": []
    },
    {
      "cell_type": "code",
      "source": [
        "baseline_2year.dropna(subset=['eventname_2year'], inplace=True)"
      ],
      "metadata": {
        "id": "2XeZa9-2S7C1"
      },
      "execution_count": null,
      "outputs": []
    },
    {
      "cell_type": "code",
      "source": [
        "check = ['nihtbx_picvocab_uncorrected_baseline','nihtbx_picvocab_uncorrected_2year','nihtbx_flanker_uncorrected_baseline',\n",
        "         'nihtbx_flanker_uncorrected_2year','nihtbx_pattern_uncorrected_baseline','nihtbx_pattern_uncorrected_2year',\n",
        "         'nihtbx_picture_uncorrected_baseline','nihtbx_picture_uncorrected_2year','nihtbx_reading_uncorrected_baseline',\n",
        "         'nihtbx_reading_uncorrected_2year','nihtbx_cryst_uncorrected_baseline','nihtbx_cryst_uncorrected_2year']\n",
        "\n",
        "cleaned = baseline_2year.dropna(subset=check)\n",
        "#(7172,1055)\n",
        "\n",
        "# drop columns that only have NaN values\n",
        "cleaned.dropna(axis=1, how='all', inplace=True)\n",
        "#(7172,892)\n",
        "\n",
        "print('Number of participants with all 5 test scores')\n",
        "print(cleaned.shape[0])"
      ],
      "metadata": {
        "id": "__oLs3p9S91R"
      },
      "execution_count": null,
      "outputs": []
    },
    {
      "cell_type": "code",
      "source": [
        "non_numeric_columns = cleaned.select_dtypes(exclude=['number']).columns\n",
        "\n",
        "print(\"Non-numeric columns:\", non_numeric_columns.tolist())"
      ],
      "metadata": {
        "id": "rPCTPmAxTAVM"
      },
      "execution_count": null,
      "outputs": []
    },
    {
      "cell_type": "code",
      "source": [
        "(cleaned['sex_baseline']==cleaned['sex_2year']).sum()"
      ],
      "metadata": {
        "id": "DKeTFgrBTDhn"
      },
      "execution_count": null,
      "outputs": []
    },
    {
      "cell_type": "code",
      "source": [
        "cleaned = cleaned.drop('sex_2year',axis=1)"
      ],
      "metadata": {
        "id": "Qhw8ScgkTEbQ"
      },
      "execution_count": null,
      "outputs": []
    },
    {
      "cell_type": "code",
      "source": [
        "cleaned['sex_baseline'] = cleaned['sex_baseline'].replace({'M': 0, 'F': 1})"
      ],
      "metadata": {
        "id": "lpTv9QOKTFZZ"
      },
      "execution_count": null,
      "outputs": []
    },
    {
      "cell_type": "code",
      "source": [
        "def medianimpute(df):\n",
        "    # Create a copy of the DataFrame to avoid changing the original data\n",
        "    df_imputed = df.copy()\n",
        "\n",
        "    # Identify numeric columns by data type\n",
        "    numeric_cols = df_imputed.select_dtypes(include=[np.number]).columns\n",
        "\n",
        "    # Define the imputer with a median strategy\n",
        "    imputer = SimpleImputer(strategy='median')\n",
        "\n",
        "    # Apply the imputer only to the numeric columns\n",
        "    df_imputed[numeric_cols] = imputer.fit_transform(df_imputed[numeric_cols])\n",
        "\n",
        "    return df_imputed"
      ],
      "metadata": {
        "id": "9P99BppoTGSa"
      },
      "execution_count": null,
      "outputs": []
    },
    {
      "cell_type": "code",
      "source": [
        "imputed = medianimpute(cleaned)"
      ],
      "metadata": {
        "id": "SjwKSbdBTIbs"
      },
      "execution_count": null,
      "outputs": []
    },
    {
      "cell_type": "code",
      "source": [
        "# # nest family in ABCD study site for LME random effect\n",
        "# imputed['site_family'] = imputed['abcd_site_baseline'].astype(str) + \"_\" + imputed['family_id_baseline'].astype(str)\n",
        "# imputed['site_family'] = imputed['abcd_site_2year'].astype(str) + \"_\" + imputed['family_id_baseline'].astype(str)"
      ],
      "metadata": {
        "id": "5YRZD5KsTJW6"
      },
      "execution_count": null,
      "outputs": []
    },
    {
      "cell_type": "code",
      "source": [
        "df_low = imputed[(imputed['income_baseline'] >= 1) & (imputed['income_baseline'] < 7)]\n",
        "df_med = imputed[imputed['income_baseline'].isin([7])]\n",
        "df_high = imputed[(imputed['income_baseline'] > 7) & (imputed['income_baseline'] <= 10)]"
      ],
      "metadata": {
        "id": "PKU-Kiv_TLIc"
      },
      "execution_count": null,
      "outputs": []
    },
    {
      "cell_type": "code",
      "source": [
        "low_diff = pd.DataFrame({\n",
        "    'low_diff_picvocab': df_low['nihtbx_picvocab_uncorrected_2year'] - df_low['nihtbx_picvocab_uncorrected_baseline'],\n",
        "    'low_diff_flanker': df_low['nihtbx_flanker_uncorrected_2year'] - df_low['nihtbx_flanker_uncorrected_baseline'],\n",
        "    'low_diff_pattern': df_low['nihtbx_pattern_uncorrected_2year'] - df_low['nihtbx_pattern_uncorrected_baseline'],\n",
        "    'low_diff_picture': df_low['nihtbx_picture_uncorrected_2year'] - df_low['nihtbx_picture_uncorrected_baseline'],\n",
        "    'low_diff_reading': df_low['nihtbx_reading_uncorrected_2year'] - df_low['nihtbx_reading_uncorrected_baseline']\n",
        "})\n",
        "\n",
        "high_diff = pd.DataFrame({\n",
        "    'high_diff_picvocab': df_high['nihtbx_picvocab_uncorrected_2year'] - df_high['nihtbx_picvocab_uncorrected_baseline'],\n",
        "    'high_diff_flanker': df_high['nihtbx_flanker_uncorrected_2year'] - df_high['nihtbx_flanker_uncorrected_baseline'],\n",
        "    'high_diff_pattern': df_high['nihtbx_pattern_uncorrected_2year'] - df_high['nihtbx_pattern_uncorrected_baseline'],\n",
        "    'high_diff_picture': df_high['nihtbx_picture_uncorrected_2year'] - df_high['nihtbx_picture_uncorrected_baseline'],\n",
        "    'high_diff_reading': df_high['nihtbx_reading_uncorrected_2year'] - df_high['nihtbx_reading_uncorrected_baseline']\n",
        "})\n",
        "\n",
        "df_low = pd.concat([df_low, low_diff], axis=1)\n",
        "df_high = pd.concat([df_high, high_diff], axis=1)"
      ],
      "metadata": {
        "id": "vc4Rl3HV7EmX"
      },
      "execution_count": null,
      "outputs": []
    },
    {
      "cell_type": "code",
      "source": [
        "low_picvocab_neg = df_low[df_low['low_diff_picvocab']<0]\n",
        "high_picvocab_neg = df_high[df_high['high_diff_picvocab']<0]\n",
        "low_picvocab_pos = df_low[df_low['low_diff_picvocab']>0]\n",
        "high_picvocab_pos = df_high[df_high['high_diff_picvocab']>0]\n",
        "\n",
        "low_flanker_neg = df_low[df_low['low_diff_flanker']<0]\n",
        "high_flanker_neg = df_high[df_high['high_diff_flanker']<0]\n",
        "low_flanker_pos = df_low[df_low['low_diff_flanker']>0]\n",
        "high_flanker_pos = df_high[df_high['high_diff_flanker']>0]\n",
        "\n",
        "low_pattern_neg = df_low[df_low['low_diff_pattern']<0]\n",
        "high_pattern_neg = df_high[df_high['high_diff_pattern']<0]\n",
        "low_pattern_pos = df_low[df_low['low_diff_pattern']>0]\n",
        "high_pattern_pos = df_high[df_high['high_diff_pattern']>0]\n",
        "\n",
        "low_picture_neg = df_low[df_low['low_diff_picture']<0]\n",
        "high_picture_neg = df_high[df_high['high_diff_picture']<0]\n",
        "low_picture_pos = df_low[df_low['low_diff_picture']>0]\n",
        "high_picture_pos = df_high[df_high['high_diff_picture']>0]\n",
        "\n",
        "low_reading_neg = df_low[df_low['low_diff_reading']<0]\n",
        "high_reading_neg = df_high[df_high['high_diff_reading']<0]\n",
        "low_reading_pos = df_low[df_low['low_diff_reading']>0]\n",
        "high_reading_pos = df_high[df_high['high_diff_reading']>0]"
      ],
      "metadata": {
        "id": "-klzRKEPTMUT"
      },
      "execution_count": null,
      "outputs": []
    },
    {
      "cell_type": "code",
      "source": [
        "# Specify the model for the outcome\n",
        "outcome_model = sm.OLS.from_formula('nihtbx_picvocab_uncorrected_2year ~ screentime_wkend_sns_baseline + income_baseline + high_educ_baseline + sex_baseline + race_ethnicity_baseline + age_2year + married_baseline + bmi_2year', data=low_picvocab_neg)\n",
        "\n",
        "# Specify the model for the mediator\n",
        "mediator_model = sm.OLS.from_formula('screentime_wkend_sns_baseline ~ income_baseline + high_educ_baseline + sex_baseline + race_ethnicity_baseline + age_2year + married_baseline + bmi_2year', data=low_picvocab_neg)\n",
        "\n",
        "# Set up the mediation analysis model\n",
        "med = Mediation(outcome_model, mediator_model, 'income_baseline', 'screentime_wkend_sns_baseline')\n",
        "\n",
        "# Fit the mediation model\n",
        "med_result = med.fit()\n",
        "\n",
        "# Print the results\n",
        "print(med_result.summary())"
      ],
      "metadata": {
        "id": "p726HV1AzBbf"
      },
      "execution_count": null,
      "outputs": []
    },
    {
      "cell_type": "code",
      "source": [
        "model = smf.ols('screentime_wkend_sns_baseline ~ income_baseline + high_educ_baseline + sex_baseline + race_ethnicity_baseline + age_2year + married_baseline + bmi_2year', data=low_picvocab_neg).fit()\n",
        "\n",
        "# Print the summary of the regression model\n",
        "print(model.summary())"
      ],
      "metadata": {
        "id": "GVSoR9qGzTCF"
      },
      "execution_count": null,
      "outputs": []
    },
    {
      "cell_type": "code",
      "source": [
        "# Specify the model for the outcome\n",
        "outcome_model = sm.OLS.from_formula('nihtbx_picvocab_uncorrected_2year ~ screentime_wkend_sns_baseline + income_baseline + high_educ_baseline + sex_baseline + race_ethnicity_baseline + age_2year + married_baseline + bmi_2year', data=low_picvocab_pos)\n",
        "\n",
        "# Specify the model for the mediator\n",
        "mediator_model = sm.OLS.from_formula('screentime_wkend_sns_baseline ~ income_baseline + high_educ_baseline + sex_baseline + race_ethnicity_baseline + age_2year + married_baseline + bmi_2year', data=low_picvocab_pos)\n",
        "\n",
        "# Set up the mediation analysis model\n",
        "med = Mediation(outcome_model, mediator_model, 'income_baseline', 'screentime_wkend_sns_baseline')\n",
        "\n",
        "# Fit the mediation model\n",
        "med_result = med.fit()\n",
        "\n",
        "# Print the results\n",
        "print(med_result.summary())"
      ],
      "metadata": {
        "id": "xJgDLDCUznPM"
      },
      "execution_count": null,
      "outputs": []
    },
    {
      "cell_type": "code",
      "source": [
        "model = smf.ols('screentime_wkend_sns_baseline ~ income_baseline + high_educ_baseline + sex_baseline + race_ethnicity_baseline + age_2year + married_baseline + bmi_2year', data=low_picvocab_pos).fit()\n",
        "\n",
        "# Print the summary of the regression model\n",
        "print(model.summary())"
      ],
      "metadata": {
        "id": "dkA5vpzDznPN"
      },
      "execution_count": null,
      "outputs": []
    },
    {
      "cell_type": "code",
      "source": [
        "# Specify the model for the outcome\n",
        "outcome_model = sm.OLS.from_formula('nihtbx_picvocab_uncorrected_2year ~ screentime_wkend_sns_baseline + income_baseline + high_educ_baseline + sex_baseline + race_ethnicity_baseline + age_2year + married_baseline + bmi_2year', data=high_picvocab_neg)\n",
        "\n",
        "# Specify the model for the mediator\n",
        "mediator_model = sm.OLS.from_formula('screentime_wkend_sns_baseline ~ income_baseline + high_educ_baseline + sex_baseline + race_ethnicity_baseline + age_2year + married_baseline + bmi_2year', data=high_picvocab_neg)\n",
        "\n",
        "# Set up the mediation analysis model\n",
        "med = Mediation(outcome_model, mediator_model, 'income_baseline', 'screentime_wkend_sns_baseline')\n",
        "\n",
        "# Fit the mediation model\n",
        "med_result = med.fit()\n",
        "\n",
        "# Print the results\n",
        "print(med_result.summary())"
      ],
      "metadata": {
        "id": "pOWMIuR6z4-_"
      },
      "execution_count": null,
      "outputs": []
    },
    {
      "cell_type": "code",
      "source": [
        "model = smf.ols('screentime_wkend_sns_baseline ~ income_baseline + high_educ_baseline + sex_baseline + race_ethnicity_baseline + age_2year + married_baseline + bmi_2year', data=high_picvocab_neg).fit()\n",
        "\n",
        "# Print the summary of the regression model\n",
        "print(model.summary())"
      ],
      "metadata": {
        "id": "rQdclfg0z4_A"
      },
      "execution_count": null,
      "outputs": []
    },
    {
      "cell_type": "code",
      "source": [
        "# Specify the model for the outcome\n",
        "outcome_model = sm.OLS.from_formula('nihtbx_picvocab_uncorrected_2year ~ screentime_wkend_sns_baseline + income_baseline + high_educ_baseline + sex_baseline + race_ethnicity_baseline + age_2year + married_baseline + bmi_2year', data=high_picvocab_pos)\n",
        "\n",
        "# Specify the model for the mediator\n",
        "mediator_model = sm.OLS.from_formula('screentime_wkend_sns_baseline ~ income_baseline + high_educ_baseline + sex_baseline + race_ethnicity_baseline + age_2year + married_baseline + bmi_2year', data=high_picvocab_pos)\n",
        "\n",
        "# Set up the mediation analysis model\n",
        "med = Mediation(outcome_model, mediator_model, 'income_baseline', 'screentime_wkend_sns_baseline')\n",
        "\n",
        "# Fit the mediation model\n",
        "med_result = med.fit()\n",
        "\n",
        "# Print the results\n",
        "print(med_result.summary())"
      ],
      "metadata": {
        "id": "R8Oov2VPz4_A"
      },
      "execution_count": null,
      "outputs": []
    },
    {
      "cell_type": "code",
      "source": [
        "model = smf.ols('screentime_wkend_sns_baseline ~ income_baseline + high_educ_baseline + sex_baseline + race_ethnicity_baseline + age_2year + married_baseline + bmi_2year', data=high_picvocab_pos).fit()\n",
        "\n",
        "# Print the summary of the regression model\n",
        "print(model.summary())"
      ],
      "metadata": {
        "id": "lpHw0psyz4_A"
      },
      "execution_count": null,
      "outputs": []
    },
    {
      "cell_type": "code",
      "source": [
        "# Specify the model for the outcome\n",
        "outcome_model = sm.OLS.from_formula('nihtbx_picvocab_uncorrected_2year ~ screentime_wkend_sns_baseline + income_baseline + high_educ_baseline + sex_baseline + race_ethnicity_baseline + age_2year + married_baseline + bmi_2year', data=df_low)\n",
        "\n",
        "# Specify the model for the mediator\n",
        "mediator_model = sm.OLS.from_formula('screentime_wkend_sns_baseline ~ income_baseline + high_educ_baseline + sex_baseline + race_ethnicity_baseline + age_2year + married_baseline + bmi_2year', data=df_low)\n",
        "\n",
        "# Set up the mediation analysis model\n",
        "med = Mediation(outcome_model, mediator_model, 'income_baseline', 'screentime_wkend_sns_baseline')\n",
        "\n",
        "# Fit the mediation model\n",
        "med_result = med.fit()\n",
        "\n",
        "# Print the results\n",
        "print(med_result.summary())"
      ],
      "metadata": {
        "id": "gGlwqZNN0OBL"
      },
      "execution_count": null,
      "outputs": []
    },
    {
      "cell_type": "code",
      "source": [
        "model = smf.ols('screentime_wkend_sns_baseline ~ income_baseline + high_educ_baseline + sex_baseline + race_ethnicity_baseline + age_2year + married_baseline + bmi_2year', data=df_low).fit()\n",
        "\n",
        "# Print the summary of the regression model\n",
        "print(model.summary())"
      ],
      "metadata": {
        "id": "JtWkW78i0OBM"
      },
      "execution_count": null,
      "outputs": []
    },
    {
      "cell_type": "code",
      "source": [
        "# Specify the model for the outcome\n",
        "outcome_model = sm.OLS.from_formula('nihtbx_picvocab_uncorrected_2year ~ screentime_wkend_sns_baseline + income_baseline + high_educ_baseline + sex_baseline + race_ethnicity_baseline + age_2year + married_baseline + bmi_2year', data=df_high)\n",
        "\n",
        "# Specify the model for the mediator\n",
        "mediator_model = sm.OLS.from_formula('screentime_wkend_sns_baseline ~ income_baseline + high_educ_baseline + sex_baseline + race_ethnicity_baseline + age_2year + married_baseline + bmi_2year', data=df_high)\n",
        "\n",
        "# Set up the mediation analysis model\n",
        "med = Mediation(outcome_model, mediator_model, 'income_baseline', 'screentime_wkend_sns_baseline')\n",
        "\n",
        "# Fit the mediation model\n",
        "med_result = med.fit()\n",
        "\n",
        "# Print the results\n",
        "print(med_result.summary())"
      ],
      "metadata": {
        "id": "wWL7j3cO0TyC"
      },
      "execution_count": null,
      "outputs": []
    },
    {
      "cell_type": "code",
      "source": [
        "model = smf.ols('screentime_wkend_sns_baseline ~ income_baseline + high_educ_baseline + sex_baseline + race_ethnicity_baseline + age_2year + married_baseline + bmi_2year', data=df_high).fit()\n",
        "\n",
        "# Print the summary of the regression model\n",
        "print(model.summary())"
      ],
      "metadata": {
        "id": "WAIMt6Pl0TyD"
      },
      "execution_count": null,
      "outputs": []
    },
    {
      "cell_type": "code",
      "source": [
        "###"
      ],
      "metadata": {
        "id": "UMkuVwj11X1i"
      },
      "execution_count": null,
      "outputs": []
    },
    {
      "cell_type": "code",
      "source": [
        "# Specify the model for the outcome\n",
        "outcome_model = sm.OLS.from_formula('nihtbx_picvocab_uncorrected_2year ~ worryauto_baseline + income_baseline + high_educ_baseline + sex_baseline + race_ethnicity_baseline + age_2year + married_baseline + bmi_2year', data=low_picvocab_neg)\n",
        "\n",
        "# Specify the model for the mediator\n",
        "mediator_model = sm.OLS.from_formula('worryauto_baseline ~ income_baseline + high_educ_baseline + sex_baseline + race_ethnicity_baseline + age_2year + married_baseline + bmi_2year', data=low_picvocab_neg)\n",
        "\n",
        "# Set up the mediation analysis model\n",
        "med = Mediation(outcome_model, mediator_model, 'income_baseline', 'worryauto_baseline')\n",
        "\n",
        "# Fit the mediation model\n",
        "med_result = med.fit()\n",
        "\n",
        "# Print the results\n",
        "print(med_result.summary())"
      ],
      "metadata": {
        "id": "jjajMttc0l2r"
      },
      "execution_count": null,
      "outputs": []
    },
    {
      "cell_type": "code",
      "source": [
        "model = smf.ols('worryauto_baseline ~ income_baseline + high_educ_baseline + sex_baseline + race_ethnicity_baseline + age_2year + married_baseline + bmi_2year', data=low_picvocab_neg).fit()\n",
        "\n",
        "# Print the summary of the regression model\n",
        "print(model.summary())"
      ],
      "metadata": {
        "id": "UihdjPeQ0l2r"
      },
      "execution_count": null,
      "outputs": []
    },
    {
      "cell_type": "code",
      "source": [
        "# Specify the model for the outcome\n",
        "outcome_model = sm.OLS.from_formula('nihtbx_picvocab_uncorrected_2year ~ worryauto_baseline + income_baseline + high_educ_baseline + sex_baseline + race_ethnicity_baseline + age_2year + married_baseline + bmi_2year', data=low_picvocab_pos)\n",
        "\n",
        "# Specify the model for the mediator\n",
        "mediator_model = sm.OLS.from_formula('worryauto_baseline ~ income_baseline + high_educ_baseline + sex_baseline + race_ethnicity_baseline + age_2year + married_baseline + bmi_2year', data=low_picvocab_pos)\n",
        "\n",
        "# Set up the mediation analysis model\n",
        "med = Mediation(outcome_model, mediator_model, 'income_baseline', 'worryauto_baseline')\n",
        "\n",
        "# Fit the mediation model\n",
        "med_result = med.fit()\n",
        "\n",
        "# Print the results\n",
        "print(med_result.summary())"
      ],
      "metadata": {
        "id": "PsLOSWnV0l2r"
      },
      "execution_count": null,
      "outputs": []
    },
    {
      "cell_type": "code",
      "source": [
        "model = smf.ols('worryauto_baseline ~ income_baseline + high_educ_baseline + sex_baseline + race_ethnicity_baseline + age_2year + married_baseline + bmi_2year', data=low_picvocab_pos).fit()\n",
        "\n",
        "# Print the summary of the regression model\n",
        "print(model.summary())"
      ],
      "metadata": {
        "id": "5OaFy-Uj0l2s"
      },
      "execution_count": null,
      "outputs": []
    },
    {
      "cell_type": "code",
      "source": [
        "# Specify the model for the outcome\n",
        "outcome_model = sm.OLS.from_formula('nihtbx_picvocab_uncorrected_2year ~ worryauto_baseline + income_baseline + high_educ_baseline + sex_baseline + race_ethnicity_baseline + age_2year + married_baseline + bmi_2year', data=high_picvocab_neg)\n",
        "\n",
        "# Specify the model for the mediator\n",
        "mediator_model = sm.OLS.from_formula('worryauto_baseline ~ income_baseline + high_educ_baseline + sex_baseline + race_ethnicity_baseline + age_2year + married_baseline + bmi_2year', data=high_picvocab_neg)\n",
        "\n",
        "# Set up the mediation analysis model\n",
        "med = Mediation(outcome_model, mediator_model, 'income_baseline', 'worryauto_baseline')\n",
        "\n",
        "# Fit the mediation model\n",
        "med_result = med.fit()\n",
        "\n",
        "# Print the results\n",
        "print(med_result.summary())"
      ],
      "metadata": {
        "id": "4PCjfQku0l2s"
      },
      "execution_count": null,
      "outputs": []
    },
    {
      "cell_type": "code",
      "source": [
        "model = smf.ols('worryauto_baseline ~ income_baseline + high_educ_baseline + sex_baseline + race_ethnicity_baseline + age_2year + married_baseline + bmi_2year', data=high_picvocab_neg).fit()\n",
        "\n",
        "# Print the summary of the regression model\n",
        "print(model.summary())"
      ],
      "metadata": {
        "id": "zYQo0MW60l2s"
      },
      "execution_count": null,
      "outputs": []
    },
    {
      "cell_type": "code",
      "source": [
        "# Specify the model for the outcome\n",
        "outcome_model = sm.OLS.from_formula('nihtbx_picvocab_uncorrected_2year ~ worryauto_baseline + income_baseline + high_educ_baseline + sex_baseline + race_ethnicity_baseline + age_2year + married_baseline + bmi_2year', data=high_picvocab_pos)\n",
        "\n",
        "# Specify the model for the mediator\n",
        "mediator_model = sm.OLS.from_formula('worryauto_baseline ~ income_baseline + high_educ_baseline + sex_baseline + race_ethnicity_baseline + age_2year + married_baseline + bmi_2year', data=high_picvocab_pos)\n",
        "\n",
        "# Set up the mediation analysis model\n",
        "med = Mediation(outcome_model, mediator_model, 'income_baseline', 'worryauto_baseline')\n",
        "\n",
        "# Fit the mediation model\n",
        "med_result = med.fit()\n",
        "\n",
        "# Print the results\n",
        "print(med_result.summary())"
      ],
      "metadata": {
        "id": "zLlUskBt0l2s"
      },
      "execution_count": null,
      "outputs": []
    },
    {
      "cell_type": "code",
      "source": [
        "model = smf.ols('worryauto_baseline ~ income_baseline + high_educ_baseline + sex_baseline + race_ethnicity_baseline + age_2year + married_baseline + bmi_2year', data=high_picvocab_pos).fit()\n",
        "\n",
        "# Print the summary of the regression model\n",
        "print(model.summary())"
      ],
      "metadata": {
        "id": "dJHC34sW0l2s"
      },
      "execution_count": null,
      "outputs": []
    },
    {
      "cell_type": "code",
      "source": [
        "# Specify the model for the outcome\n",
        "outcome_model = sm.OLS.from_formula('nihtbx_picvocab_uncorrected_2year ~ worryauto_baseline + income_baseline + high_educ_baseline + sex_baseline + race_ethnicity_baseline + age_2year + married_baseline + bmi_2year', data=df_low)\n",
        "\n",
        "# Specify the model for the mediator\n",
        "mediator_model = sm.OLS.from_formula('worryauto_baseline ~ income_baseline + high_educ_baseline + sex_baseline + race_ethnicity_baseline + age_2year + married_baseline + bmi_2year', data=df_low)\n",
        "\n",
        "# Set up the mediation analysis model\n",
        "med = Mediation(outcome_model, mediator_model, 'income_baseline', 'worryauto_baseline')\n",
        "\n",
        "# Fit the mediation model\n",
        "med_result = med.fit()\n",
        "\n",
        "# Print the results\n",
        "print(med_result.summary())"
      ],
      "metadata": {
        "id": "kKgp2thp0l2s"
      },
      "execution_count": null,
      "outputs": []
    },
    {
      "cell_type": "code",
      "source": [
        "model = smf.ols('worryauto_baseline ~ income_baseline + high_educ_baseline + sex_baseline + race_ethnicity_baseline + age_2year + married_baseline + bmi_2year', data=df_low).fit()\n",
        "\n",
        "# Print the summary of the regression model\n",
        "print(model.summary())"
      ],
      "metadata": {
        "id": "YQMhcKf40l2t"
      },
      "execution_count": null,
      "outputs": []
    },
    {
      "cell_type": "code",
      "source": [
        "# Specify the model for the outcome\n",
        "outcome_model = sm.OLS.from_formula('nihtbx_picvocab_uncorrected_2year ~ worryauto_baseline + income_baseline + high_educ_baseline + sex_baseline + race_ethnicity_baseline + age_2year + married_baseline + bmi_2year', data=df_high)\n",
        "\n",
        "# Specify the model for the mediator\n",
        "mediator_model = sm.OLS.from_formula('worryauto_baseline ~ income_baseline + high_educ_baseline + sex_baseline + race_ethnicity_baseline + age_2year + married_baseline + bmi_2year', data=df_high)\n",
        "\n",
        "# Set up the mediation analysis model\n",
        "med = Mediation(outcome_model, mediator_model, 'income_baseline', 'worryauto_baseline')\n",
        "\n",
        "# Fit the mediation model\n",
        "med_result = med.fit()\n",
        "\n",
        "# Print the results\n",
        "print(med_result.summary())"
      ],
      "metadata": {
        "id": "vMByyUvq0l2u"
      },
      "execution_count": null,
      "outputs": []
    },
    {
      "cell_type": "code",
      "source": [
        "model = smf.ols('worryauto_baseline ~ income_baseline + high_educ_baseline + sex_baseline + race_ethnicity_baseline + age_2year + married_baseline + bmi_2year', data=df_high).fit()\n",
        "\n",
        "# Print the summary of the regression model\n",
        "print(model.summary())"
      ],
      "metadata": {
        "id": "U8VHZ5gN0l2u"
      },
      "execution_count": null,
      "outputs": []
    },
    {
      "cell_type": "code",
      "source": [
        "##"
      ],
      "metadata": {
        "id": "hxPHt1Rd1TC5"
      },
      "execution_count": null,
      "outputs": []
    },
    {
      "cell_type": "code",
      "source": [
        "# Specify the model for the outcome\n",
        "outcome_model = sm.OLS.from_formula('nihtbx_picvocab_uncorrected_2year ~ parent_age_baseline + income_baseline + high_educ_baseline + sex_baseline + race_ethnicity_baseline + age_2year + married_baseline + bmi_2year', data=low_picvocab_neg)\n",
        "\n",
        "# Specify the model for the mediator\n",
        "mediator_model = sm.OLS.from_formula('parent_age_baseline ~ income_baseline + high_educ_baseline + sex_baseline + race_ethnicity_baseline + age_2year + married_baseline + bmi_2year', data=low_picvocab_neg)\n",
        "\n",
        "# Set up the mediation analysis model\n",
        "med = Mediation(outcome_model, mediator_model, 'income_baseline', 'parent_age_baseline')\n",
        "\n",
        "# Fit the mediation model\n",
        "med_result = med.fit()\n",
        "\n",
        "# Print the results\n",
        "print(med_result.summary())"
      ],
      "metadata": {
        "id": "cFzWPtbP1U0a"
      },
      "execution_count": null,
      "outputs": []
    },
    {
      "cell_type": "code",
      "source": [
        "model = smf.ols('parent_age_baseline ~ income_baseline + high_educ_baseline + sex_baseline + race_ethnicity_baseline + age_2year + married_baseline + bmi_2year', data=low_picvocab_neg).fit()\n",
        "\n",
        "# Print the summary of the regression model\n",
        "print(model.summary())"
      ],
      "metadata": {
        "id": "T7Nf6nfP1U0b"
      },
      "execution_count": null,
      "outputs": []
    },
    {
      "cell_type": "code",
      "source": [
        "# Specify the model for the outcome\n",
        "outcome_model = sm.OLS.from_formula('nihtbx_picvocab_uncorrected_2year ~ parent_age_baseline + income_baseline + high_educ_baseline + sex_baseline + race_ethnicity_baseline + age_2year + married_baseline + bmi_2year', data=low_picvocab_pos)\n",
        "\n",
        "# Specify the model for the mediator\n",
        "mediator_model = sm.OLS.from_formula('parent_age_baseline ~ income_baseline + high_educ_baseline + sex_baseline + race_ethnicity_baseline + age_2year + married_baseline + bmi_2year', data=low_picvocab_pos)\n",
        "\n",
        "# Set up the mediation analysis model\n",
        "med = Mediation(outcome_model, mediator_model, 'income_baseline', 'parent_age_baseline')\n",
        "\n",
        "# Fit the mediation model\n",
        "med_result = med.fit()\n",
        "\n",
        "# Print the results\n",
        "print(med_result.summary())"
      ],
      "metadata": {
        "id": "8jw2NHNa1U0b"
      },
      "execution_count": null,
      "outputs": []
    },
    {
      "cell_type": "code",
      "source": [
        "model = smf.ols('parent_age_baseline ~ income_baseline + high_educ_baseline + sex_baseline + race_ethnicity_baseline + age_2year + married_baseline + bmi_2year', data=low_picvocab_pos).fit()\n",
        "\n",
        "# Print the summary of the regression model\n",
        "print(model.summary())"
      ],
      "metadata": {
        "id": "Sb6pyEsG1U0b"
      },
      "execution_count": null,
      "outputs": []
    },
    {
      "cell_type": "code",
      "source": [
        "# Specify the model for the outcome\n",
        "outcome_model = sm.OLS.from_formula('nihtbx_picvocab_uncorrected_2year ~ parent_age_baseline + income_baseline + high_educ_baseline + sex_baseline + race_ethnicity_baseline + age_2year + married_baseline + bmi_2year', data=high_picvocab_neg)\n",
        "\n",
        "# Specify the model for the mediator\n",
        "mediator_model = sm.OLS.from_formula('parent_age_baseline ~ income_baseline + high_educ_baseline + sex_baseline + race_ethnicity_baseline + age_2year + married_baseline + bmi_2year', data=high_picvocab_neg)\n",
        "\n",
        "# Set up the mediation analysis model\n",
        "med = Mediation(outcome_model, mediator_model, 'income_baseline', 'parent_age_baseline')\n",
        "\n",
        "# Fit the mediation model\n",
        "med_result = med.fit()\n",
        "\n",
        "# Print the results\n",
        "print(med_result.summary())"
      ],
      "metadata": {
        "id": "tdBt16Xu1U0b"
      },
      "execution_count": null,
      "outputs": []
    },
    {
      "cell_type": "code",
      "source": [
        "model = smf.ols('parent_age_baseline ~ income_baseline + high_educ_baseline + sex_baseline + race_ethnicity_baseline + age_2year + married_baseline + bmi_2year', data=high_picvocab_neg).fit()\n",
        "\n",
        "# Print the summary of the regression model\n",
        "print(model.summary())"
      ],
      "metadata": {
        "id": "KUAeVDhH1U0b"
      },
      "execution_count": null,
      "outputs": []
    },
    {
      "cell_type": "code",
      "source": [
        "# Specify the model for the outcome\n",
        "outcome_model = sm.OLS.from_formula('nihtbx_picvocab_uncorrected_2year ~ parent_age_baseline + income_baseline + high_educ_baseline + sex_baseline + race_ethnicity_baseline + age_2year + married_baseline + bmi_2year', data=high_picvocab_pos)\n",
        "\n",
        "# Specify the model for the mediator\n",
        "mediator_model = sm.OLS.from_formula('parent_age_baseline ~ income_baseline + high_educ_baseline + sex_baseline + race_ethnicity_baseline + age_2year + married_baseline + bmi_2year', data=high_picvocab_pos)\n",
        "\n",
        "# Set up the mediation analysis model\n",
        "med = Mediation(outcome_model, mediator_model, 'income_baseline', 'parent_age_baseline')\n",
        "\n",
        "# Fit the mediation model\n",
        "med_result = med.fit()\n",
        "\n",
        "# Print the results\n",
        "print(med_result.summary())"
      ],
      "metadata": {
        "id": "QOo_bVdY1U0b"
      },
      "execution_count": null,
      "outputs": []
    },
    {
      "cell_type": "code",
      "source": [
        "model = smf.ols('parent_age_baseline ~ income_baseline + high_educ_baseline + sex_baseline + race_ethnicity_baseline + age_2year + married_baseline + bmi_2year', data=high_picvocab_pos).fit()\n",
        "\n",
        "# Print the summary of the regression model\n",
        "print(model.summary())"
      ],
      "metadata": {
        "id": "5Feqfke-1U0b"
      },
      "execution_count": null,
      "outputs": []
    },
    {
      "cell_type": "code",
      "source": [
        "# Specify the model for the outcome\n",
        "outcome_model = sm.OLS.from_formula('nihtbx_picvocab_uncorrected_2year ~ parent_age_baseline + income_baseline + high_educ_baseline + sex_baseline + race_ethnicity_baseline + age_2year + married_baseline + bmi_2year', data=df_low)\n",
        "\n",
        "# Specify the model for the mediator\n",
        "mediator_model = sm.OLS.from_formula('parent_age_baseline ~ income_baseline + high_educ_baseline + sex_baseline + race_ethnicity_baseline + age_2year + married_baseline + bmi_2year', data=df_low)\n",
        "\n",
        "# Set up the mediation analysis model\n",
        "med = Mediation(outcome_model, mediator_model, 'income_baseline', 'parent_age_baseline')\n",
        "\n",
        "# Fit the mediation model\n",
        "med_result = med.fit()\n",
        "\n",
        "# Print the results\n",
        "print(med_result.summary())"
      ],
      "metadata": {
        "id": "lsqyRIof1U0c"
      },
      "execution_count": null,
      "outputs": []
    },
    {
      "cell_type": "code",
      "source": [
        "model = smf.ols('parent_age_baseline ~ income_baseline + high_educ_baseline + sex_baseline + race_ethnicity_baseline + age_2year + married_baseline + bmi_2year', data=df_low).fit()\n",
        "\n",
        "# Print the summary of the regression model\n",
        "print(model.summary())"
      ],
      "metadata": {
        "id": "m5TuDZs61U0c"
      },
      "execution_count": null,
      "outputs": []
    },
    {
      "cell_type": "code",
      "source": [
        "# Specify the model for the outcome\n",
        "outcome_model = sm.OLS.from_formula('nihtbx_picvocab_uncorrected_2year ~ parent_age_baseline + income_baseline + high_educ_baseline + sex_baseline + race_ethnicity_baseline + age_2year + married_baseline + bmi_2year', data=df_high)\n",
        "\n",
        "# Specify the model for the mediator\n",
        "mediator_model = sm.OLS.from_formula('parent_age_baseline ~ income_baseline + high_educ_baseline + sex_baseline + race_ethnicity_baseline + age_2year + married_baseline + bmi_2year', data=df_high)\n",
        "\n",
        "# Set up the mediation analysis model\n",
        "med = Mediation(outcome_model, mediator_model, 'income_baseline', 'parent_age_baseline')\n",
        "\n",
        "# Fit the mediation model\n",
        "med_result = med.fit()\n",
        "\n",
        "# Print the results\n",
        "print(med_result.summary())"
      ],
      "metadata": {
        "id": "Yo2d6SfE1U0c"
      },
      "execution_count": null,
      "outputs": []
    },
    {
      "cell_type": "code",
      "source": [
        "model = smf.ols('parent_age_baseline ~ income_baseline + high_educ_baseline + sex_baseline + race_ethnicity_baseline + age_2year + married_baseline + bmi_2year', data=df_high).fit()\n",
        "\n",
        "# Print the summary of the regression model\n",
        "print(model.summary())"
      ],
      "metadata": {
        "id": "5IdWyOoL1U0c"
      },
      "execution_count": null,
      "outputs": []
    },
    {
      "cell_type": "code",
      "source": [
        "##"
      ],
      "metadata": {
        "id": "66buPBcY1wY_"
      },
      "execution_count": null,
      "outputs": []
    },
    {
      "cell_type": "code",
      "source": [
        "# Specify the model for the outcome\n",
        "outcome_model = sm.OLS.from_formula('nihtbx_picvocab_uncorrected_2year ~ cpeur2_baseline + income_baseline + high_educ_baseline + sex_baseline + race_ethnicity_baseline + age_2year + married_baseline + bmi_2year', data=low_picvocab_neg)\n",
        "\n",
        "# Specify the model for the mediator\n",
        "mediator_model = sm.OLS.from_formula('cpeur2_baseline ~ income_baseline + high_educ_baseline + sex_baseline + race_ethnicity_baseline + age_2year + married_baseline + bmi_2year', data=low_picvocab_neg)\n",
        "\n",
        "# Set up the mediation analysis model\n",
        "med = Mediation(outcome_model, mediator_model, 'income_baseline', 'cpeur2_baseline')\n",
        "\n",
        "# Fit the mediation model\n",
        "med_result = med.fit()\n",
        "\n",
        "# Print the results\n",
        "print(med_result.summary())"
      ],
      "metadata": {
        "id": "bn88bWzT1zXR"
      },
      "execution_count": null,
      "outputs": []
    },
    {
      "cell_type": "code",
      "source": [
        "model = smf.ols('cpeur2_baseline ~ income_baseline + high_educ_baseline + sex_baseline + race_ethnicity_baseline + age_2year + married_baseline + bmi_2year', data=low_picvocab_neg).fit()\n",
        "\n",
        "# Print the summary of the regression model\n",
        "print(model.summary())"
      ],
      "metadata": {
        "id": "Q3fDv2g71zXS"
      },
      "execution_count": null,
      "outputs": []
    },
    {
      "cell_type": "code",
      "source": [
        "# Specify the model for the outcome\n",
        "outcome_model = sm.OLS.from_formula('nihtbx_picvocab_uncorrected_2year ~ cpeur2_baseline + income_baseline + high_educ_baseline + sex_baseline + race_ethnicity_baseline + age_2year + married_baseline + bmi_2year', data=low_picvocab_pos)\n",
        "\n",
        "# Specify the model for the mediator\n",
        "mediator_model = sm.OLS.from_formula('cpeur2_baseline ~ income_baseline + high_educ_baseline + sex_baseline + race_ethnicity_baseline + age_2year + married_baseline + bmi_2year', data=low_picvocab_pos)\n",
        "\n",
        "# Set up the mediation analysis model\n",
        "med = Mediation(outcome_model, mediator_model, 'income_baseline', 'cpeur2_baseline')\n",
        "\n",
        "# Fit the mediation model\n",
        "med_result = med.fit()\n",
        "\n",
        "# Print the results\n",
        "print(med_result.summary())"
      ],
      "metadata": {
        "id": "9Rt8n_GA1zXS"
      },
      "execution_count": null,
      "outputs": []
    },
    {
      "cell_type": "code",
      "source": [
        "model = smf.ols('cpeur2_baseline ~ income_baseline + high_educ_baseline + sex_baseline + race_ethnicity_baseline + age_2year + married_baseline + bmi_2year', data=low_picvocab_pos).fit()\n",
        "\n",
        "# Print the summary of the regression model\n",
        "print(model.summary())"
      ],
      "metadata": {
        "id": "STHD1za21zXS"
      },
      "execution_count": null,
      "outputs": []
    },
    {
      "cell_type": "code",
      "source": [
        "# Specify the model for the outcome\n",
        "outcome_model = sm.OLS.from_formula('nihtbx_picvocab_uncorrected_2year ~ cpeur2_baseline + income_baseline + high_educ_baseline + sex_baseline + race_ethnicity_baseline + age_2year + married_baseline + bmi_2year', data=high_picvocab_neg)\n",
        "\n",
        "# Specify the model for the mediator\n",
        "mediator_model = sm.OLS.from_formula('cpeur2_baseline ~ income_baseline + high_educ_baseline + sex_baseline + race_ethnicity_baseline + age_2year + married_baseline + bmi_2year', data=high_picvocab_neg)\n",
        "\n",
        "# Set up the mediation analysis model\n",
        "med = Mediation(outcome_model, mediator_model, 'income_baseline', 'cpeur2_baseline')\n",
        "\n",
        "# Fit the mediation model\n",
        "med_result = med.fit()\n",
        "\n",
        "# Print the results\n",
        "print(med_result.summary())"
      ],
      "metadata": {
        "id": "mhtZejnU1zXS"
      },
      "execution_count": null,
      "outputs": []
    },
    {
      "cell_type": "code",
      "source": [
        "model = smf.ols('cpeur2_baseline ~ income_baseline + high_educ_baseline + sex_baseline + race_ethnicity_baseline + age_2year + married_baseline + bmi_2year', data=high_picvocab_neg).fit()\n",
        "\n",
        "# Print the summary of the regression model\n",
        "print(model.summary())"
      ],
      "metadata": {
        "id": "ReS6mFBH1zXS"
      },
      "execution_count": null,
      "outputs": []
    },
    {
      "cell_type": "code",
      "source": [
        "# Specify the model for the outcome\n",
        "outcome_model = sm.OLS.from_formula('nihtbx_picvocab_uncorrected_2year ~ cpeur2_baseline + income_baseline + high_educ_baseline + sex_baseline + race_ethnicity_baseline + age_2year + married_baseline + bmi_2year', data=high_picvocab_pos)\n",
        "\n",
        "# Specify the model for the mediator\n",
        "mediator_model = sm.OLS.from_formula('cpeur2_baseline ~ income_baseline + high_educ_baseline + sex_baseline + race_ethnicity_baseline + age_2year + married_baseline + bmi_2year', data=high_picvocab_pos)\n",
        "\n",
        "# Set up the mediation analysis model\n",
        "med = Mediation(outcome_model, mediator_model, 'income_baseline', 'cpeur2_baseline')\n",
        "\n",
        "# Fit the mediation model\n",
        "med_result = med.fit()\n",
        "\n",
        "# Print the results\n",
        "print(med_result.summary())"
      ],
      "metadata": {
        "id": "ZglWzyjr1zXS"
      },
      "execution_count": null,
      "outputs": []
    },
    {
      "cell_type": "code",
      "source": [
        "model = smf.ols('cpeur2_baseline ~ income_baseline + high_educ_baseline + sex_baseline + race_ethnicity_baseline + age_2year + married_baseline + bmi_2year', data=high_picvocab_pos).fit()\n",
        "\n",
        "# Print the summary of the regression model\n",
        "print(model.summary())"
      ],
      "metadata": {
        "id": "tBPTd3Ul1zXT"
      },
      "execution_count": null,
      "outputs": []
    },
    {
      "cell_type": "code",
      "source": [
        "# Specify the model for the outcome\n",
        "outcome_model = sm.OLS.from_formula('nihtbx_picvocab_uncorrected_2year ~ cpeur2_baseline + income_baseline + high_educ_baseline + sex_baseline + race_ethnicity_baseline + age_2year + married_baseline + bmi_2year', data=df_low)\n",
        "\n",
        "# Specify the model for the mediator\n",
        "mediator_model = sm.OLS.from_formula('cpeur2_baseline ~ income_baseline + high_educ_baseline + sex_baseline + race_ethnicity_baseline + age_2year + married_baseline + bmi_2year', data=df_low)\n",
        "\n",
        "# Set up the mediation analysis model\n",
        "med = Mediation(outcome_model, mediator_model, 'income_baseline', 'cpeur2_baseline')\n",
        "\n",
        "# Fit the mediation model\n",
        "med_result = med.fit()\n",
        "\n",
        "# Print the results\n",
        "print(med_result.summary())"
      ],
      "metadata": {
        "id": "V9VUM7Q51zXT"
      },
      "execution_count": null,
      "outputs": []
    },
    {
      "cell_type": "code",
      "source": [
        "model = smf.ols('cpeur2_baseline ~ income_baseline + high_educ_baseline + sex_baseline + race_ethnicity_baseline + age_2year + married_baseline + bmi_2year', data=df_low).fit()\n",
        "\n",
        "# Print the summary of the regression model\n",
        "print(model.summary())"
      ],
      "metadata": {
        "id": "MkXmzKwq1zXT"
      },
      "execution_count": null,
      "outputs": []
    },
    {
      "cell_type": "code",
      "source": [
        "# Specify the model for the outcome\n",
        "outcome_model = sm.OLS.from_formula('nihtbx_picvocab_uncorrected_2year ~ cpeur2_baseline + income_baseline + high_educ_baseline + sex_baseline + race_ethnicity_baseline + age_2year + married_baseline + bmi_2year', data=df_high)\n",
        "\n",
        "# Specify the model for the mediator\n",
        "mediator_model = sm.OLS.from_formula('cpeur2_baseline ~ income_baseline + high_educ_baseline + sex_baseline + race_ethnicity_baseline + age_2year + married_baseline + bmi_2year', data=df_high)\n",
        "\n",
        "# Set up the mediation analysis model\n",
        "med = Mediation(outcome_model, mediator_model, 'income_baseline', 'cpeur2_baseline')\n",
        "\n",
        "# Fit the mediation model\n",
        "med_result = med.fit()\n",
        "\n",
        "# Print the results\n",
        "print(med_result.summary())"
      ],
      "metadata": {
        "id": "zR9OEwsz1zXT"
      },
      "execution_count": null,
      "outputs": []
    },
    {
      "cell_type": "code",
      "source": [
        "model = smf.ols('cpeur2_baseline ~ income_baseline + high_educ_baseline + sex_baseline + race_ethnicity_baseline + age_2year + married_baseline + bmi_2year', data=df_high).fit()\n",
        "\n",
        "# Print the summary of the regression model\n",
        "print(model.summary())"
      ],
      "metadata": {
        "id": "cOGy6jT31zXT"
      },
      "execution_count": null,
      "outputs": []
    },
    {
      "cell_type": "code",
      "source": [
        "##"
      ],
      "metadata": {
        "id": "Yw4CDa7n2Ui0"
      },
      "execution_count": null,
      "outputs": []
    },
    {
      "cell_type": "code",
      "source": [
        "# Specify the model for the outcome\n",
        "outcome_model = sm.OLS.from_formula('nihtbx_reading_uncorrected_2year ~ upps_positive_2year + income_baseline + high_educ_baseline + sex_baseline + race_ethnicity_baseline + age_2year + married_baseline + bmi_2year', data=low_reading_neg)\n",
        "\n",
        "# Specify the model for the mediator\n",
        "mediator_model = sm.OLS.from_formula('upps_positive_2year ~ income_baseline + high_educ_baseline + sex_baseline + race_ethnicity_baseline + age_2year + married_baseline + bmi_2year', data=low_reading_neg)\n",
        "\n",
        "# Set up the mediation analysis model\n",
        "med = Mediation(outcome_model, mediator_model, 'income_baseline', 'upps_positive_2year')\n",
        "\n",
        "# Fit the mediation model\n",
        "med_result = med.fit()\n",
        "\n",
        "# Print the results\n",
        "print(med_result.summary())"
      ],
      "metadata": {
        "id": "O-LpH-wG4mhk"
      },
      "execution_count": null,
      "outputs": []
    },
    {
      "cell_type": "code",
      "source": [
        "model = smf.ols('upps_positive_2year ~ income_baseline + high_educ_baseline + sex_baseline + race_ethnicity_baseline + age_2year + married_baseline + bmi_2year', data=low_reading_neg).fit()\n",
        "\n",
        "# Print the summary of the regression model\n",
        "print(model.summary())"
      ],
      "metadata": {
        "id": "OCTp4HAj4mhm"
      },
      "execution_count": null,
      "outputs": []
    },
    {
      "cell_type": "code",
      "source": [
        "# Specify the model for the outcome\n",
        "outcome_model = sm.OLS.from_formula('nihtbx_reading_uncorrected_2year ~ upps_positive_2year + income_baseline + high_educ_baseline + sex_baseline + race_ethnicity_baseline + age_2year + married_baseline + bmi_2year', data=low_reading_pos)\n",
        "\n",
        "# Specify the model for the mediator\n",
        "mediator_model = sm.OLS.from_formula('upps_positive_2year ~ income_baseline + high_educ_baseline + sex_baseline + race_ethnicity_baseline + age_2year + married_baseline + bmi_2year', data=low_reading_pos)\n",
        "\n",
        "# Set up the mediation analysis model\n",
        "med = Mediation(outcome_model, mediator_model, 'income_baseline', 'upps_positive_2year')\n",
        "\n",
        "# Fit the mediation model\n",
        "med_result = med.fit()\n",
        "\n",
        "# Print the results\n",
        "print(med_result.summary())"
      ],
      "metadata": {
        "id": "81XzgE8C4mhm"
      },
      "execution_count": null,
      "outputs": []
    },
    {
      "cell_type": "code",
      "source": [
        "model = smf.ols('upps_positive_2year ~ income_baseline + high_educ_baseline + sex_baseline + race_ethnicity_baseline + age_2year + married_baseline + bmi_2year', data=low_reading_pos).fit()\n",
        "\n",
        "# Print the summary of the regression model\n",
        "print(model.summary())"
      ],
      "metadata": {
        "id": "dS2t8mqQ4mhm"
      },
      "execution_count": null,
      "outputs": []
    },
    {
      "cell_type": "code",
      "source": [
        "# Specify the model for the outcome\n",
        "outcome_model = sm.OLS.from_formula('nihtbx_reading_uncorrected_2year ~ upps_positive_2year + income_baseline + high_educ_baseline + sex_baseline + race_ethnicity_baseline + age_2year + married_baseline + bmi_2year', data=high_reading_neg)\n",
        "\n",
        "# Specify the model for the mediator\n",
        "mediator_model = sm.OLS.from_formula('upps_positive_2year ~ income_baseline + high_educ_baseline + sex_baseline + race_ethnicity_baseline + age_2year + married_baseline + bmi_2year', data=high_reading_neg)\n",
        "\n",
        "# Set up the mediation analysis model\n",
        "med = Mediation(outcome_model, mediator_model, 'income_baseline', 'upps_positive_2year')\n",
        "\n",
        "# Fit the mediation model\n",
        "med_result = med.fit()\n",
        "\n",
        "# Print the results\n",
        "print(med_result.summary())"
      ],
      "metadata": {
        "id": "GkUFWl9I4mhm"
      },
      "execution_count": null,
      "outputs": []
    },
    {
      "cell_type": "code",
      "source": [
        "model = smf.ols('upps_positive_2year ~ income_baseline + high_educ_baseline + sex_baseline + race_ethnicity_baseline + age_2year + married_baseline + bmi_2year', data=high_reading_neg).fit()\n",
        "\n",
        "# Print the summary of the regression model\n",
        "print(model.summary())"
      ],
      "metadata": {
        "id": "8iotL27q4mhm"
      },
      "execution_count": null,
      "outputs": []
    },
    {
      "cell_type": "code",
      "source": [
        "# Specify the model for the outcome\n",
        "outcome_model = sm.OLS.from_formula('nihtbx_reading_uncorrected_2year ~ upps_positive_2year + income_baseline + high_educ_baseline + sex_baseline + race_ethnicity_baseline + age_2year + married_baseline + bmi_2year', data=high_reading_pos)\n",
        "\n",
        "# Specify the model for the mediator\n",
        "mediator_model = sm.OLS.from_formula('upps_positive_2year ~ income_baseline + high_educ_baseline + sex_baseline + race_ethnicity_baseline + age_2year + married_baseline + bmi_2year', data=high_reading_pos)\n",
        "\n",
        "# Set up the mediation analysis model\n",
        "med = Mediation(outcome_model, mediator_model, 'income_baseline', 'upps_positive_2year')\n",
        "\n",
        "# Fit the mediation model\n",
        "med_result = med.fit()\n",
        "\n",
        "# Print the results\n",
        "print(med_result.summary())"
      ],
      "metadata": {
        "id": "G4kC9PQb4mhn"
      },
      "execution_count": null,
      "outputs": []
    },
    {
      "cell_type": "code",
      "source": [
        "model = smf.ols('upps_positive_2year ~ income_baseline + high_educ_baseline + sex_baseline + race_ethnicity_baseline + age_2year + married_baseline + bmi_2year', data=high_reading_pos).fit()\n",
        "\n",
        "# Print the summary of the regression model\n",
        "print(model.summary())"
      ],
      "metadata": {
        "id": "i1nP06LL4mhn"
      },
      "execution_count": null,
      "outputs": []
    },
    {
      "cell_type": "code",
      "source": [
        "# Specify the model for the outcome\n",
        "outcome_model = sm.OLS.from_formula('nihtbx_reading_uncorrected_2year ~ upps_positive_2year + income_baseline + high_educ_baseline + sex_baseline + race_ethnicity_baseline + age_2year + married_baseline + bmi_2year', data=df_low)\n",
        "\n",
        "# Specify the model for the mediator\n",
        "mediator_model = sm.OLS.from_formula('upps_positive_2year ~ income_baseline + high_educ_baseline + sex_baseline + race_ethnicity_baseline + age_2year + married_baseline + bmi_2year', data=df_low)\n",
        "\n",
        "# Set up the mediation analysis model\n",
        "med = Mediation(outcome_model, mediator_model, 'income_baseline', 'upps_positive_2year')\n",
        "\n",
        "# Fit the mediation model\n",
        "med_result = med.fit()\n",
        "\n",
        "# Print the results\n",
        "print(med_result.summary())"
      ],
      "metadata": {
        "id": "l6UslBl04mhn"
      },
      "execution_count": null,
      "outputs": []
    },
    {
      "cell_type": "code",
      "source": [
        "model = smf.ols('upps_positive_2year ~ income_baseline + high_educ_baseline + sex_baseline + race_ethnicity_baseline + age_2year + married_baseline + bmi_2year', data=df_low).fit()\n",
        "\n",
        "# Print the summary of the regression model\n",
        "print(model.summary())"
      ],
      "metadata": {
        "id": "j587Yp-R4mhn"
      },
      "execution_count": null,
      "outputs": []
    },
    {
      "cell_type": "code",
      "source": [
        "# Specify the model for the outcome\n",
        "outcome_model = sm.OLS.from_formula('nihtbx_reading_uncorrected_2year ~ upps_positive_2year + income_baseline + high_educ_baseline + sex_baseline + race_ethnicity_baseline + age_2year + married_baseline + bmi_2year', data=df_high)\n",
        "\n",
        "# Specify the model for the mediator\n",
        "mediator_model = sm.OLS.from_formula('upps_positive_2year ~ income_baseline + high_educ_baseline + sex_baseline + race_ethnicity_baseline + age_2year + married_baseline + bmi_2year', data=df_high)\n",
        "\n",
        "# Set up the mediation analysis model\n",
        "med = Mediation(outcome_model, mediator_model, 'income_baseline', 'upps_positive_2year')\n",
        "\n",
        "# Fit the mediation model\n",
        "med_result = med.fit()\n",
        "\n",
        "# Print the results\n",
        "print(med_result.summary())"
      ],
      "metadata": {
        "id": "M3h832_S4mhn"
      },
      "execution_count": null,
      "outputs": []
    },
    {
      "cell_type": "code",
      "source": [
        "model = smf.ols('upps_positive_2year ~ income_baseline + high_educ_baseline + sex_baseline + race_ethnicity_baseline + age_2year + married_baseline + bmi_2year', data=df_high).fit()\n",
        "\n",
        "# Print the summary of the regression model\n",
        "print(model.summary())"
      ],
      "metadata": {
        "id": "zyQYOpd14mhn"
      },
      "execution_count": null,
      "outputs": []
    },
    {
      "cell_type": "code",
      "source": [
        "##"
      ],
      "metadata": {
        "id": "X1zrhEjZ72o4"
      },
      "execution_count": null,
      "outputs": []
    },
    {
      "cell_type": "code",
      "source": [
        "# Specify the model for the outcome\n",
        "outcome_model = sm.OLS.from_formula('nihtbx_reading_uncorrected_2year ~ prosocial_p_baseline + income_baseline + high_educ_baseline + sex_baseline + race_ethnicity_baseline + age_2year + married_baseline + bmi_2year', data=low_reading_neg)\n",
        "\n",
        "# Specify the model for the mediator\n",
        "mediator_model = sm.OLS.from_formula('prosocial_p_baseline ~ income_baseline + high_educ_baseline + sex_baseline + race_ethnicity_baseline + age_2year + married_baseline + bmi_2year', data=low_reading_neg)\n",
        "\n",
        "# Set up the mediation analysis model\n",
        "med = Mediation(outcome_model, mediator_model, 'income_baseline', 'prosocial_p_baseline')\n",
        "\n",
        "# Fit the mediation model\n",
        "med_result = med.fit()\n",
        "\n",
        "# Print the results\n",
        "print(med_result.summary())"
      ],
      "metadata": {
        "id": "Ch2cp6w2754t"
      },
      "execution_count": null,
      "outputs": []
    },
    {
      "cell_type": "code",
      "source": [
        "model = smf.ols('prosocial_p_baseline ~ income_baseline + high_educ_baseline + sex_baseline + race_ethnicity_baseline + age_2year + married_baseline + bmi_2year', data=low_reading_neg).fit()\n",
        "\n",
        "# Print the summary of the regression model\n",
        "print(model.summary())"
      ],
      "metadata": {
        "id": "T-sqdXVI754u"
      },
      "execution_count": null,
      "outputs": []
    },
    {
      "cell_type": "code",
      "source": [
        "# Specify the model for the outcome\n",
        "outcome_model = sm.OLS.from_formula('nihtbx_reading_uncorrected_2year ~ prosocial_p_baseline + income_baseline + high_educ_baseline + sex_baseline + race_ethnicity_baseline + age_2year + married_baseline + bmi_2year', data=low_reading_pos)\n",
        "\n",
        "# Specify the model for the mediator\n",
        "mediator_model = sm.OLS.from_formula('prosocial_p_baseline ~ income_baseline + high_educ_baseline + sex_baseline + race_ethnicity_baseline + age_2year + married_baseline + bmi_2year', data=low_reading_pos)\n",
        "\n",
        "# Set up the mediation analysis model\n",
        "med = Mediation(outcome_model, mediator_model, 'income_baseline', 'prosocial_p_baseline')\n",
        "\n",
        "# Fit the mediation model\n",
        "med_result = med.fit()\n",
        "\n",
        "# Print the results\n",
        "print(med_result.summary())"
      ],
      "metadata": {
        "id": "ntLefe9k754u"
      },
      "execution_count": null,
      "outputs": []
    },
    {
      "cell_type": "code",
      "source": [
        "model = smf.ols('prosocial_p_baseline ~ income_baseline + high_educ_baseline + sex_baseline + race_ethnicity_baseline + age_2year + married_baseline + bmi_2year', data=low_reading_pos).fit()\n",
        "\n",
        "# Print the summary of the regression model\n",
        "print(model.summary())"
      ],
      "metadata": {
        "id": "nQ--x96H754u"
      },
      "execution_count": null,
      "outputs": []
    },
    {
      "cell_type": "code",
      "source": [
        "# Specify the model for the outcome\n",
        "outcome_model = sm.OLS.from_formula('nihtbx_reading_uncorrected_2year ~ prosocial_p_baseline + income_baseline + high_educ_baseline + sex_baseline + race_ethnicity_baseline + age_2year + married_baseline + bmi_2year', data=high_reading_neg)\n",
        "\n",
        "# Specify the model for the mediator\n",
        "mediator_model = sm.OLS.from_formula('prosocial_p_baseline ~ income_baseline + high_educ_baseline + sex_baseline + race_ethnicity_baseline + age_2year + married_baseline + bmi_2year', data=high_reading_neg)\n",
        "\n",
        "# Set up the mediation analysis model\n",
        "med = Mediation(outcome_model, mediator_model, 'income_baseline', 'prosocial_p_baseline')\n",
        "\n",
        "# Fit the mediation model\n",
        "med_result = med.fit()\n",
        "\n",
        "# Print the results\n",
        "print(med_result.summary())"
      ],
      "metadata": {
        "id": "6e0md36d754v"
      },
      "execution_count": null,
      "outputs": []
    },
    {
      "cell_type": "code",
      "source": [
        "model = smf.ols('prosocial_p_baseline ~ income_baseline + high_educ_baseline + sex_baseline + race_ethnicity_baseline + age_2year + married_baseline + bmi_2year', data=high_reading_neg).fit()\n",
        "\n",
        "# Print the summary of the regression model\n",
        "print(model.summary())"
      ],
      "metadata": {
        "id": "cy-4aNpI754v"
      },
      "execution_count": null,
      "outputs": []
    },
    {
      "cell_type": "code",
      "source": [
        "# Specify the model for the outcome\n",
        "outcome_model = sm.OLS.from_formula('nihtbx_reading_uncorrected_2year ~ prosocial_p_baseline + income_baseline + high_educ_baseline + sex_baseline + race_ethnicity_baseline + age_2year + married_baseline + bmi_2year', data=high_reading_pos)\n",
        "\n",
        "# Specify the model for the mediator\n",
        "mediator_model = sm.OLS.from_formula('prosocial_p_baseline ~ income_baseline + high_educ_baseline + sex_baseline + race_ethnicity_baseline + age_2year + married_baseline + bmi_2year', data=high_reading_pos)\n",
        "\n",
        "# Set up the mediation analysis model\n",
        "med = Mediation(outcome_model, mediator_model, 'income_baseline', 'prosocial_p_baseline')\n",
        "\n",
        "# Fit the mediation model\n",
        "med_result = med.fit()\n",
        "\n",
        "# Print the results\n",
        "print(med_result.summary())"
      ],
      "metadata": {
        "id": "d13HjEK1754v"
      },
      "execution_count": null,
      "outputs": []
    },
    {
      "cell_type": "code",
      "source": [
        "model = smf.ols('prosocial_p_baseline ~ income_baseline + high_educ_baseline + sex_baseline + race_ethnicity_baseline + age_2year + married_baseline + bmi_2year', data=high_reading_pos).fit()\n",
        "\n",
        "# Print the summary of the regression model\n",
        "print(model.summary())"
      ],
      "metadata": {
        "id": "dmbdM5Yf754v"
      },
      "execution_count": null,
      "outputs": []
    },
    {
      "cell_type": "code",
      "source": [
        "# Specify the model for the outcome\n",
        "outcome_model = sm.OLS.from_formula('nihtbx_reading_uncorrected_2year ~ prosocial_p_baseline + income_baseline + high_educ_baseline + sex_baseline + race_ethnicity_baseline + age_2year + married_baseline + bmi_2year', data=df_low)\n",
        "\n",
        "# Specify the model for the mediator\n",
        "mediator_model = sm.OLS.from_formula('prosocial_p_baseline ~ income_baseline + high_educ_baseline + sex_baseline + race_ethnicity_baseline + age_2year + married_baseline + bmi_2year', data=df_low)\n",
        "\n",
        "# Set up the mediation analysis model\n",
        "med = Mediation(outcome_model, mediator_model, 'income_baseline', 'prosocial_p_baseline')\n",
        "\n",
        "# Fit the mediation model\n",
        "med_result = med.fit()\n",
        "\n",
        "# Print the results\n",
        "print(med_result.summary())"
      ],
      "metadata": {
        "id": "wrMc79xR754v"
      },
      "execution_count": null,
      "outputs": []
    },
    {
      "cell_type": "code",
      "source": [
        "model = smf.ols('prosocial_p_baseline ~ income_baseline + high_educ_baseline + sex_baseline + race_ethnicity_baseline + age_2year + married_baseline + bmi_2year', data=df_low).fit()\n",
        "\n",
        "# Print the summary of the regression model\n",
        "print(model.summary())"
      ],
      "metadata": {
        "id": "S4a-XRAO754v"
      },
      "execution_count": null,
      "outputs": []
    },
    {
      "cell_type": "code",
      "source": [
        "# Specify the model for the outcome\n",
        "outcome_model = sm.OLS.from_formula('nihtbx_reading_uncorrected_2year ~ prosocial_p_baseline + income_baseline + high_educ_baseline + sex_baseline + race_ethnicity_baseline + age_2year + married_baseline + bmi_2year', data=df_high)\n",
        "\n",
        "# Specify the model for the mediator\n",
        "mediator_model = sm.OLS.from_formula('prosocial_p_baseline ~ income_baseline + high_educ_baseline + sex_baseline + race_ethnicity_baseline + age_2year + married_baseline + bmi_2year', data=df_high)\n",
        "\n",
        "# Set up the mediation analysis model\n",
        "med = Mediation(outcome_model, mediator_model, 'income_baseline', 'prosocial_p_baseline')\n",
        "\n",
        "# Fit the mediation model\n",
        "med_result = med.fit()\n",
        "\n",
        "# Print the results\n",
        "print(med_result.summary())"
      ],
      "metadata": {
        "id": "W1c19mGF754v"
      },
      "execution_count": null,
      "outputs": []
    },
    {
      "cell_type": "code",
      "source": [
        "model = smf.ols('prosocial_p_baseline ~ income_baseline + high_educ_baseline + sex_baseline + race_ethnicity_baseline + age_2year + married_baseline + bmi_2year', data=df_high).fit()\n",
        "\n",
        "# Print the summary of the regression model\n",
        "print(model.summary())"
      ],
      "metadata": {
        "id": "aoX6prQ4754w"
      },
      "execution_count": null,
      "outputs": []
    }
  ]
}